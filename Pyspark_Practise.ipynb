{
  "nbformat": 4,
  "nbformat_minor": 0,
  "metadata": {
    "colab": {
      "provenance": [],
      "collapsed_sections": [],
      "authorship_tag": "ABX9TyMokXSZu5zfDH53Toska8OH"
    },
    "kernelspec": {
      "name": "python3",
      "display_name": "Python 3"
    },
    "language_info": {
      "name": "python"
    }
  },
  "cells": [
    {
      "cell_type": "markdown",
      "source": [
        "# Session - 1"
      ],
      "metadata": {
        "id": "lAN0ZlFsXbFH"
      }
    },
    {
      "cell_type": "code",
      "execution_count": 1,
      "metadata": {
        "colab": {
          "base_uri": "https://localhost:8080/"
        },
        "id": "lmryfoXjIuYO",
        "outputId": "b9774e8f-954e-41b2-92cd-ce26166042f8"
      },
      "outputs": [
        {
          "output_type": "stream",
          "name": "stdout",
          "text": [
            "Looking in indexes: https://pypi.org/simple, https://us-python.pkg.dev/colab-wheels/public/simple/\n",
            "Collecting pyspark\n",
            "  Downloading pyspark-3.3.0.tar.gz (281.3 MB)\n",
            "\u001b[K     |████████████████████████████████| 281.3 MB 47 kB/s \n",
            "\u001b[?25hCollecting py4j==0.10.9.5\n",
            "  Downloading py4j-0.10.9.5-py2.py3-none-any.whl (199 kB)\n",
            "\u001b[K     |████████████████████████████████| 199 kB 60.2 MB/s \n",
            "\u001b[?25hBuilding wheels for collected packages: pyspark\n",
            "  Building wheel for pyspark (setup.py) ... \u001b[?25l\u001b[?25hdone\n",
            "  Created wheel for pyspark: filename=pyspark-3.3.0-py2.py3-none-any.whl size=281764026 sha256=98ca100d44e19afc872ab2e1d3b62ff42f8d5af9d1eefc132ec9ff31745a867b\n",
            "  Stored in directory: /root/.cache/pip/wheels/7a/8e/1b/f73a52650d2e5f337708d9f6a1750d451a7349a867f928b885\n",
            "Successfully built pyspark\n",
            "Installing collected packages: py4j, pyspark\n",
            "Successfully installed py4j-0.10.9.5 pyspark-3.3.0\n"
          ]
        }
      ],
      "source": [
        "!pip install pyspark "
      ]
    },
    {
      "cell_type": "code",
      "source": [
        "import pyspark"
      ],
      "metadata": {
        "id": "EBbVlo86OZ3h"
      },
      "execution_count": 2,
      "outputs": []
    },
    {
      "cell_type": "code",
      "source": [
        "import pandas as pd"
      ],
      "metadata": {
        "id": "quEhhlaqVnjm"
      },
      "execution_count": 3,
      "outputs": []
    },
    {
      "cell_type": "code",
      "source": [
        "df= pd.read_csv('/content/sample_data/california_housing_train.csv')"
      ],
      "metadata": {
        "id": "5s__GD79V1NS"
      },
      "execution_count": null,
      "outputs": []
    },
    {
      "cell_type": "code",
      "source": [
        "df.info()"
      ],
      "metadata": {
        "colab": {
          "base_uri": "https://localhost:8080/"
        },
        "id": "I046B_XKV1Cg",
        "outputId": "76bc2e71-73d0-4165-8a7f-cc25c62aaa88"
      },
      "execution_count": null,
      "outputs": [
        {
          "output_type": "stream",
          "name": "stdout",
          "text": [
            "<class 'pandas.core.frame.DataFrame'>\n",
            "RangeIndex: 17000 entries, 0 to 16999\n",
            "Data columns (total 9 columns):\n",
            " #   Column              Non-Null Count  Dtype  \n",
            "---  ------              --------------  -----  \n",
            " 0   longitude           17000 non-null  float64\n",
            " 1   latitude            17000 non-null  float64\n",
            " 2   housing_median_age  17000 non-null  float64\n",
            " 3   total_rooms         17000 non-null  float64\n",
            " 4   total_bedrooms      17000 non-null  float64\n",
            " 5   population          17000 non-null  float64\n",
            " 6   households          17000 non-null  float64\n",
            " 7   median_income       17000 non-null  float64\n",
            " 8   median_house_value  17000 non-null  float64\n",
            "dtypes: float64(9)\n",
            "memory usage: 1.2 MB\n"
          ]
        }
      ]
    },
    {
      "cell_type": "code",
      "source": [
        "df.head()"
      ],
      "metadata": {
        "colab": {
          "base_uri": "https://localhost:8080/",
          "height": 206
        },
        "id": "Y5437XYvV05h",
        "outputId": "0372c69f-24e5-4bb0-c10a-9dcadb4689ca"
      },
      "execution_count": null,
      "outputs": [
        {
          "output_type": "execute_result",
          "data": {
            "text/plain": [
              "   longitude  latitude  housing_median_age  total_rooms  total_bedrooms  \\\n",
              "0    -114.31     34.19                15.0       5612.0          1283.0   \n",
              "1    -114.47     34.40                19.0       7650.0          1901.0   \n",
              "2    -114.56     33.69                17.0        720.0           174.0   \n",
              "3    -114.57     33.64                14.0       1501.0           337.0   \n",
              "4    -114.57     33.57                20.0       1454.0           326.0   \n",
              "\n",
              "   population  households  median_income  median_house_value  \n",
              "0      1015.0       472.0         1.4936             66900.0  \n",
              "1      1129.0       463.0         1.8200             80100.0  \n",
              "2       333.0       117.0         1.6509             85700.0  \n",
              "3       515.0       226.0         3.1917             73400.0  \n",
              "4       624.0       262.0         1.9250             65500.0  "
            ],
            "text/html": [
              "\n",
              "  <div id=\"df-4d588d5f-7b9e-4d84-8803-1f050708897d\">\n",
              "    <div class=\"colab-df-container\">\n",
              "      <div>\n",
              "<style scoped>\n",
              "    .dataframe tbody tr th:only-of-type {\n",
              "        vertical-align: middle;\n",
              "    }\n",
              "\n",
              "    .dataframe tbody tr th {\n",
              "        vertical-align: top;\n",
              "    }\n",
              "\n",
              "    .dataframe thead th {\n",
              "        text-align: right;\n",
              "    }\n",
              "</style>\n",
              "<table border=\"1\" class=\"dataframe\">\n",
              "  <thead>\n",
              "    <tr style=\"text-align: right;\">\n",
              "      <th></th>\n",
              "      <th>longitude</th>\n",
              "      <th>latitude</th>\n",
              "      <th>housing_median_age</th>\n",
              "      <th>total_rooms</th>\n",
              "      <th>total_bedrooms</th>\n",
              "      <th>population</th>\n",
              "      <th>households</th>\n",
              "      <th>median_income</th>\n",
              "      <th>median_house_value</th>\n",
              "    </tr>\n",
              "  </thead>\n",
              "  <tbody>\n",
              "    <tr>\n",
              "      <th>0</th>\n",
              "      <td>-114.31</td>\n",
              "      <td>34.19</td>\n",
              "      <td>15.0</td>\n",
              "      <td>5612.0</td>\n",
              "      <td>1283.0</td>\n",
              "      <td>1015.0</td>\n",
              "      <td>472.0</td>\n",
              "      <td>1.4936</td>\n",
              "      <td>66900.0</td>\n",
              "    </tr>\n",
              "    <tr>\n",
              "      <th>1</th>\n",
              "      <td>-114.47</td>\n",
              "      <td>34.40</td>\n",
              "      <td>19.0</td>\n",
              "      <td>7650.0</td>\n",
              "      <td>1901.0</td>\n",
              "      <td>1129.0</td>\n",
              "      <td>463.0</td>\n",
              "      <td>1.8200</td>\n",
              "      <td>80100.0</td>\n",
              "    </tr>\n",
              "    <tr>\n",
              "      <th>2</th>\n",
              "      <td>-114.56</td>\n",
              "      <td>33.69</td>\n",
              "      <td>17.0</td>\n",
              "      <td>720.0</td>\n",
              "      <td>174.0</td>\n",
              "      <td>333.0</td>\n",
              "      <td>117.0</td>\n",
              "      <td>1.6509</td>\n",
              "      <td>85700.0</td>\n",
              "    </tr>\n",
              "    <tr>\n",
              "      <th>3</th>\n",
              "      <td>-114.57</td>\n",
              "      <td>33.64</td>\n",
              "      <td>14.0</td>\n",
              "      <td>1501.0</td>\n",
              "      <td>337.0</td>\n",
              "      <td>515.0</td>\n",
              "      <td>226.0</td>\n",
              "      <td>3.1917</td>\n",
              "      <td>73400.0</td>\n",
              "    </tr>\n",
              "    <tr>\n",
              "      <th>4</th>\n",
              "      <td>-114.57</td>\n",
              "      <td>33.57</td>\n",
              "      <td>20.0</td>\n",
              "      <td>1454.0</td>\n",
              "      <td>326.0</td>\n",
              "      <td>624.0</td>\n",
              "      <td>262.0</td>\n",
              "      <td>1.9250</td>\n",
              "      <td>65500.0</td>\n",
              "    </tr>\n",
              "  </tbody>\n",
              "</table>\n",
              "</div>\n",
              "      <button class=\"colab-df-convert\" onclick=\"convertToInteractive('df-4d588d5f-7b9e-4d84-8803-1f050708897d')\"\n",
              "              title=\"Convert this dataframe to an interactive table.\"\n",
              "              style=\"display:none;\">\n",
              "        \n",
              "  <svg xmlns=\"http://www.w3.org/2000/svg\" height=\"24px\"viewBox=\"0 0 24 24\"\n",
              "       width=\"24px\">\n",
              "    <path d=\"M0 0h24v24H0V0z\" fill=\"none\"/>\n",
              "    <path d=\"M18.56 5.44l.94 2.06.94-2.06 2.06-.94-2.06-.94-.94-2.06-.94 2.06-2.06.94zm-11 1L8.5 8.5l.94-2.06 2.06-.94-2.06-.94L8.5 2.5l-.94 2.06-2.06.94zm10 10l.94 2.06.94-2.06 2.06-.94-2.06-.94-.94-2.06-.94 2.06-2.06.94z\"/><path d=\"M17.41 7.96l-1.37-1.37c-.4-.4-.92-.59-1.43-.59-.52 0-1.04.2-1.43.59L10.3 9.45l-7.72 7.72c-.78.78-.78 2.05 0 2.83L4 21.41c.39.39.9.59 1.41.59.51 0 1.02-.2 1.41-.59l7.78-7.78 2.81-2.81c.8-.78.8-2.07 0-2.86zM5.41 20L4 18.59l7.72-7.72 1.47 1.35L5.41 20z\"/>\n",
              "  </svg>\n",
              "      </button>\n",
              "      \n",
              "  <style>\n",
              "    .colab-df-container {\n",
              "      display:flex;\n",
              "      flex-wrap:wrap;\n",
              "      gap: 12px;\n",
              "    }\n",
              "\n",
              "    .colab-df-convert {\n",
              "      background-color: #E8F0FE;\n",
              "      border: none;\n",
              "      border-radius: 50%;\n",
              "      cursor: pointer;\n",
              "      display: none;\n",
              "      fill: #1967D2;\n",
              "      height: 32px;\n",
              "      padding: 0 0 0 0;\n",
              "      width: 32px;\n",
              "    }\n",
              "\n",
              "    .colab-df-convert:hover {\n",
              "      background-color: #E2EBFA;\n",
              "      box-shadow: 0px 1px 2px rgba(60, 64, 67, 0.3), 0px 1px 3px 1px rgba(60, 64, 67, 0.15);\n",
              "      fill: #174EA6;\n",
              "    }\n",
              "\n",
              "    [theme=dark] .colab-df-convert {\n",
              "      background-color: #3B4455;\n",
              "      fill: #D2E3FC;\n",
              "    }\n",
              "\n",
              "    [theme=dark] .colab-df-convert:hover {\n",
              "      background-color: #434B5C;\n",
              "      box-shadow: 0px 1px 3px 1px rgba(0, 0, 0, 0.15);\n",
              "      filter: drop-shadow(0px 1px 2px rgba(0, 0, 0, 0.3));\n",
              "      fill: #FFFFFF;\n",
              "    }\n",
              "  </style>\n",
              "\n",
              "      <script>\n",
              "        const buttonEl =\n",
              "          document.querySelector('#df-4d588d5f-7b9e-4d84-8803-1f050708897d button.colab-df-convert');\n",
              "        buttonEl.style.display =\n",
              "          google.colab.kernel.accessAllowed ? 'block' : 'none';\n",
              "\n",
              "        async function convertToInteractive(key) {\n",
              "          const element = document.querySelector('#df-4d588d5f-7b9e-4d84-8803-1f050708897d');\n",
              "          const dataTable =\n",
              "            await google.colab.kernel.invokeFunction('convertToInteractive',\n",
              "                                                     [key], {});\n",
              "          if (!dataTable) return;\n",
              "\n",
              "          const docLinkHtml = 'Like what you see? Visit the ' +\n",
              "            '<a target=\"_blank\" href=https://colab.research.google.com/notebooks/data_table.ipynb>data table notebook</a>'\n",
              "            + ' to learn more about interactive tables.';\n",
              "          element.innerHTML = '';\n",
              "          dataTable['output_type'] = 'display_data';\n",
              "          await google.colab.output.renderOutput(dataTable, element);\n",
              "          const docLink = document.createElement('div');\n",
              "          docLink.innerHTML = docLinkHtml;\n",
              "          element.appendChild(docLink);\n",
              "        }\n",
              "      </script>\n",
              "    </div>\n",
              "  </div>\n",
              "  "
            ]
          },
          "metadata": {},
          "execution_count": 13
        }
      ]
    },
    {
      "cell_type": "code",
      "source": [
        "df.info()"
      ],
      "metadata": {
        "colab": {
          "base_uri": "https://localhost:8080/"
        },
        "id": "n0EEhl4IVzm8",
        "outputId": "68c79ea0-2405-4ebd-f37f-4549a8d1e6da"
      },
      "execution_count": null,
      "outputs": [
        {
          "output_type": "stream",
          "name": "stdout",
          "text": [
            "<class 'pandas.core.frame.DataFrame'>\n",
            "RangeIndex: 17000 entries, 0 to 16999\n",
            "Data columns (total 9 columns):\n",
            " #   Column              Non-Null Count  Dtype  \n",
            "---  ------              --------------  -----  \n",
            " 0   longitude           17000 non-null  float64\n",
            " 1   latitude            17000 non-null  float64\n",
            " 2   housing_median_age  17000 non-null  float64\n",
            " 3   total_rooms         17000 non-null  float64\n",
            " 4   total_bedrooms      17000 non-null  float64\n",
            " 5   population          17000 non-null  float64\n",
            " 6   households          17000 non-null  float64\n",
            " 7   median_income       17000 non-null  float64\n",
            " 8   median_house_value  17000 non-null  float64\n",
            "dtypes: float64(9)\n",
            "memory usage: 1.2 MB\n"
          ]
        }
      ]
    },
    {
      "cell_type": "code",
      "source": [
        "from pyspark.sql import SparkSession"
      ],
      "metadata": {
        "id": "VvNT_z3vV0t_"
      },
      "execution_count": null,
      "outputs": []
    },
    {
      "cell_type": "code",
      "source": [
        "spark = SparkSession.builder.appName('Pyspark_practise').getOrCreate()"
      ],
      "metadata": {
        "id": "fKFmx3UFV0OQ"
      },
      "execution_count": null,
      "outputs": []
    },
    {
      "cell_type": "code",
      "source": [
        "spark"
      ],
      "metadata": {
        "colab": {
          "base_uri": "https://localhost:8080/",
          "height": 219
        },
        "id": "0zG6u83OV0C4",
        "outputId": "dd5e2c16-bd9c-4c6d-9f0c-f2cf97249295"
      },
      "execution_count": null,
      "outputs": [
        {
          "output_type": "execute_result",
          "data": {
            "text/plain": [
              "<pyspark.sql.session.SparkSession at 0x7f9004555f10>"
            ],
            "text/html": [
              "\n",
              "            <div>\n",
              "                <p><b>SparkSession - in-memory</b></p>\n",
              "                \n",
              "        <div>\n",
              "            <p><b>SparkContext</b></p>\n",
              "\n",
              "            <p><a href=\"http://557c9fd09bef:4040\">Spark UI</a></p>\n",
              "\n",
              "            <dl>\n",
              "              <dt>Version</dt>\n",
              "                <dd><code>v3.3.0</code></dd>\n",
              "              <dt>Master</dt>\n",
              "                <dd><code>local[*]</code></dd>\n",
              "              <dt>AppName</dt>\n",
              "                <dd><code>Pyspark_practise</code></dd>\n",
              "            </dl>\n",
              "        </div>\n",
              "        \n",
              "            </div>\n",
              "        "
            ]
          },
          "metadata": {},
          "execution_count": 16
        }
      ]
    },
    {
      "cell_type": "code",
      "source": [
        "dfpy = spark.read.csv('/content/sample_data/california_housing_train.csv')"
      ],
      "metadata": {
        "id": "qQuno1uHX9G5"
      },
      "execution_count": null,
      "outputs": []
    },
    {
      "cell_type": "code",
      "source": [
        "dfpy.show()"
      ],
      "metadata": {
        "colab": {
          "base_uri": "https://localhost:8080/"
        },
        "id": "jBtZiUuPX9lZ",
        "outputId": "8222fc99-62ab-4fa5-a0a2-fe9f40f7da35"
      },
      "execution_count": null,
      "outputs": [
        {
          "output_type": "stream",
          "name": "stdout",
          "text": [
            "+-----------+---------+------------------+-----------+--------------+-----------+-----------+-------------+------------------+\n",
            "|        _c0|      _c1|               _c2|        _c3|           _c4|        _c5|        _c6|          _c7|               _c8|\n",
            "+-----------+---------+------------------+-----------+--------------+-----------+-----------+-------------+------------------+\n",
            "|  longitude| latitude|housing_median_age|total_rooms|total_bedrooms| population| households|median_income|median_house_value|\n",
            "|-114.310000|34.190000|         15.000000|5612.000000|   1283.000000|1015.000000| 472.000000|     1.493600|      66900.000000|\n",
            "|-114.470000|34.400000|         19.000000|7650.000000|   1901.000000|1129.000000| 463.000000|     1.820000|      80100.000000|\n",
            "|-114.560000|33.690000|         17.000000| 720.000000|    174.000000| 333.000000| 117.000000|     1.650900|      85700.000000|\n",
            "|-114.570000|33.640000|         14.000000|1501.000000|    337.000000| 515.000000| 226.000000|     3.191700|      73400.000000|\n",
            "|-114.570000|33.570000|         20.000000|1454.000000|    326.000000| 624.000000| 262.000000|     1.925000|      65500.000000|\n",
            "|-114.580000|33.630000|         29.000000|1387.000000|    236.000000| 671.000000| 239.000000|     3.343800|      74000.000000|\n",
            "|-114.580000|33.610000|         25.000000|2907.000000|    680.000000|1841.000000| 633.000000|     2.676800|      82400.000000|\n",
            "|-114.590000|34.830000|         41.000000| 812.000000|    168.000000| 375.000000| 158.000000|     1.708300|      48500.000000|\n",
            "|-114.590000|33.610000|         34.000000|4789.000000|   1175.000000|3134.000000|1056.000000|     2.178200|      58400.000000|\n",
            "|-114.600000|34.830000|         46.000000|1497.000000|    309.000000| 787.000000| 271.000000|     2.190800|      48100.000000|\n",
            "|-114.600000|33.620000|         16.000000|3741.000000|    801.000000|2434.000000| 824.000000|     2.679700|      86500.000000|\n",
            "|-114.600000|33.600000|         21.000000|1988.000000|    483.000000|1182.000000| 437.000000|     1.625000|      62000.000000|\n",
            "|-114.610000|34.840000|         48.000000|1291.000000|    248.000000| 580.000000| 211.000000|     2.157100|      48600.000000|\n",
            "|-114.610000|34.830000|         31.000000|2478.000000|    464.000000|1346.000000| 479.000000|     3.212000|      70400.000000|\n",
            "|-114.630000|32.760000|         15.000000|1448.000000|    378.000000| 949.000000| 300.000000|     0.858500|      45000.000000|\n",
            "|-114.650000|34.890000|         17.000000|2556.000000|    587.000000|1005.000000| 401.000000|     1.699100|      69100.000000|\n",
            "|-114.650000|33.600000|         28.000000|1678.000000|    322.000000| 666.000000| 256.000000|     2.965300|      94900.000000|\n",
            "|-114.650000|32.790000|         21.000000|  44.000000|     33.000000|  64.000000|  27.000000|     0.857100|      25000.000000|\n",
            "|-114.660000|32.740000|         17.000000|1388.000000|    386.000000| 775.000000| 320.000000|     1.204900|      44000.000000|\n",
            "+-----------+---------+------------------+-----------+--------------+-----------+-----------+-------------+------------------+\n",
            "only showing top 20 rows\n",
            "\n"
          ]
        }
      ]
    },
    {
      "cell_type": "code",
      "source": [
        "dfpy = spark.read.option('header', 'true').csv('/content/sample_data/california_housing_train.csv')"
      ],
      "metadata": {
        "id": "BUyKmwm6X-Go"
      },
      "execution_count": null,
      "outputs": []
    },
    {
      "cell_type": "code",
      "source": [
        "dfpy"
      ],
      "metadata": {
        "colab": {
          "base_uri": "https://localhost:8080/"
        },
        "id": "nhX3Q8oEX-RH",
        "outputId": "d4739003-2367-47e4-813a-9f293eaaff29"
      },
      "execution_count": null,
      "outputs": [
        {
          "output_type": "execute_result",
          "data": {
            "text/plain": [
              "DataFrame[longitude: string, latitude: string, housing_median_age: string, total_rooms: string, total_bedrooms: string, population: string, households: string, median_income: string, median_house_value: string]"
            ]
          },
          "metadata": {},
          "execution_count": 26
        }
      ]
    },
    {
      "cell_type": "code",
      "source": [
        "dfpy.show()"
      ],
      "metadata": {
        "colab": {
          "base_uri": "https://localhost:8080/"
        },
        "id": "TV3BxcKxX-VK",
        "outputId": "043fb997-5070-4def-ca17-e86948a6a2f4"
      },
      "execution_count": null,
      "outputs": [
        {
          "output_type": "stream",
          "name": "stdout",
          "text": [
            "+-----------+---------+------------------+-----------+--------------+-----------+-----------+-------------+------------------+\n",
            "|  longitude| latitude|housing_median_age|total_rooms|total_bedrooms| population| households|median_income|median_house_value|\n",
            "+-----------+---------+------------------+-----------+--------------+-----------+-----------+-------------+------------------+\n",
            "|-114.310000|34.190000|         15.000000|5612.000000|   1283.000000|1015.000000| 472.000000|     1.493600|      66900.000000|\n",
            "|-114.470000|34.400000|         19.000000|7650.000000|   1901.000000|1129.000000| 463.000000|     1.820000|      80100.000000|\n",
            "|-114.560000|33.690000|         17.000000| 720.000000|    174.000000| 333.000000| 117.000000|     1.650900|      85700.000000|\n",
            "|-114.570000|33.640000|         14.000000|1501.000000|    337.000000| 515.000000| 226.000000|     3.191700|      73400.000000|\n",
            "|-114.570000|33.570000|         20.000000|1454.000000|    326.000000| 624.000000| 262.000000|     1.925000|      65500.000000|\n",
            "|-114.580000|33.630000|         29.000000|1387.000000|    236.000000| 671.000000| 239.000000|     3.343800|      74000.000000|\n",
            "|-114.580000|33.610000|         25.000000|2907.000000|    680.000000|1841.000000| 633.000000|     2.676800|      82400.000000|\n",
            "|-114.590000|34.830000|         41.000000| 812.000000|    168.000000| 375.000000| 158.000000|     1.708300|      48500.000000|\n",
            "|-114.590000|33.610000|         34.000000|4789.000000|   1175.000000|3134.000000|1056.000000|     2.178200|      58400.000000|\n",
            "|-114.600000|34.830000|         46.000000|1497.000000|    309.000000| 787.000000| 271.000000|     2.190800|      48100.000000|\n",
            "|-114.600000|33.620000|         16.000000|3741.000000|    801.000000|2434.000000| 824.000000|     2.679700|      86500.000000|\n",
            "|-114.600000|33.600000|         21.000000|1988.000000|    483.000000|1182.000000| 437.000000|     1.625000|      62000.000000|\n",
            "|-114.610000|34.840000|         48.000000|1291.000000|    248.000000| 580.000000| 211.000000|     2.157100|      48600.000000|\n",
            "|-114.610000|34.830000|         31.000000|2478.000000|    464.000000|1346.000000| 479.000000|     3.212000|      70400.000000|\n",
            "|-114.630000|32.760000|         15.000000|1448.000000|    378.000000| 949.000000| 300.000000|     0.858500|      45000.000000|\n",
            "|-114.650000|34.890000|         17.000000|2556.000000|    587.000000|1005.000000| 401.000000|     1.699100|      69100.000000|\n",
            "|-114.650000|33.600000|         28.000000|1678.000000|    322.000000| 666.000000| 256.000000|     2.965300|      94900.000000|\n",
            "|-114.650000|32.790000|         21.000000|  44.000000|     33.000000|  64.000000|  27.000000|     0.857100|      25000.000000|\n",
            "|-114.660000|32.740000|         17.000000|1388.000000|    386.000000| 775.000000| 320.000000|     1.204900|      44000.000000|\n",
            "|-114.670000|33.920000|         17.000000|  97.000000|     24.000000|  29.000000|  15.000000|     1.265600|      27500.000000|\n",
            "+-----------+---------+------------------+-----------+--------------+-----------+-----------+-------------+------------------+\n",
            "only showing top 20 rows\n",
            "\n"
          ]
        }
      ]
    },
    {
      "cell_type": "code",
      "source": [
        "type(dfpy)"
      ],
      "metadata": {
        "colab": {
          "base_uri": "https://localhost:8080/"
        },
        "id": "VStQfXJEX-ZD",
        "outputId": "4c16181a-6b2b-455d-f7ce-eb9fbd4861ee"
      },
      "execution_count": null,
      "outputs": [
        {
          "output_type": "execute_result",
          "data": {
            "text/plain": [
              "pyspark.sql.dataframe.DataFrame"
            ]
          },
          "metadata": {},
          "execution_count": 28
        }
      ]
    },
    {
      "cell_type": "code",
      "source": [
        "dfpy.printSchema()"
      ],
      "metadata": {
        "colab": {
          "base_uri": "https://localhost:8080/"
        },
        "id": "8NyyOW-TX-c8",
        "outputId": "f88537be-71cf-49bf-8d61-437bdd684c73"
      },
      "execution_count": null,
      "outputs": [
        {
          "output_type": "stream",
          "name": "stdout",
          "text": [
            "root\n",
            " |-- longitude: string (nullable = true)\n",
            " |-- latitude: string (nullable = true)\n",
            " |-- housing_median_age: string (nullable = true)\n",
            " |-- total_rooms: string (nullable = true)\n",
            " |-- total_bedrooms: string (nullable = true)\n",
            " |-- population: string (nullable = true)\n",
            " |-- households: string (nullable = true)\n",
            " |-- median_income: string (nullable = true)\n",
            " |-- median_house_value: string (nullable = true)\n",
            "\n"
          ]
        }
      ]
    },
    {
      "cell_type": "code",
      "source": [
        "dfpy.head(5)"
      ],
      "metadata": {
        "colab": {
          "base_uri": "https://localhost:8080/"
        },
        "id": "8zirU_HkX-gz",
        "outputId": "a81c7c09-6414-480f-fa39-f6f4ffa8f1d8"
      },
      "execution_count": null,
      "outputs": [
        {
          "output_type": "execute_result",
          "data": {
            "text/plain": [
              "[Row(longitude='-114.310000', latitude='34.190000', housing_median_age='15.000000', total_rooms='5612.000000', total_bedrooms='1283.000000', population='1015.000000', households='472.000000', median_income='1.493600', median_house_value='66900.000000'),\n",
              " Row(longitude='-114.470000', latitude='34.400000', housing_median_age='19.000000', total_rooms='7650.000000', total_bedrooms='1901.000000', population='1129.000000', households='463.000000', median_income='1.820000', median_house_value='80100.000000'),\n",
              " Row(longitude='-114.560000', latitude='33.690000', housing_median_age='17.000000', total_rooms='720.000000', total_bedrooms='174.000000', population='333.000000', households='117.000000', median_income='1.650900', median_house_value='85700.000000'),\n",
              " Row(longitude='-114.570000', latitude='33.640000', housing_median_age='14.000000', total_rooms='1501.000000', total_bedrooms='337.000000', population='515.000000', households='226.000000', median_income='3.191700', median_house_value='73400.000000'),\n",
              " Row(longitude='-114.570000', latitude='33.570000', housing_median_age='20.000000', total_rooms='1454.000000', total_bedrooms='326.000000', population='624.000000', households='262.000000', median_income='1.925000', median_house_value='65500.000000')]"
            ]
          },
          "metadata": {},
          "execution_count": 33
        }
      ]
    },
    {
      "cell_type": "markdown",
      "source": [
        "# Session - 2\n",
        "\n",
        "    PySpark Dataframe\n",
        "    Reading The Dataset\n",
        "    Checking the Datatypes of the Column(Schema)\n",
        "    Selecting Columns And Indexing\n",
        "    Check Describe option similar to Pandas\n",
        "    Adding Columns\n",
        "    Dropping columns\n",
        "    Renaming Columns"
      ],
      "metadata": {
        "id": "W3KliAj0k0Lw"
      }
    },
    {
      "cell_type": "code",
      "source": [
        "from pyspark.sql import SparkSession"
      ],
      "metadata": {
        "id": "w8a2Mx_wX-ss"
      },
      "execution_count": null,
      "outputs": []
    },
    {
      "cell_type": "code",
      "source": [
        "spark1 = SparkSession.builder.appName('trial').getOrCreate()"
      ],
      "metadata": {
        "id": "SrE2kAxQX-49"
      },
      "execution_count": null,
      "outputs": []
    },
    {
      "cell_type": "code",
      "source": [
        "spark1"
      ],
      "metadata": {
        "id": "K5bI0eVRX-8J"
      },
      "execution_count": null,
      "outputs": []
    },
    {
      "cell_type": "code",
      "source": [
        "df = spark.read.option('header', 'True').csv('/content/sample_data/california_housing_test.csv', inferSchema = True)"
      ],
      "metadata": {
        "id": "GaEbmXJvkwn_"
      },
      "execution_count": null,
      "outputs": []
    },
    {
      "cell_type": "code",
      "source": [
        "df = spark.read.csv('/content/sample_data/california_housing_train.csv', header = True, inferSchema = True)"
      ],
      "metadata": {
        "id": "iniO2UaVkwkN"
      },
      "execution_count": null,
      "outputs": []
    },
    {
      "cell_type": "code",
      "source": [
        "# rdd = sc.textFile('/content/sample_data/california_housing_train.csv')"
      ],
      "metadata": {
        "id": "r5RSKzNRkwhh"
      },
      "execution_count": null,
      "outputs": []
    },
    {
      "cell_type": "code",
      "source": [
        "# df3 = spark.read.csv(rdd)"
      ],
      "metadata": {
        "id": "qMuHo8P-kwc9"
      },
      "execution_count": null,
      "outputs": []
    },
    {
      "cell_type": "code",
      "source": [
        "df.printSchema()"
      ],
      "metadata": {
        "id": "Wa40z8X_kwZa",
        "colab": {
          "base_uri": "https://localhost:8080/"
        },
        "outputId": "4663b767-af63-4048-ac05-16a7c82b9c75"
      },
      "execution_count": null,
      "outputs": [
        {
          "output_type": "stream",
          "name": "stdout",
          "text": [
            "root\n",
            " |-- longitude: double (nullable = true)\n",
            " |-- latitude: double (nullable = true)\n",
            " |-- housing_median_age: double (nullable = true)\n",
            " |-- total_rooms: double (nullable = true)\n",
            " |-- total_bedrooms: double (nullable = true)\n",
            " |-- population: double (nullable = true)\n",
            " |-- households: double (nullable = true)\n",
            " |-- median_income: double (nullable = true)\n",
            " |-- median_house_value: double (nullable = true)\n",
            "\n"
          ]
        }
      ]
    },
    {
      "cell_type": "code",
      "source": [
        "df.show(5)"
      ],
      "metadata": {
        "id": "hsWRw7DxkwGI",
        "colab": {
          "base_uri": "https://localhost:8080/"
        },
        "outputId": "100c28ce-d268-442c-d71a-40069f9deb14"
      },
      "execution_count": null,
      "outputs": [
        {
          "output_type": "stream",
          "name": "stdout",
          "text": [
            "+---------+--------+------------------+-----------+--------------+----------+----------+-------------+------------------+\n",
            "|longitude|latitude|housing_median_age|total_rooms|total_bedrooms|population|households|median_income|median_house_value|\n",
            "+---------+--------+------------------+-----------+--------------+----------+----------+-------------+------------------+\n",
            "|  -114.31|   34.19|              15.0|     5612.0|        1283.0|    1015.0|     472.0|       1.4936|           66900.0|\n",
            "|  -114.47|    34.4|              19.0|     7650.0|        1901.0|    1129.0|     463.0|         1.82|           80100.0|\n",
            "|  -114.56|   33.69|              17.0|      720.0|         174.0|     333.0|     117.0|       1.6509|           85700.0|\n",
            "|  -114.57|   33.64|              14.0|     1501.0|         337.0|     515.0|     226.0|       3.1917|           73400.0|\n",
            "|  -114.57|   33.57|              20.0|     1454.0|         326.0|     624.0|     262.0|        1.925|           65500.0|\n",
            "+---------+--------+------------------+-----------+--------------+----------+----------+-------------+------------------+\n",
            "only showing top 5 rows\n",
            "\n"
          ]
        }
      ]
    },
    {
      "cell_type": "code",
      "source": [
        "df.select('median_income')"
      ],
      "metadata": {
        "id": "jRl7ZBLAkwEP",
        "colab": {
          "base_uri": "https://localhost:8080/"
        },
        "outputId": "ff95420f-54e5-4c74-8f6d-7bc66b070d1b"
      },
      "execution_count": null,
      "outputs": [
        {
          "output_type": "execute_result",
          "data": {
            "text/plain": [
              "DataFrame[median_income: double]"
            ]
          },
          "metadata": {},
          "execution_count": 45
        }
      ]
    },
    {
      "cell_type": "code",
      "source": [
        "df.select('median_income').show(5)"
      ],
      "metadata": {
        "id": "s81k8JCrkwAD",
        "colab": {
          "base_uri": "https://localhost:8080/"
        },
        "outputId": "b59c88b3-dffe-49b0-813a-88ebf337cdcf"
      },
      "execution_count": null,
      "outputs": [
        {
          "output_type": "stream",
          "name": "stdout",
          "text": [
            "+-------------+\n",
            "|median_income|\n",
            "+-------------+\n",
            "|       1.4936|\n",
            "|         1.82|\n",
            "|       1.6509|\n",
            "|       3.1917|\n",
            "|        1.925|\n",
            "+-------------+\n",
            "only showing top 5 rows\n",
            "\n"
          ]
        }
      ]
    },
    {
      "cell_type": "code",
      "source": [
        "df.columns"
      ],
      "metadata": {
        "id": "z60s6orXkv9_",
        "colab": {
          "base_uri": "https://localhost:8080/"
        },
        "outputId": "0a4bd623-f956-4843-e7c5-8961fc2c4590"
      },
      "execution_count": null,
      "outputs": [
        {
          "output_type": "execute_result",
          "data": {
            "text/plain": [
              "['longitude',\n",
              " 'latitude',\n",
              " 'housing_median_age',\n",
              " 'total_rooms',\n",
              " 'total_bedrooms',\n",
              " 'population',\n",
              " 'households',\n",
              " 'median_income',\n",
              " 'median_house_value']"
            ]
          },
          "metadata": {},
          "execution_count": 48
        }
      ]
    },
    {
      "cell_type": "code",
      "source": [
        "df.select(['households', 'median_income', 'median_house_value']).show(5)"
      ],
      "metadata": {
        "id": "zIZ0uF1Nkv5M",
        "colab": {
          "base_uri": "https://localhost:8080/"
        },
        "outputId": "e438d4f1-b685-4da4-fe6d-f2e34298414a"
      },
      "execution_count": null,
      "outputs": [
        {
          "output_type": "stream",
          "name": "stdout",
          "text": [
            "+----------+-------------+------------------+\n",
            "|households|median_income|median_house_value|\n",
            "+----------+-------------+------------------+\n",
            "|     472.0|       1.4936|           66900.0|\n",
            "|     463.0|         1.82|           80100.0|\n",
            "|     117.0|       1.6509|           85700.0|\n",
            "|     226.0|       3.1917|           73400.0|\n",
            "|     262.0|        1.925|           65500.0|\n",
            "+----------+-------------+------------------+\n",
            "only showing top 5 rows\n",
            "\n"
          ]
        }
      ]
    },
    {
      "cell_type": "code",
      "source": [
        "df.printSchema()"
      ],
      "metadata": {
        "colab": {
          "base_uri": "https://localhost:8080/"
        },
        "id": "WfTP63E0s6PV",
        "outputId": "b8616ae6-9af8-4fd3-f6d5-62aa745e2d2f"
      },
      "execution_count": null,
      "outputs": [
        {
          "output_type": "stream",
          "name": "stdout",
          "text": [
            "root\n",
            " |-- longitude: double (nullable = true)\n",
            " |-- latitude: double (nullable = true)\n",
            " |-- housing_median_age: double (nullable = true)\n",
            " |-- total_rooms: double (nullable = true)\n",
            " |-- total_bedrooms: double (nullable = true)\n",
            " |-- population: double (nullable = true)\n",
            " |-- households: double (nullable = true)\n",
            " |-- median_income: double (nullable = true)\n",
            " |-- median_house_value: double (nullable = true)\n",
            "\n"
          ]
        }
      ]
    },
    {
      "cell_type": "code",
      "source": [
        "# In Pyspark This only return a column object. Can't show or see values\n",
        "df['longitude']"
      ],
      "metadata": {
        "id": "wW7eRdljkvzZ",
        "colab": {
          "base_uri": "https://localhost:8080/"
        },
        "outputId": "2eb64fde-35cb-4274-e7f6-d77c4958be9e"
      },
      "execution_count": null,
      "outputs": [
        {
          "output_type": "execute_result",
          "data": {
            "text/plain": [
              "Column<'longitude'>"
            ]
          },
          "metadata": {},
          "execution_count": 51
        }
      ]
    },
    {
      "cell_type": "code",
      "source": [
        "df.describe()"
      ],
      "metadata": {
        "id": "NxLBxbk9kvvW",
        "colab": {
          "base_uri": "https://localhost:8080/"
        },
        "outputId": "6ae860bb-b8e6-455c-a765-66e8c7028efa"
      },
      "execution_count": null,
      "outputs": [
        {
          "output_type": "execute_result",
          "data": {
            "text/plain": [
              "DataFrame[summary: string, longitude: string, latitude: string, housing_median_age: string, total_rooms: string, total_bedrooms: string, population: string, households: string, median_income: string, median_house_value: string]"
            ]
          },
          "metadata": {},
          "execution_count": 52
        }
      ]
    },
    {
      "cell_type": "code",
      "source": [
        "df.describe().show()"
      ],
      "metadata": {
        "id": "IJj7Rlsnkvrm",
        "colab": {
          "base_uri": "https://localhost:8080/"
        },
        "outputId": "6688040d-80bc-47b3-dbc8-7a42cc78812c"
      },
      "execution_count": null,
      "outputs": [
        {
          "output_type": "stream",
          "name": "stdout",
          "text": [
            "+-------+-------------------+------------------+------------------+-----------------+-----------------+------------------+-----------------+------------------+------------------+\n",
            "|summary|          longitude|          latitude|housing_median_age|      total_rooms|   total_bedrooms|        population|       households|     median_income|median_house_value|\n",
            "+-------+-------------------+------------------+------------------+-----------------+-----------------+------------------+-----------------+------------------+------------------+\n",
            "|  count|              17000|             17000|             17000|            17000|            17000|             17000|            17000|             17000|             17000|\n",
            "|   mean|-119.56210823529375|  35.6252247058827| 28.58935294117647|2643.664411764706|539.4108235294118|1429.5739411764705|501.2219411764706| 3.883578100000021|207300.91235294117|\n",
            "| stddev| 2.0051664084260357|2.1373397946570867|12.586936981660406|2179.947071452777|421.4994515798648| 1147.852959159527|384.5208408559016|1.9081565183791036|115983.76438720895|\n",
            "|    min|            -124.35|             32.54|               1.0|              2.0|              1.0|               3.0|              1.0|            0.4999|           14999.0|\n",
            "|    max|            -114.31|             41.95|              52.0|          37937.0|           6445.0|           35682.0|           6082.0|           15.0001|          500001.0|\n",
            "+-------+-------------------+------------------+------------------+-----------------+-----------------+------------------+-----------------+------------------+------------------+\n",
            "\n"
          ]
        }
      ]
    },
    {
      "cell_type": "code",
      "source": [
        "# adding column to the dataframe\n",
        "\n",
        "df.withColumn('income_by_value', df['median_income']/df['median_house_value']).show(1)"
      ],
      "metadata": {
        "id": "30xbKQzEkvoi",
        "colab": {
          "base_uri": "https://localhost:8080/"
        },
        "outputId": "7c28f2c0-1789-4947-e94d-3ddd0e14efa3"
      },
      "execution_count": null,
      "outputs": [
        {
          "output_type": "stream",
          "name": "stdout",
          "text": [
            "+---------+--------+------------------+-----------+--------------+----------+----------+-------------+------------------+--------------------+\n",
            "|longitude|latitude|housing_median_age|total_rooms|total_bedrooms|population|households|median_income|median_house_value|     income_by_value|\n",
            "+---------+--------+------------------+-----------+--------------+----------+----------+-------------+------------------+--------------------+\n",
            "|  -114.31|   34.19|              15.0|     5612.0|        1283.0|    1015.0|     472.0|       1.4936|           66900.0|2.232585949177877...|\n",
            "+---------+--------+------------------+-----------+--------------+----------+----------+-------------+------------------+--------------------+\n",
            "only showing top 1 row\n",
            "\n"
          ]
        }
      ]
    },
    {
      "cell_type": "code",
      "source": [
        "# no change in original df\n",
        "df.show(1)"
      ],
      "metadata": {
        "colab": {
          "base_uri": "https://localhost:8080/"
        },
        "id": "ugZUEATqtRte",
        "outputId": "b272ef95-569e-4555-ef72-a1a6cb7e5ae3"
      },
      "execution_count": null,
      "outputs": [
        {
          "output_type": "stream",
          "name": "stdout",
          "text": [
            "+---------+--------+------------------+-----------+--------------+----------+----------+-------------+------------------+\n",
            "|longitude|latitude|housing_median_age|total_rooms|total_bedrooms|population|households|median_income|median_house_value|\n",
            "+---------+--------+------------------+-----------+--------------+----------+----------+-------------+------------------+\n",
            "|  -114.31|   34.19|              15.0|     5612.0|        1283.0|    1015.0|     472.0|       1.4936|           66900.0|\n",
            "+---------+--------+------------------+-----------+--------------+----------+----------+-------------+------------------+\n",
            "only showing top 1 row\n",
            "\n"
          ]
        }
      ]
    },
    {
      "cell_type": "code",
      "source": [
        "# therefore reassigning is needed\n",
        "\n",
        "df = df.withColumn('income_by_value', df['median_income']/df['median_house_value'])"
      ],
      "metadata": {
        "id": "dVB8YZcetRqw"
      },
      "execution_count": null,
      "outputs": []
    },
    {
      "cell_type": "code",
      "source": [
        "df.show(1)"
      ],
      "metadata": {
        "colab": {
          "base_uri": "https://localhost:8080/"
        },
        "id": "z4O9RWVZtRmq",
        "outputId": "39c43444-939e-4fdd-a60c-6d83b36e9162"
      },
      "execution_count": null,
      "outputs": [
        {
          "output_type": "stream",
          "name": "stdout",
          "text": [
            "+---------+--------+------------------+-----------+--------------+----------+----------+-------------+------------------+--------------------+\n",
            "|longitude|latitude|housing_median_age|total_rooms|total_bedrooms|population|households|median_income|median_house_value|     income_by_value|\n",
            "+---------+--------+------------------+-----------+--------------+----------+----------+-------------+------------------+--------------------+\n",
            "|  -114.31|   34.19|              15.0|     5612.0|        1283.0|    1015.0|     472.0|       1.4936|           66900.0|2.232585949177877...|\n",
            "+---------+--------+------------------+-----------+--------------+----------+----------+-------------+------------------+--------------------+\n",
            "only showing top 1 row\n",
            "\n"
          ]
        }
      ]
    },
    {
      "cell_type": "code",
      "source": [
        "# dropping the column\n",
        "\n",
        "df = df.drop('income_by_value')"
      ],
      "metadata": {
        "id": "WTspWEEYtRi1"
      },
      "execution_count": null,
      "outputs": []
    },
    {
      "cell_type": "code",
      "source": [
        "df.show(2)"
      ],
      "metadata": {
        "colab": {
          "base_uri": "https://localhost:8080/"
        },
        "id": "VJ0rPMrrtRc6",
        "outputId": "e59aee08-ccc1-402c-f68d-0f8acb467575"
      },
      "execution_count": null,
      "outputs": [
        {
          "output_type": "stream",
          "name": "stdout",
          "text": [
            "+---------+--------+------------------+-----------+--------------+----------+----------+-------------+------------------+\n",
            "|longitude|latitude|housing_median_age|total_rooms|total_bedrooms|population|households|median_income|median_house_value|\n",
            "+---------+--------+------------------+-----------+--------------+----------+----------+-------------+------------------+\n",
            "|  -114.31|   34.19|              15.0|     5612.0|        1283.0|    1015.0|     472.0|       1.4936|           66900.0|\n",
            "|  -114.47|    34.4|              19.0|     7650.0|        1901.0|    1129.0|     463.0|         1.82|           80100.0|\n",
            "+---------+--------+------------------+-----------+--------------+----------+----------+-------------+------------------+\n",
            "only showing top 2 rows\n",
            "\n"
          ]
        }
      ]
    },
    {
      "cell_type": "code",
      "source": [
        "# renaming the column\n",
        "\n",
        "df = df.withColumnRenamed('longitude', 'long')"
      ],
      "metadata": {
        "id": "-VDaAHhttRaP"
      },
      "execution_count": null,
      "outputs": []
    },
    {
      "cell_type": "code",
      "source": [
        "df.show(1)"
      ],
      "metadata": {
        "colab": {
          "base_uri": "https://localhost:8080/"
        },
        "id": "B7npK36YtRVq",
        "outputId": "d9462146-c659-4939-b49f-dce86eb1cbb5"
      },
      "execution_count": null,
      "outputs": [
        {
          "output_type": "stream",
          "name": "stdout",
          "text": [
            "+-------+--------+------------------+-----------+--------------+----------+----------+-------------+------------------+\n",
            "|   long|latitude|housing_median_age|total_rooms|total_bedrooms|population|households|median_income|median_house_value|\n",
            "+-------+--------+------------------+-----------+--------------+----------+----------+-------------+------------------+\n",
            "|-114.31|   34.19|              15.0|     5612.0|        1283.0|    1015.0|     472.0|       1.4936|           66900.0|\n",
            "+-------+--------+------------------+-----------+--------------+----------+----------+-------------+------------------+\n",
            "only showing top 1 row\n",
            "\n"
          ]
        }
      ]
    },
    {
      "cell_type": "code",
      "source": [
        "df.withColumnRenamed('latitude', 'lati').collect()"
      ],
      "metadata": {
        "colab": {
          "base_uri": "https://localhost:8080/"
        },
        "id": "q9hougi3tRS9",
        "outputId": "eeddd6ab-8735-46d0-d42e-429f45958285"
      },
      "execution_count": null,
      "outputs": [
        {
          "output_type": "execute_result",
          "data": {
            "text/plain": [
              "[Row(long=-114.31, lati=34.19, housing_median_age=15.0, total_rooms=5612.0, total_bedrooms=1283.0, population=1015.0, households=472.0, median_income=1.4936, median_house_value=66900.0),\n",
              " Row(long=-114.47, lati=34.4, housing_median_age=19.0, total_rooms=7650.0, total_bedrooms=1901.0, population=1129.0, households=463.0, median_income=1.82, median_house_value=80100.0),\n",
              " Row(long=-114.56, lati=33.69, housing_median_age=17.0, total_rooms=720.0, total_bedrooms=174.0, population=333.0, households=117.0, median_income=1.6509, median_house_value=85700.0),\n",
              " Row(long=-114.57, lati=33.64, housing_median_age=14.0, total_rooms=1501.0, total_bedrooms=337.0, population=515.0, households=226.0, median_income=3.1917, median_house_value=73400.0),\n",
              " Row(long=-114.57, lati=33.57, housing_median_age=20.0, total_rooms=1454.0, total_bedrooms=326.0, population=624.0, households=262.0, median_income=1.925, median_house_value=65500.0),\n",
              " Row(long=-114.58, lati=33.63, housing_median_age=29.0, total_rooms=1387.0, total_bedrooms=236.0, population=671.0, households=239.0, median_income=3.3438, median_house_value=74000.0),\n",
              " Row(long=-114.58, lati=33.61, housing_median_age=25.0, total_rooms=2907.0, total_bedrooms=680.0, population=1841.0, households=633.0, median_income=2.6768, median_house_value=82400.0),\n",
              " Row(long=-114.59, lati=34.83, housing_median_age=41.0, total_rooms=812.0, total_bedrooms=168.0, population=375.0, households=158.0, median_income=1.7083, median_house_value=48500.0),\n",
              " Row(long=-114.59, lati=33.61, housing_median_age=34.0, total_rooms=4789.0, total_bedrooms=1175.0, population=3134.0, households=1056.0, median_income=2.1782, median_house_value=58400.0),\n",
              " Row(long=-114.6, lati=34.83, housing_median_age=46.0, total_rooms=1497.0, total_bedrooms=309.0, population=787.0, households=271.0, median_income=2.1908, median_house_value=48100.0),\n",
              " Row(long=-114.6, lati=33.62, housing_median_age=16.0, total_rooms=3741.0, total_bedrooms=801.0, population=2434.0, households=824.0, median_income=2.6797, median_house_value=86500.0),\n",
              " Row(long=-114.6, lati=33.6, housing_median_age=21.0, total_rooms=1988.0, total_bedrooms=483.0, population=1182.0, households=437.0, median_income=1.625, median_house_value=62000.0),\n",
              " Row(long=-114.61, lati=34.84, housing_median_age=48.0, total_rooms=1291.0, total_bedrooms=248.0, population=580.0, households=211.0, median_income=2.1571, median_house_value=48600.0),\n",
              " Row(long=-114.61, lati=34.83, housing_median_age=31.0, total_rooms=2478.0, total_bedrooms=464.0, population=1346.0, households=479.0, median_income=3.212, median_house_value=70400.0),\n",
              " Row(long=-114.63, lati=32.76, housing_median_age=15.0, total_rooms=1448.0, total_bedrooms=378.0, population=949.0, households=300.0, median_income=0.8585, median_house_value=45000.0),\n",
              " Row(long=-114.65, lati=34.89, housing_median_age=17.0, total_rooms=2556.0, total_bedrooms=587.0, population=1005.0, households=401.0, median_income=1.6991, median_house_value=69100.0),\n",
              " Row(long=-114.65, lati=33.6, housing_median_age=28.0, total_rooms=1678.0, total_bedrooms=322.0, population=666.0, households=256.0, median_income=2.9653, median_house_value=94900.0),\n",
              " Row(long=-114.65, lati=32.79, housing_median_age=21.0, total_rooms=44.0, total_bedrooms=33.0, population=64.0, households=27.0, median_income=0.8571, median_house_value=25000.0),\n",
              " Row(long=-114.66, lati=32.74, housing_median_age=17.0, total_rooms=1388.0, total_bedrooms=386.0, population=775.0, households=320.0, median_income=1.2049, median_house_value=44000.0),\n",
              " Row(long=-114.67, lati=33.92, housing_median_age=17.0, total_rooms=97.0, total_bedrooms=24.0, population=29.0, households=15.0, median_income=1.2656, median_house_value=27500.0),\n",
              " Row(long=-114.68, lati=33.49, housing_median_age=20.0, total_rooms=1491.0, total_bedrooms=360.0, population=1135.0, households=303.0, median_income=1.6395, median_house_value=44400.0),\n",
              " Row(long=-114.73, lati=33.43, housing_median_age=24.0, total_rooms=796.0, total_bedrooms=243.0, population=227.0, households=139.0, median_income=0.8964, median_house_value=59200.0),\n",
              " Row(long=-114.94, lati=34.55, housing_median_age=20.0, total_rooms=350.0, total_bedrooms=95.0, population=119.0, households=58.0, median_income=1.625, median_house_value=50000.0),\n",
              " Row(long=-114.98, lati=33.82, housing_median_age=15.0, total_rooms=644.0, total_bedrooms=129.0, population=137.0, households=52.0, median_income=3.2097, median_house_value=71300.0),\n",
              " Row(long=-115.22, lati=33.54, housing_median_age=18.0, total_rooms=1706.0, total_bedrooms=397.0, population=3424.0, households=283.0, median_income=1.625, median_house_value=53500.0),\n",
              " Row(long=-115.32, lati=32.82, housing_median_age=34.0, total_rooms=591.0, total_bedrooms=139.0, population=327.0, households=89.0, median_income=3.6528, median_house_value=100000.0),\n",
              " Row(long=-115.37, lati=32.82, housing_median_age=30.0, total_rooms=1602.0, total_bedrooms=322.0, population=1130.0, households=335.0, median_income=3.5735, median_house_value=71100.0),\n",
              " Row(long=-115.37, lati=32.82, housing_median_age=14.0, total_rooms=1276.0, total_bedrooms=270.0, population=867.0, households=261.0, median_income=1.9375, median_house_value=80900.0),\n",
              " Row(long=-115.37, lati=32.81, housing_median_age=32.0, total_rooms=741.0, total_bedrooms=191.0, population=623.0, households=169.0, median_income=1.7604, median_house_value=68600.0),\n",
              " Row(long=-115.37, lati=32.81, housing_median_age=23.0, total_rooms=1458.0, total_bedrooms=294.0, population=866.0, households=275.0, median_income=2.3594, median_house_value=74300.0),\n",
              " Row(long=-115.38, lati=32.82, housing_median_age=38.0, total_rooms=1892.0, total_bedrooms=394.0, population=1175.0, households=374.0, median_income=1.9939, median_house_value=65800.0),\n",
              " Row(long=-115.38, lati=32.81, housing_median_age=35.0, total_rooms=1263.0, total_bedrooms=262.0, population=950.0, households=241.0, median_income=1.8958, median_house_value=67500.0),\n",
              " Row(long=-115.39, lati=32.76, housing_median_age=16.0, total_rooms=1136.0, total_bedrooms=196.0, population=481.0, households=185.0, median_income=6.2558, median_house_value=146300.0),\n",
              " Row(long=-115.4, lati=32.86, housing_median_age=19.0, total_rooms=1087.0, total_bedrooms=171.0, population=649.0, households=173.0, median_income=3.3182, median_house_value=113800.0),\n",
              " Row(long=-115.4, lati=32.7, housing_median_age=19.0, total_rooms=583.0, total_bedrooms=113.0, population=531.0, households=134.0, median_income=1.6838, median_house_value=95800.0),\n",
              " Row(long=-115.41, lati=32.99, housing_median_age=29.0, total_rooms=1141.0, total_bedrooms=220.0, population=684.0, households=194.0, median_income=3.4038, median_house_value=107800.0),\n",
              " Row(long=-115.46, lati=33.19, housing_median_age=33.0, total_rooms=1234.0, total_bedrooms=373.0, population=777.0, households=298.0, median_income=1.0, median_house_value=40000.0),\n",
              " Row(long=-115.48, lati=32.8, housing_median_age=21.0, total_rooms=1260.0, total_bedrooms=246.0, population=805.0, households=239.0, median_income=2.6172, median_house_value=88500.0),\n",
              " Row(long=-115.48, lati=32.68, housing_median_age=15.0, total_rooms=3414.0, total_bedrooms=666.0, population=2097.0, households=622.0, median_income=2.3319, median_house_value=91200.0),\n",
              " Row(long=-115.49, lati=32.87, housing_median_age=19.0, total_rooms=541.0, total_bedrooms=104.0, population=457.0, households=106.0, median_income=3.3583, median_house_value=102800.0),\n",
              " Row(long=-115.49, lati=32.69, housing_median_age=17.0, total_rooms=1960.0, total_bedrooms=389.0, population=1691.0, households=356.0, median_income=1.899, median_house_value=64000.0),\n",
              " Row(long=-115.49, lati=32.67, housing_median_age=29.0, total_rooms=1523.0, total_bedrooms=440.0, population=1302.0, households=393.0, median_income=1.1311, median_house_value=84700.0),\n",
              " Row(long=-115.49, lati=32.67, housing_median_age=25.0, total_rooms=2322.0, total_bedrooms=573.0, population=2185.0, households=602.0, median_income=1.375, median_house_value=70100.0),\n",
              " Row(long=-115.5, lati=32.75, housing_median_age=13.0, total_rooms=330.0, total_bedrooms=72.0, population=822.0, households=64.0, median_income=3.4107, median_house_value=142500.0),\n",
              " Row(long=-115.5, lati=32.68, housing_median_age=18.0, total_rooms=3631.0, total_bedrooms=913.0, population=3565.0, households=924.0, median_income=1.5931, median_house_value=88400.0),\n",
              " Row(long=-115.5, lati=32.67, housing_median_age=35.0, total_rooms=2159.0, total_bedrooms=492.0, population=1694.0, households=475.0, median_income=2.1776, median_house_value=75500.0),\n",
              " Row(long=-115.51, lati=33.24, housing_median_age=32.0, total_rooms=1995.0, total_bedrooms=523.0, population=1069.0, households=410.0, median_income=1.6552, median_house_value=43300.0),\n",
              " Row(long=-115.51, lati=33.12, housing_median_age=21.0, total_rooms=1024.0, total_bedrooms=218.0, population=890.0, households=232.0, median_income=2.101, median_house_value=46700.0),\n",
              " Row(long=-115.51, lati=32.99, housing_median_age=20.0, total_rooms=1402.0, total_bedrooms=287.0, population=1104.0, households=317.0, median_income=1.9088, median_house_value=63700.0),\n",
              " Row(long=-115.51, lati=32.68, housing_median_age=11.0, total_rooms=2872.0, total_bedrooms=610.0, population=2644.0, households=581.0, median_income=2.625, median_house_value=72700.0),\n",
              " Row(long=-115.52, lati=34.22, housing_median_age=30.0, total_rooms=540.0, total_bedrooms=136.0, population=122.0, households=63.0, median_income=1.3333, median_house_value=42500.0),\n",
              " Row(long=-115.52, lati=33.13, housing_median_age=18.0, total_rooms=1109.0, total_bedrooms=283.0, population=1006.0, households=253.0, median_income=2.163, median_house_value=53400.0),\n",
              " Row(long=-115.52, lati=33.12, housing_median_age=38.0, total_rooms=1327.0, total_bedrooms=262.0, population=784.0, households=231.0, median_income=1.8793, median_house_value=60800.0),\n",
              " Row(long=-115.52, lati=32.98, housing_median_age=32.0, total_rooms=1615.0, total_bedrooms=382.0, population=1307.0, households=345.0, median_income=1.4583, median_house_value=58600.0),\n",
              " Row(long=-115.52, lati=32.97, housing_median_age=24.0, total_rooms=1617.0, total_bedrooms=366.0, population=1416.0, households=401.0, median_income=1.975, median_house_value=66400.0),\n",
              " Row(long=-115.52, lati=32.97, housing_median_age=10.0, total_rooms=1879.0, total_bedrooms=387.0, population=1376.0, households=337.0, median_income=1.9911, median_house_value=67500.0),\n",
              " Row(long=-115.52, lati=32.77, housing_median_age=18.0, total_rooms=1715.0, total_bedrooms=337.0, population=1166.0, households=333.0, median_income=2.2417, median_house_value=79200.0),\n",
              " Row(long=-115.52, lati=32.73, housing_median_age=17.0, total_rooms=1190.0, total_bedrooms=275.0, population=1113.0, households=258.0, median_income=2.3571, median_house_value=63100.0),\n",
              " Row(long=-115.52, lati=32.67, housing_median_age=6.0, total_rooms=2804.0, total_bedrooms=581.0, population=2807.0, households=594.0, median_income=2.0625, median_house_value=67700.0),\n",
              " Row(long=-115.53, lati=34.91, housing_median_age=12.0, total_rooms=807.0, total_bedrooms=199.0, population=246.0, households=102.0, median_income=2.5391, median_house_value=40000.0),\n",
              " Row(long=-115.53, lati=32.99, housing_median_age=25.0, total_rooms=2578.0, total_bedrooms=634.0, population=2082.0, households=565.0, median_income=1.7159, median_house_value=62200.0),\n",
              " Row(long=-115.53, lati=32.97, housing_median_age=35.0, total_rooms=1583.0, total_bedrooms=340.0, population=933.0, households=318.0, median_income=2.4063, median_house_value=70700.0),\n",
              " Row(long=-115.53, lati=32.97, housing_median_age=34.0, total_rooms=2231.0, total_bedrooms=545.0, population=1568.0, households=510.0, median_income=1.5217, median_house_value=60300.0),\n",
              " Row(long=-115.53, lati=32.73, housing_median_age=14.0, total_rooms=1527.0, total_bedrooms=325.0, population=1453.0, households=332.0, median_income=1.735, median_house_value=61200.0),\n",
              " Row(long=-115.54, lati=32.99, housing_median_age=23.0, total_rooms=1459.0, total_bedrooms=373.0, population=1148.0, households=388.0, median_income=1.5372, median_house_value=69400.0),\n",
              " Row(long=-115.54, lati=32.99, housing_median_age=17.0, total_rooms=1697.0, total_bedrooms=268.0, population=911.0, households=254.0, median_income=4.3523, median_house_value=96000.0),\n",
              " Row(long=-115.54, lati=32.98, housing_median_age=27.0, total_rooms=1513.0, total_bedrooms=395.0, population=1121.0, households=381.0, median_income=1.9464, median_house_value=60600.0),\n",
              " Row(long=-115.54, lati=32.97, housing_median_age=41.0, total_rooms=2429.0, total_bedrooms=454.0, population=1188.0, households=430.0, median_income=3.0091, median_house_value=70800.0),\n",
              " Row(long=-115.54, lati=32.79, housing_median_age=23.0, total_rooms=1712.0, total_bedrooms=403.0, population=1370.0, households=377.0, median_income=1.275, median_house_value=60400.0),\n",
              " Row(long=-115.55, lati=32.98, housing_median_age=33.0, total_rooms=2266.0, total_bedrooms=365.0, population=952.0, households=360.0, median_income=5.4349, median_house_value=143000.0),\n",
              " Row(long=-115.55, lati=32.98, housing_median_age=24.0, total_rooms=2565.0, total_bedrooms=530.0, population=1447.0, households=473.0, median_income=3.2593, median_house_value=80800.0),\n",
              " Row(long=-115.55, lati=32.82, housing_median_age=34.0, total_rooms=1540.0, total_bedrooms=316.0, population=1013.0, households=274.0, median_income=2.5664, median_house_value=67500.0),\n",
              " Row(long=-115.55, lati=32.8, housing_median_age=23.0, total_rooms=666.0, total_bedrooms=142.0, population=580.0, households=160.0, median_income=2.1136, median_house_value=61000.0),\n",
              " Row(long=-115.55, lati=32.79, housing_median_age=23.0, total_rooms=1004.0, total_bedrooms=221.0, population=697.0, households=201.0, median_income=1.6351, median_house_value=59600.0),\n",
              " Row(long=-115.55, lati=32.79, housing_median_age=22.0, total_rooms=565.0, total_bedrooms=162.0, population=692.0, households=141.0, median_income=1.2083, median_house_value=53600.0),\n",
              " Row(long=-115.55, lati=32.78, housing_median_age=5.0, total_rooms=2652.0, total_bedrooms=606.0, population=1767.0, households=536.0, median_income=2.8025, median_house_value=84300.0),\n",
              " Row(long=-115.56, lati=32.96, housing_median_age=21.0, total_rooms=2164.0, total_bedrooms=480.0, population=1164.0, households=421.0, median_income=3.8177, median_house_value=107200.0),\n",
              " Row(long=-115.56, lati=32.8, housing_median_age=28.0, total_rooms=1672.0, total_bedrooms=416.0, population=1335.0, households=397.0, median_income=1.5987, median_house_value=59400.0),\n",
              " Row(long=-115.56, lati=32.8, housing_median_age=25.0, total_rooms=1311.0, total_bedrooms=375.0, population=1193.0, households=351.0, median_income=2.1979, median_house_value=63900.0),\n",
              " Row(long=-115.56, lati=32.8, housing_median_age=15.0, total_rooms=1171.0, total_bedrooms=328.0, population=1024.0, households=298.0, median_income=1.3882, median_house_value=69400.0),\n",
              " Row(long=-115.56, lati=32.79, housing_median_age=20.0, total_rooms=2372.0, total_bedrooms=835.0, population=2283.0, households=767.0, median_income=1.1707, median_house_value=62500.0),\n",
              " Row(long=-115.56, lati=32.79, housing_median_age=18.0, total_rooms=1178.0, total_bedrooms=438.0, population=1377.0, households=429.0, median_income=1.3373, median_house_value=58300.0),\n",
              " Row(long=-115.56, lati=32.78, housing_median_age=46.0, total_rooms=2511.0, total_bedrooms=490.0, population=1583.0, households=469.0, median_income=3.0603, median_house_value=70800.0),\n",
              " Row(long=-115.56, lati=32.78, housing_median_age=35.0, total_rooms=1185.0, total_bedrooms=202.0, population=615.0, households=191.0, median_income=4.6154, median_house_value=86200.0),\n",
              " Row(long=-115.56, lati=32.78, housing_median_age=29.0, total_rooms=1568.0, total_bedrooms=283.0, population=848.0, households=245.0, median_income=3.1597, median_house_value=76200.0),\n",
              " Row(long=-115.56, lati=32.76, housing_median_age=15.0, total_rooms=1278.0, total_bedrooms=217.0, population=653.0, households=185.0, median_income=4.4821, median_house_value=140300.0),\n",
              " Row(long=-115.57, lati=32.85, housing_median_age=33.0, total_rooms=1365.0, total_bedrooms=269.0, population=825.0, households=250.0, median_income=3.2396, median_house_value=62300.0),\n",
              " Row(long=-115.57, lati=32.85, housing_median_age=17.0, total_rooms=1039.0, total_bedrooms=256.0, population=728.0, households=246.0, median_income=1.7411, median_house_value=63500.0),\n",
              " Row(long=-115.57, lati=32.84, housing_median_age=29.0, total_rooms=1207.0, total_bedrooms=301.0, population=804.0, households=288.0, median_income=1.9531, median_house_value=61100.0),\n",
              " Row(long=-115.57, lati=32.83, housing_median_age=31.0, total_rooms=1494.0, total_bedrooms=289.0, population=959.0, households=284.0, median_income=3.5282, median_house_value=67500.0),\n",
              " Row(long=-115.57, lati=32.8, housing_median_age=16.0, total_rooms=2276.0, total_bedrooms=594.0, population=1184.0, households=513.0, median_income=1.875, median_house_value=93800.0),\n",
              " Row(long=-115.57, lati=32.79, housing_median_age=34.0, total_rooms=1152.0, total_bedrooms=208.0, population=621.0, households=208.0, median_income=3.6042, median_house_value=73600.0),\n",
              " Row(long=-115.57, lati=32.78, housing_median_age=20.0, total_rooms=1534.0, total_bedrooms=235.0, population=871.0, households=222.0, median_income=6.2715, median_house_value=97200.0),\n",
              " Row(long=-115.57, lati=32.78, housing_median_age=15.0, total_rooms=1413.0, total_bedrooms=279.0, population=803.0, households=277.0, median_income=4.3021, median_house_value=87500.0),\n",
              " Row(long=-115.58, lati=33.88, housing_median_age=21.0, total_rooms=1161.0, total_bedrooms=282.0, population=724.0, households=186.0, median_income=3.1827, median_house_value=71700.0),\n",
              " Row(long=-115.58, lati=32.81, housing_median_age=5.0, total_rooms=805.0, total_bedrooms=143.0, population=458.0, households=143.0, median_income=4.475, median_house_value=96300.0),\n",
              " Row(long=-115.58, lati=32.81, housing_median_age=10.0, total_rooms=1088.0, total_bedrooms=203.0, population=533.0, households=201.0, median_income=3.6597, median_house_value=87500.0),\n",
              " Row(long=-115.58, lati=32.79, housing_median_age=14.0, total_rooms=1687.0, total_bedrooms=507.0, population=762.0, households=451.0, median_income=1.6635, median_house_value=64400.0),\n",
              " Row(long=-115.58, lati=32.78, housing_median_age=5.0, total_rooms=2494.0, total_bedrooms=414.0, population=1416.0, households=421.0, median_income=5.7843, median_house_value=110100.0),\n",
              " Row(long=-115.59, lati=32.85, housing_median_age=20.0, total_rooms=1608.0, total_bedrooms=274.0, population=862.0, households=248.0, median_income=4.875, median_house_value=90800.0),\n",
              " Row(long=-115.59, lati=32.79, housing_median_age=8.0, total_rooms=2183.0, total_bedrooms=307.0, population=1000.0, households=287.0, median_income=6.3814, median_house_value=159900.0),\n",
              " Row(long=-115.59, lati=32.69, housing_median_age=30.0, total_rooms=935.0, total_bedrooms=177.0, population=649.0, households=148.0, median_income=2.5769, median_house_value=94400.0),\n",
              " Row(long=-115.6, lati=33.2, housing_median_age=37.0, total_rooms=709.0, total_bedrooms=187.0, population=390.0, households=142.0, median_income=2.4511, median_house_value=72500.0),\n",
              " Row(long=-115.6, lati=32.87, housing_median_age=3.0, total_rooms=1629.0, total_bedrooms=317.0, population=1005.0, households=312.0, median_income=4.1293, median_house_value=83200.0),\n",
              " Row(long=-115.62, lati=33.04, housing_median_age=20.0, total_rooms=1121.0, total_bedrooms=244.0, population=766.0, households=230.0, median_income=2.2969, median_house_value=62000.0),\n",
              " Row(long=-115.62, lati=33.04, housing_median_age=17.0, total_rooms=1009.0, total_bedrooms=231.0, population=745.0, households=217.0, median_income=2.0463, median_house_value=61200.0),\n",
              " Row(long=-115.64, lati=32.8, housing_median_age=23.0, total_rooms=1228.0, total_bedrooms=235.0, population=569.0, households=235.0, median_income=3.1667, median_house_value=125000.0),\n",
              " Row(long=-115.69, lati=32.79, housing_median_age=18.0, total_rooms=1564.0, total_bedrooms=340.0, population=1161.0, households=343.0, median_income=2.1792, median_house_value=55200.0),\n",
              " Row(long=-115.72, lati=32.75, housing_median_age=16.0, total_rooms=348.0, total_bedrooms=99.0, population=123.0, households=54.0, median_income=2.0938, median_house_value=87500.0),\n",
              " Row(long=-115.73, lati=33.36, housing_median_age=19.0, total_rooms=749.0, total_bedrooms=238.0, population=476.0, households=169.0, median_income=1.7727, median_house_value=50000.0),\n",
              " Row(long=-115.73, lati=33.35, housing_median_age=23.0, total_rooms=1586.0, total_bedrooms=448.0, population=338.0, households=182.0, median_income=1.2132, median_house_value=30000.0),\n",
              " Row(long=-115.73, lati=33.09, housing_median_age=27.0, total_rooms=452.0, total_bedrooms=103.0, population=258.0, households=61.0, median_income=2.9, median_house_value=87500.0),\n",
              " Row(long=-115.73, lati=32.8, housing_median_age=44.0, total_rooms=472.0, total_bedrooms=81.0, population=206.0, households=57.0, median_income=2.2083, median_house_value=93800.0),\n",
              " Row(long=-115.8, lati=33.26, housing_median_age=2.0, total_rooms=96.0, total_bedrooms=18.0, population=30.0, households=16.0, median_income=5.3374, median_house_value=47500.0),\n",
              " Row(long=-115.84, lati=33.49, housing_median_age=20.0, total_rooms=1660.0, total_bedrooms=379.0, population=637.0, households=250.0, median_income=2.0347, median_house_value=68900.0),\n",
              " Row(long=-115.85, lati=34.2, housing_median_age=34.0, total_rooms=3868.0, total_bedrooms=1257.0, population=890.0, households=423.0, median_income=1.3571, median_house_value=41000.0),\n",
              " Row(long=-115.88, lati=32.93, housing_median_age=15.0, total_rooms=208.0, total_bedrooms=49.0, population=51.0, households=20.0, median_income=4.0208, median_house_value=32500.0),\n",
              " Row(long=-115.9, lati=33.34, housing_median_age=19.0, total_rooms=1210.0, total_bedrooms=248.0, population=329.0, households=155.0, median_income=1.7857, median_house_value=62800.0),\n",
              " Row(long=-115.91, lati=33.36, housing_median_age=15.0, total_rooms=459.0, total_bedrooms=95.0, population=160.0, households=73.0, median_income=0.922, median_house_value=67500.0),\n",
              " Row(long=-115.93, lati=35.55, housing_median_age=18.0, total_rooms=1321.0, total_bedrooms=272.0, population=754.0, households=226.0, median_income=3.4028, median_house_value=67500.0),\n",
              " Row(long=-115.94, lati=33.38, housing_median_age=5.0, total_rooms=186.0, total_bedrooms=43.0, population=41.0, households=21.0, median_income=2.7, median_house_value=58800.0),\n",
              " Row(long=-115.95, lati=33.28, housing_median_age=12.0, total_rooms=99.0, total_bedrooms=25.0, population=37.0, households=17.0, median_income=1.8958, median_house_value=53800.0),\n",
              " Row(long=-115.96, lati=33.3, housing_median_age=27.0, total_rooms=322.0, total_bedrooms=81.0, population=112.0, households=57.0, median_income=1.125, median_house_value=54400.0),\n",
              " Row(long=-115.98, lati=33.32, housing_median_age=8.0, total_rooms=240.0, total_bedrooms=46.0, population=63.0, households=24.0, median_income=1.4688, median_house_value=53800.0),\n",
              " Row(long=-115.99, lati=33.4, housing_median_age=15.0, total_rooms=1945.0, total_bedrooms=536.0, population=515.0, households=273.0, median_income=2.0109, median_house_value=54300.0),\n",
              " Row(long=-116.0, lati=33.19, housing_median_age=16.0, total_rooms=245.0, total_bedrooms=57.0, population=81.0, households=33.0, median_income=1.2639, median_house_value=51300.0),\n",
              " Row(long=-116.0, lati=32.74, housing_median_age=26.0, total_rooms=1134.0, total_bedrooms=280.0, population=329.0, households=158.0, median_income=1.4338, median_house_value=43900.0),\n",
              " Row(long=-116.01, lati=33.51, housing_median_age=24.0, total_rooms=2985.0, total_bedrooms=958.0, population=4042.0, households=905.0, median_income=1.7344, median_house_value=66400.0),\n",
              " Row(long=-116.01, lati=33.41, housing_median_age=20.0, total_rooms=1996.0, total_bedrooms=515.0, population=659.0, households=295.0, median_income=2.8684, median_house_value=62800.0),\n",
              " Row(long=-116.02, lati=34.18, housing_median_age=8.0, total_rooms=569.0, total_bedrooms=97.0, population=312.0, households=96.0, median_income=4.3021, median_house_value=94500.0),\n",
              " Row(long=-116.05, lati=34.12, housing_median_age=19.0, total_rooms=301.0, total_bedrooms=65.0, population=150.0, households=56.0, median_income=3.125, median_house_value=65600.0),\n",
              " Row(long=-116.05, lati=33.33, housing_median_age=17.0, total_rooms=290.0, total_bedrooms=94.0, population=135.0, households=57.0, median_income=1.7292, median_house_value=81300.0),\n",
              " Row(long=-116.06, lati=34.2, housing_median_age=29.0, total_rooms=1202.0, total_bedrooms=290.0, population=383.0, households=156.0, median_income=1.3371, median_house_value=66900.0),\n",
              " Row(long=-116.06, lati=34.15, housing_median_age=15.0, total_rooms=10377.0, total_bedrooms=2331.0, population=4507.0, households=1807.0, median_income=2.2466, median_house_value=66800.0),\n",
              " Row(long=-116.08, lati=33.86, housing_median_age=16.0, total_rooms=381.0, total_bedrooms=89.0, population=182.0, households=75.0, median_income=2.425, median_house_value=76100.0),\n",
              " Row(long=-116.09, lati=34.15, housing_median_age=13.0, total_rooms=9444.0, total_bedrooms=1997.0, population=4166.0, households=1482.0, median_income=2.6111, median_house_value=65600.0),\n",
              " Row(long=-116.11, lati=33.64, housing_median_age=20.0, total_rooms=1273.0, total_bedrooms=354.0, population=1548.0, households=355.0, median_income=2.0871, median_house_value=84700.0),\n",
              " Row(long=-116.12, lati=33.53, housing_median_age=17.0, total_rooms=2421.0, total_bedrooms=820.0, population=2971.0, households=685.0, median_income=1.654, median_house_value=100000.0),\n",
              " Row(long=-116.14, lati=34.22, housing_median_age=32.0, total_rooms=3298.0, total_bedrooms=1228.0, population=763.0, households=360.0, median_income=1.875, median_house_value=47800.0),\n",
              " Row(long=-116.15, lati=34.14, housing_median_age=18.0, total_rooms=3312.0, total_bedrooms=705.0, population=1251.0, households=512.0, median_income=3.0139, median_house_value=82600.0),\n",
              " Row(long=-116.15, lati=33.69, housing_median_age=22.0, total_rooms=197.0, total_bedrooms=54.0, population=331.0, households=70.0, median_income=2.9286, median_house_value=112500.0),\n",
              " Row(long=-116.15, lati=33.64, housing_median_age=10.0, total_rooms=1711.0, total_bedrooms=499.0, population=1896.0, households=443.0, median_income=1.6557, median_house_value=65400.0),\n",
              " Row(long=-116.16, lati=33.68, housing_median_age=12.0, total_rooms=1230.0, total_bedrooms=277.0, population=1334.0, households=260.0, median_income=2.2679, median_house_value=61400.0),\n",
              " Row(long=-116.17, lati=33.67, housing_median_age=18.0, total_rooms=3585.0, total_bedrooms=800.0, population=3873.0, households=788.0, median_income=2.5714, median_house_value=65900.0),\n",
              " Row(long=-116.17, lati=33.66, housing_median_age=22.0, total_rooms=639.0, total_bedrooms=203.0, population=664.0, households=153.0, median_income=1.9306, median_house_value=47500.0),\n",
              " Row(long=-116.17, lati=33.53, housing_median_age=13.0, total_rooms=1713.0, total_bedrooms=512.0, population=1978.0, households=442.0, median_income=2.1287, median_house_value=58600.0),\n",
              " Row(long=-116.18, lati=33.69, housing_median_age=17.0, total_rooms=89.0, total_bedrooms=19.0, population=79.0, households=21.0, median_income=2.375, median_house_value=155000.0),\n",
              " Row(long=-116.18, lati=33.67, housing_median_age=25.0, total_rooms=2888.0, total_bedrooms=654.0, population=2940.0, households=660.0, median_income=2.2141, median_house_value=66700.0),\n",
              " Row(long=-116.19, lati=33.67, housing_median_age=16.0, total_rooms=1859.0, total_bedrooms=476.0, population=1994.0, households=477.0, median_income=1.7297, median_house_value=67500.0),\n",
              " Row(long=-116.2, lati=33.7, housing_median_age=26.0, total_rooms=2399.0, total_bedrooms=625.0, population=2654.0, households=535.0, median_income=2.2989, median_house_value=60600.0),\n",
              " Row(long=-116.2, lati=33.63, housing_median_age=23.0, total_rooms=1152.0, total_bedrooms=273.0, population=1077.0, households=235.0, median_income=2.5, median_house_value=96300.0),\n",
              " Row(long=-116.2, lati=32.64, housing_median_age=28.0, total_rooms=1608.0, total_bedrooms=409.0, population=567.0, households=254.0, median_income=1.4648, median_house_value=61800.0),\n",
              " Row(long=-116.21, lati=33.75, housing_median_age=22.0, total_rooms=894.0, total_bedrooms=192.0, population=830.0, households=202.0, median_income=3.0673, median_house_value=68200.0),\n",
              " Row(long=-116.21, lati=33.72, housing_median_age=28.0, total_rooms=2488.0, total_bedrooms=714.0, population=2891.0, households=676.0, median_income=2.3169, median_house_value=68900.0),\n",
              " Row(long=-116.21, lati=33.71, housing_median_age=19.0, total_rooms=3114.0, total_bedrooms=787.0, population=3157.0, households=772.0, median_income=1.7083, median_house_value=82200.0),\n",
              " Row(long=-116.21, lati=33.68, housing_median_age=34.0, total_rooms=584.0, total_bedrooms=176.0, population=625.0, households=166.0, median_income=1.5809, median_house_value=100000.0),\n",
              " Row(long=-116.21, lati=33.66, housing_median_age=19.0, total_rooms=1596.0, total_bedrooms=295.0, population=1201.0, households=282.0, median_income=3.8846, median_house_value=100900.0),\n",
              " Row(long=-116.22, lati=36.0, housing_median_age=14.0, total_rooms=1372.0, total_bedrooms=386.0, population=436.0, households=213.0, median_income=1.1471, median_house_value=32900.0),\n",
              " Row(long=-116.22, lati=34.21, housing_median_age=23.0, total_rooms=1175.0, total_bedrooms=468.0, population=355.0, households=151.0, median_income=2.2083, median_house_value=42500.0),\n",
              " Row(long=-116.22, lati=33.74, housing_median_age=26.0, total_rooms=4120.0, total_bedrooms=858.0, population=2918.0, households=815.0, median_income=3.3107, median_house_value=69400.0),\n",
              " Row(long=-116.22, lati=33.73, housing_median_age=38.0, total_rooms=1695.0, total_bedrooms=352.0, population=1279.0, households=305.0, median_income=2.1217, median_house_value=68500.0),\n",
              " Row(long=-116.22, lati=33.72, housing_median_age=28.0, total_rooms=826.0, total_bedrooms=258.0, population=979.0, households=245.0, median_income=1.7172, median_house_value=58800.0),\n",
              " Row(long=-116.22, lati=33.7, housing_median_age=9.0, total_rooms=3861.0, total_bedrooms=849.0, population=825.0, households=401.0, median_income=3.2833, median_house_value=124700.0),\n",
              " Row(long=-116.23, lati=33.73, housing_median_age=29.0, total_rooms=1133.0, total_bedrooms=221.0, population=918.0, households=239.0, median_income=2.8648, median_house_value=72100.0),\n",
              " Row(long=-116.23, lati=33.72, housing_median_age=32.0, total_rooms=4981.0, total_bedrooms=1326.0, population=3779.0, households=1186.0, median_income=1.7805, median_house_value=76900.0),\n",
              " Row(long=-116.23, lati=33.71, housing_median_age=17.0, total_rooms=4874.0, total_bedrooms=1349.0, population=5032.0, households=1243.0, median_income=2.444, median_house_value=90000.0),\n",
              " Row(long=-116.24, lati=33.73, housing_median_age=14.0, total_rooms=2774.0, total_bedrooms=566.0, population=1530.0, households=505.0, median_income=3.0682, median_house_value=104100.0),\n",
              " Row(long=-116.24, lati=33.72, housing_median_age=25.0, total_rooms=5236.0, total_bedrooms=1039.0, population=2725.0, households=935.0, median_income=3.775, median_house_value=93400.0),\n",
              " Row(long=-116.24, lati=33.71, housing_median_age=10.0, total_rooms=9033.0, total_bedrooms=2224.0, population=5525.0, households=1845.0, median_income=2.7598, median_house_value=95000.0),\n",
              " Row(long=-116.25, lati=33.81, housing_median_age=24.0, total_rooms=880.0, total_bedrooms=187.0, population=507.0, households=169.0, median_income=3.4583, median_house_value=67500.0),\n",
              " Row(long=-116.25, lati=33.75, housing_median_age=33.0, total_rooms=278.0, total_bedrooms=91.0, population=375.0, households=81.0, median_income=2.025, median_house_value=50000.0),\n",
              " Row(long=-116.25, lati=33.69, housing_median_age=5.0, total_rooms=1664.0, total_bedrooms=444.0, population=907.0, households=374.0, median_income=2.7667, median_house_value=92900.0),\n",
              " Row(long=-116.26, lati=33.65, housing_median_age=3.0, total_rooms=7437.0, total_bedrooms=1222.0, population=574.0, households=302.0, median_income=10.2948, median_house_value=382400.0),\n",
              " Row(long=-116.26, lati=33.07, housing_median_age=17.0, total_rooms=934.0, total_bedrooms=284.0, population=452.0, households=184.0, median_income=1.9875, median_house_value=83700.0),\n",
              " Row(long=-116.27, lati=34.13, housing_median_age=37.0, total_rooms=452.0, total_bedrooms=109.0, population=184.0, households=59.0, median_income=3.7292, median_house_value=65800.0),\n",
              " Row(long=-116.29, lati=33.74, housing_median_age=6.0, total_rooms=12991.0, total_bedrooms=2555.0, population=4571.0, households=1926.0, median_income=4.7195, median_house_value=199300.0),\n",
              " Row(long=-116.29, lati=33.72, housing_median_age=5.0, total_rooms=3584.0, total_bedrooms=760.0, population=1097.0, households=470.0, median_income=3.1771, median_house_value=167400.0),\n",
              " Row(long=-116.3, lati=33.68, housing_median_age=10.0, total_rooms=2387.0, total_bedrooms=481.0, population=863.0, households=304.0, median_income=2.8882, median_house_value=137500.0),\n",
              " Row(long=-116.31, lati=34.13, housing_median_age=20.0, total_rooms=2352.0, total_bedrooms=556.0, population=1217.0, households=481.0, median_income=1.6063, median_house_value=55400.0),\n",
              " Row(long=-116.31, lati=33.67, housing_median_age=15.0, total_rooms=2214.0, total_bedrooms=410.0, population=1152.0, households=350.0, median_income=2.9187, median_house_value=93400.0),\n",
              " Row(long=-116.31, lati=33.67, housing_median_age=11.0, total_rooms=4686.0, total_bedrooms=851.0, population=2466.0, households=731.0, median_income=3.3333, median_house_value=91800.0),\n",
              " Row(long=-116.31, lati=33.66, housing_median_age=7.0, total_rooms=4497.0, total_bedrooms=831.0, population=2248.0, households=713.0, median_income=3.6354, median_house_value=98000.0),\n",
              " Row(long=-116.32, lati=34.14, housing_median_age=18.0, total_rooms=1880.0, total_bedrooms=487.0, population=994.0, households=425.0, median_income=1.69, median_house_value=54200.0),\n",
              " Row(long=-116.32, lati=34.1, housing_median_age=10.0, total_rooms=4256.0, total_bedrooms=861.0, population=1403.0, households=686.0, median_income=2.6618, median_house_value=81000.0),\n",
              " Row(long=-116.32, lati=33.28, housing_median_age=19.0, total_rooms=1791.0, total_bedrooms=367.0, population=327.0, households=185.0, median_income=3.3625, median_house_value=100000.0),\n",
              " Row(long=-116.33, lati=34.15, housing_median_age=13.0, total_rooms=1808.0, total_bedrooms=411.0, population=735.0, households=320.0, median_income=1.5489, median_house_value=57400.0),\n",
              " Row(long=-116.33, lati=33.75, housing_median_age=5.0, total_rooms=19107.0, total_bedrooms=3923.0, population=2880.0, households=1376.0, median_income=4.036, median_house_value=158500.0),\n",
              " Row(long=-116.33, lati=33.72, housing_median_age=11.0, total_rooms=12327.0, total_bedrooms=2000.0, population=2450.0, households=1139.0, median_income=7.4382, median_house_value=353100.0),\n",
              " Row(long=-116.34, lati=33.36, housing_median_age=24.0, total_rooms=2746.0, total_bedrooms=514.0, population=731.0, households=295.0, median_income=3.3214, median_house_value=176400.0),\n",
              " Row(long=-116.35, lati=34.13, housing_median_age=9.0, total_rooms=1969.0, total_bedrooms=406.0, population=805.0, households=349.0, median_income=1.5491, median_house_value=62300.0),\n",
              " Row(long=-116.35, lati=32.74, housing_median_age=16.0, total_rooms=2595.0, total_bedrooms=606.0, population=1046.0, households=367.0, median_income=1.7137, median_house_value=110700.0),\n",
              " Row(long=-116.36, lati=33.88, housing_median_age=11.0, total_rooms=12557.0, total_bedrooms=3098.0, population=2453.0, households=1232.0, median_income=1.7844, median_house_value=78500.0),\n",
              " Row(long=-116.37, lati=33.72, housing_median_age=17.0, total_rooms=8626.0, total_bedrooms=1859.0, population=3497.0, households=1337.0, median_income=3.312, median_house_value=121300.0),\n",
              " Row(long=-116.37, lati=33.69, housing_median_age=7.0, total_rooms=8806.0, total_bedrooms=1542.0, population=858.0, households=448.0, median_income=7.8005, median_house_value=318100.0),\n",
              " Row(long=-116.37, lati=33.19, housing_median_age=12.0, total_rooms=4890.0, total_bedrooms=1152.0, population=1289.0, households=570.0, median_income=2.5795, median_house_value=98700.0),\n",
              " Row(long=-116.38, lati=34.2, housing_median_age=14.0, total_rooms=4985.0, total_bedrooms=1238.0, population=2517.0, households=954.0, median_income=2.0674, median_house_value=65000.0),\n",
              " Row(long=-116.38, lati=34.1, housing_median_age=6.0, total_rooms=2104.0, total_bedrooms=348.0, population=841.0, households=320.0, median_income=4.1458, median_house_value=116300.0),\n",
              " Row(long=-116.38, lati=33.74, housing_median_age=7.0, total_rooms=17579.0, total_bedrooms=3479.0, population=3581.0, households=1820.0, median_income=4.084, median_house_value=194500.0),\n",
              " Row(long=-116.38, lati=33.73, housing_median_age=10.0, total_rooms=11836.0, total_bedrooms=2405.0, population=3811.0, households=1570.0, median_income=4.0079, median_house_value=134500.0),\n",
              " Row(long=-116.38, lati=33.71, housing_median_age=17.0, total_rooms=12509.0, total_bedrooms=2460.0, population=2737.0, households=1423.0, median_income=4.5556, median_house_value=258100.0),\n",
              " Row(long=-116.39, lati=34.15, housing_median_age=15.0, total_rooms=5583.0, total_bedrooms=1149.0, population=2709.0, households=964.0, median_income=1.9779, median_house_value=73300.0),\n",
              " Row(long=-116.39, lati=33.82, housing_median_age=15.0, total_rooms=11115.0, total_bedrooms=2257.0, population=4122.0, households=1653.0, median_income=2.7219, median_house_value=74400.0),\n",
              " Row(long=-116.39, lati=33.72, housing_median_age=19.0, total_rooms=7646.0, total_bedrooms=1618.0, population=2496.0, households=1075.0, median_income=3.5569, median_house_value=128000.0),\n",
              " Row(long=-116.39, lati=33.69, housing_median_age=10.0, total_rooms=11659.0, total_bedrooms=2007.0, population=2186.0, households=1083.0, median_income=6.9833, median_house_value=238800.0),\n",
              " Row(long=-116.4, lati=34.12, housing_median_age=16.0, total_rooms=5648.0, total_bedrooms=1089.0, population=2524.0, households=1008.0, median_income=2.6739, median_house_value=78000.0),\n",
              " Row(long=-116.4, lati=34.09, housing_median_age=9.0, total_rooms=4855.0, total_bedrooms=872.0, population=2098.0, households=765.0, median_income=3.2723, median_house_value=97800.0),\n",
              " Row(long=-116.4, lati=33.78, housing_median_age=8.0, total_rooms=3059.0, total_bedrooms=500.0, population=612.0, households=208.0, median_income=6.8729, median_house_value=259200.0),\n",
              " Row(long=-116.41, lati=33.74, housing_median_age=25.0, total_rooms=2475.0, total_bedrooms=476.0, population=910.0, households=387.0, median_income=3.3639, median_house_value=168800.0),\n",
              " Row(long=-116.41, lati=33.74, housing_median_age=17.0, total_rooms=4289.0, total_bedrooms=893.0, population=958.0, households=440.0, median_income=2.4659, median_house_value=177800.0),\n",
              " Row(long=-116.42, lati=33.79, housing_median_age=12.0, total_rooms=7095.0, total_bedrooms=1260.0, population=1179.0, households=570.0, median_income=4.9444, median_house_value=285000.0),\n",
              " Row(long=-116.42, lati=33.76, housing_median_age=14.0, total_rooms=16921.0, total_bedrooms=2837.0, population=2524.0, households=1262.0, median_income=7.6281, median_house_value=341700.0),\n",
              " Row(long=-116.42, lati=33.68, housing_median_age=15.0, total_rooms=3895.0, total_bedrooms=782.0, population=900.0, households=529.0, median_income=2.2208, median_house_value=138300.0),\n",
              " Row(long=-116.42, lati=33.51, housing_median_age=26.0, total_rooms=186.0, total_bedrooms=48.0, population=102.0, households=39.0, median_income=2.5625, median_house_value=103100.0),\n",
              " Row(long=-116.43, lati=34.1, housing_median_age=17.0, total_rooms=6683.0, total_bedrooms=1296.0, population=2677.0, households=1227.0, median_income=2.4828, median_house_value=84000.0),\n",
              " Row(long=-116.43, lati=33.81, housing_median_age=8.0, total_rooms=6710.0, total_bedrooms=1343.0, population=2069.0, households=781.0, median_income=3.5223, median_house_value=115100.0),\n",
              " Row(long=-116.43, lati=33.75, housing_median_age=24.0, total_rooms=2596.0, total_bedrooms=438.0, population=473.0, households=237.0, median_income=3.7727, median_house_value=500001.0),\n",
              " Row(long=-116.44, lati=34.16, housing_median_age=19.0, total_rooms=1867.0, total_bedrooms=361.0, population=758.0, households=321.0, median_income=2.8929, median_house_value=98100.0),\n",
              " Row(long=-116.44, lati=34.12, housing_median_age=18.0, total_rooms=5584.0, total_bedrooms=1303.0, population=2250.0, households=1158.0, median_income=1.5823, median_house_value=72400.0),\n",
              " Row(long=-116.44, lati=33.93, housing_median_age=17.0, total_rooms=5293.0, total_bedrooms=1266.0, population=1201.0, households=599.0, median_income=1.6849, median_house_value=88400.0),\n",
              " Row(long=-116.44, lati=33.77, housing_median_age=18.0, total_rooms=4872.0, total_bedrooms=1110.0, population=955.0, households=656.0, median_income=2.2439, median_house_value=97500.0),\n",
              " Row(long=-116.44, lati=33.74, housing_median_age=5.0, total_rooms=846.0, total_bedrooms=249.0, population=117.0, households=67.0, median_income=7.9885, median_house_value=403300.0),\n",
              " Row(long=-116.45, lati=33.8, housing_median_age=9.0, total_rooms=5534.0, total_bedrooms=1206.0, population=2283.0, households=1008.0, median_income=3.6161, median_house_value=99100.0),\n",
              " Row(long=-116.45, lati=33.78, housing_median_age=16.0, total_rooms=5228.0, total_bedrooms=992.0, population=1177.0, households=639.0, median_income=3.0859, median_house_value=134600.0),\n",
              " Row(long=-116.45, lati=32.65, housing_median_age=22.0, total_rooms=2680.0, total_bedrooms=643.0, population=1644.0, households=516.0, median_income=2.1949, median_house_value=127100.0),\n",
              " Row(long=-116.46, lati=33.82, housing_median_age=6.0, total_rooms=4863.0, total_bedrooms=920.0, population=3010.0, households=828.0, median_income=3.9508, median_house_value=104200.0),\n",
              " Row(long=-116.46, lati=33.78, housing_median_age=33.0, total_rooms=2565.0, total_bedrooms=745.0, population=2301.0, households=638.0, median_income=2.5477, median_house_value=83000.0),\n",
              " Row(long=-116.47, lati=34.07, housing_median_age=22.0, total_rooms=5473.0, total_bedrooms=1234.0, population=2581.0, households=1098.0, median_income=1.9375, median_house_value=65300.0),\n",
              " Row(long=-116.47, lati=33.94, housing_median_age=18.0, total_rooms=2233.0, total_bedrooms=471.0, population=919.0, households=388.0, median_income=3.2578, median_house_value=85200.0),\n",
              " Row(long=-116.47, lati=33.84, housing_median_age=3.0, total_rooms=9169.0, total_bedrooms=1512.0, population=3838.0, households=1270.0, median_income=4.3111, median_house_value=142500.0),\n",
              " Row(long=-116.47, lati=33.81, housing_median_age=7.0, total_rooms=10105.0, total_bedrooms=2481.0, population=6274.0, households=2095.0, median_income=2.4497, median_house_value=90900.0),\n",
              " Row(long=-116.47, lati=33.78, housing_median_age=27.0, total_rooms=1781.0, total_bedrooms=441.0, population=759.0, households=340.0, median_income=3.3162, median_house_value=113600.0),\n",
              " Row(long=-116.48, lati=33.94, housing_median_age=10.0, total_rooms=3254.0, total_bedrooms=913.0, population=923.0, households=486.0, median_income=1.8, median_house_value=81000.0),\n",
              " Row(long=-116.48, lati=33.79, housing_median_age=14.0, total_rooms=9425.0, total_bedrooms=2020.0, population=1711.0, households=1000.0, median_income=2.6298, median_house_value=145200.0),\n",
              " Row(long=-116.48, lati=33.61, housing_median_age=8.0, total_rooms=1294.0, total_bedrooms=272.0, population=457.0, households=199.0, median_income=2.9167, median_house_value=115300.0),\n",
              " Row(long=-116.49, lati=33.82, housing_median_age=27.0, total_rooms=3316.0, total_bedrooms=636.0, population=2362.0, households=532.0, median_income=2.9569, median_house_value=65900.0),\n",
              " Row(long=-116.49, lati=33.8, housing_median_age=13.0, total_rooms=8789.0, total_bedrooms=1875.0, population=1274.0, households=688.0, median_income=3.7396, median_house_value=148900.0),\n",
              " Row(long=-116.5, lati=33.98, housing_median_age=5.0, total_rooms=4332.0, total_bedrooms=868.0, population=1420.0, households=567.0, median_income=4.0417, median_house_value=146400.0),\n",
              " Row(long=-116.5, lati=33.95, housing_median_age=10.0, total_rooms=7249.0, total_bedrooms=1882.0, population=4274.0, households=1621.0, median_income=1.6983, median_house_value=66600.0),\n",
              " Row(long=-116.5, lati=33.82, housing_median_age=16.0, total_rooms=343.0, total_bedrooms=85.0, population=29.0, households=14.0, median_income=2.1042, median_house_value=87500.0),\n",
              " Row(long=-116.5, lati=33.81, housing_median_age=26.0, total_rooms=5032.0, total_bedrooms=1229.0, population=3086.0, households=1183.0, median_income=2.5399, median_house_value=94800.0),\n",
              " Row(long=-116.5, lati=33.69, housing_median_age=20.0, total_rooms=4810.0, total_bedrooms=1074.0, population=1304.0, households=740.0, median_income=2.25, median_house_value=248100.0),\n",
              " Row(long=-116.51, lati=34.85, housing_median_age=15.0, total_rooms=3149.0, total_bedrooms=713.0, population=1281.0, households=486.0, median_income=2.0, median_house_value=64700.0),\n",
              " Row(long=-116.51, lati=34.45, housing_median_age=21.0, total_rooms=8502.0, total_bedrooms=2634.0, population=2330.0, households=991.0, median_income=1.3811, median_house_value=51300.0),\n",
              " Row(long=-116.51, lati=33.96, housing_median_age=16.0, total_rooms=4913.0, total_bedrooms=1395.0, population=2518.0, households=1132.0, median_income=1.4665, median_house_value=61100.0),\n",
              " Row(long=-116.51, lati=33.94, housing_median_age=12.0, total_rooms=3369.0, total_bedrooms=780.0, population=1315.0, households=584.0, median_income=1.7388, median_house_value=66000.0),\n",
              " Row(long=-116.51, lati=33.89, housing_median_age=21.0, total_rooms=1284.0, total_bedrooms=306.0, population=537.0, households=233.0, median_income=1.95, median_house_value=61000.0),\n",
              " Row(long=-116.52, lati=33.97, housing_median_age=13.0, total_rooms=3921.0, total_bedrooms=754.0, population=1902.0, households=665.0, median_income=3.3616, median_house_value=89600.0),\n",
              " Row(long=-116.52, lati=33.85, housing_median_age=13.0, total_rooms=7559.0, total_bedrooms=1444.0, population=3189.0, households=1105.0, median_income=3.4886, median_house_value=112500.0),\n",
              " Row(long=-116.52, lati=33.84, housing_median_age=17.0, total_rooms=4465.0, total_bedrooms=859.0, population=853.0, households=445.0, median_income=3.6875, median_house_value=130400.0),\n",
              " Row(long=-116.52, lati=33.82, housing_median_age=21.0, total_rooms=10227.0, total_bedrooms=2315.0, population=3623.0, households=1734.0, median_income=2.5212, median_house_value=145200.0),\n",
              " Row(long=-116.52, lati=32.9, housing_median_age=18.0, total_rooms=4454.0, total_bedrooms=852.0, population=1754.0, households=656.0, median_income=4.57, median_house_value=189900.0),\n",
              " Row(long=-116.53, lati=33.95, housing_median_age=18.0, total_rooms=2990.0, total_bedrooms=648.0, population=1280.0, households=532.0, median_income=2.625, median_house_value=68200.0),\n",
              " Row(long=-116.53, lati=33.88, housing_median_age=5.0, total_rooms=4423.0, total_bedrooms=763.0, population=1906.0, households=667.0, median_income=4.6855, median_house_value=125200.0),\n",
              " Row(long=-116.53, lati=33.85, housing_median_age=16.0, total_rooms=10077.0, total_bedrooms=2186.0, population=3048.0, households=1337.0, median_income=2.9647, median_house_value=110900.0),\n",
              " Row(long=-116.53, lati=33.84, housing_median_age=28.0, total_rooms=8399.0, total_bedrooms=1839.0, population=3470.0, households=1340.0, median_income=2.5885, median_house_value=159000.0),\n",
              " Row(long=-116.53, lati=33.78, housing_median_age=18.0, total_rooms=2547.0, total_bedrooms=463.0, population=411.0, households=214.0, median_income=2.5489, median_house_value=220500.0),\n",
              " Row(long=-116.54, lati=33.81, housing_median_age=31.0, total_rooms=6814.0, total_bedrooms=1714.0, population=2628.0, households=1341.0, median_income=2.1176, median_house_value=124100.0),\n",
              " Row(long=-116.54, lati=33.81, housing_median_age=24.0, total_rooms=6087.0, total_bedrooms=1217.0, population=1721.0, households=833.0, median_income=3.1493, median_house_value=199400.0),\n",
              " Row(long=-116.54, lati=33.8, housing_median_age=22.0, total_rooms=6050.0, total_bedrooms=1387.0, population=1432.0, households=890.0, median_income=2.2216, median_house_value=183900.0),\n",
              " Row(long=-116.54, lati=33.79, housing_median_age=18.0, total_rooms=9374.0, total_bedrooms=1780.0, population=1678.0, households=919.0, median_income=3.9737, median_house_value=235600.0),\n",
              " Row(long=-116.55, lati=33.84, housing_median_age=28.0, total_rooms=2992.0, total_bedrooms=562.0, population=676.0, households=346.0, median_income=5.7613, median_house_value=500001.0),\n",
              " Row(long=-116.56, lati=34.06, housing_median_age=15.0, total_rooms=6928.0, total_bedrooms=1529.0, population=2568.0, households=1075.0, median_income=2.5405, median_house_value=69600.0),\n",
              " Row(long=-116.56, lati=33.83, housing_median_age=36.0, total_rooms=1765.0, total_bedrooms=399.0, population=451.0, households=264.0, median_income=2.6083, median_house_value=321900.0),\n",
              " Row(long=-116.56, lati=33.05, housing_median_age=15.0, total_rooms=1985.0, total_bedrooms=361.0, population=536.0, households=209.0, median_income=4.125, median_house_value=148200.0),\n",
              " Row(long=-116.57, lati=35.43, housing_median_age=8.0, total_rooms=9975.0, total_bedrooms=1743.0, population=6835.0, households=1439.0, median_income=2.7138, median_house_value=22500.0),\n",
              " Row(long=-116.57, lati=34.0, housing_median_age=20.0, total_rooms=260.0, total_bedrooms=67.0, population=69.0, households=50.0, median_income=3.5208, median_house_value=76600.0),\n",
              " Row(long=-116.57, lati=33.94, housing_median_age=29.0, total_rooms=551.0, total_bedrooms=166.0, population=224.0, households=107.0, median_income=1.1917, median_house_value=50000.0),\n",
              " Row(long=-116.57, lati=33.84, housing_median_age=18.0, total_rooms=7962.0, total_bedrooms=1652.0, population=2009.0, households=921.0, median_income=3.3897, median_house_value=230200.0),\n",
              " Row(long=-116.57, lati=33.64, housing_median_age=10.0, total_rooms=489.0, total_bedrooms=82.0, population=183.0, households=74.0, median_income=6.2702, median_house_value=345500.0),\n",
              " Row(long=-116.58, lati=32.69, housing_median_age=19.0, total_rooms=4085.0, total_bedrooms=876.0, population=2133.0, households=718.0, median_income=2.919, median_house_value=116500.0),\n",
              " Row(long=-116.6, lati=33.49, housing_median_age=16.0, total_rooms=3730.0, total_bedrooms=827.0, population=1346.0, households=592.0, median_income=2.183, median_house_value=113500.0),\n",
              " Row(long=-116.6, lati=33.06, housing_median_age=23.0, total_rooms=1731.0, total_bedrooms=365.0, population=612.0, households=258.0, median_income=2.7813, median_house_value=172900.0),\n",
              " Row(long=-116.61, lati=33.04, housing_median_age=11.0, total_rooms=2522.0, total_bedrooms=538.0, population=616.0, households=269.0, median_income=3.875, median_house_value=198100.0),\n",
              " Row(long=-116.62, lati=34.23, housing_median_age=14.0, total_rooms=6438.0, total_bedrooms=1719.0, population=1586.0, households=691.0, median_income=1.6136, median_house_value=67400.0),\n",
              " Row(long=-116.62, lati=32.86, housing_median_age=18.0, total_rooms=4115.0, total_bedrooms=847.0, population=2032.0, households=745.0, median_income=4.0159, median_house_value=169100.0),\n",
              " Row(long=-116.66, lati=32.79, housing_median_age=13.0, total_rooms=843.0, total_bedrooms=157.0, population=918.0, households=152.0, median_income=6.2152, median_house_value=240600.0),\n",
              " Row(long=-116.67, lati=32.97, housing_median_age=16.0, total_rooms=349.0, total_bedrooms=74.0, population=120.0, households=43.0, median_income=5.359, median_house_value=193800.0),\n",
              " Row(long=-116.68, lati=33.71, housing_median_age=21.0, total_rooms=3460.0, total_bedrooms=711.0, population=658.0, households=255.0, median_income=3.5882, median_house_value=161100.0),\n",
              " Row(long=-116.68, lati=33.16, housing_median_age=26.0, total_rooms=1820.0, total_bedrooms=374.0, population=1001.0, households=324.0, median_income=2.1797, median_house_value=156300.0),\n",
              " Row(long=-116.71, lati=33.94, housing_median_age=12.0, total_rooms=549.0, total_bedrooms=109.0, population=209.0, households=90.0, median_income=3.0208, median_house_value=66300.0),\n",
              " Row(long=-116.72, lati=34.89, housing_median_age=14.0, total_rooms=4527.0, total_bedrooms=875.0, population=1640.0, households=590.0, median_income=2.8594, median_house_value=81700.0),\n",
              " Row(long=-116.72, lati=33.56, housing_median_age=13.0, total_rooms=3166.0, total_bedrooms=682.0, population=1250.0, households=475.0, median_income=2.355, median_house_value=122900.0),\n",
              " Row(long=-116.74, lati=33.62, housing_median_age=11.0, total_rooms=2385.0, total_bedrooms=661.0, population=682.0, households=242.0, median_income=2.9141, median_house_value=214300.0),\n",
              " Row(long=-116.74, lati=33.33, housing_median_age=17.0, total_rooms=4190.0, total_bedrooms=946.0, population=1802.0, households=673.0, median_income=2.4744, median_house_value=158200.0),\n",
              " Row(long=-116.75, lati=33.83, housing_median_age=16.0, total_rooms=5277.0, total_bedrooms=1070.0, population=657.0, households=276.0, median_income=3.3333, median_house_value=143400.0),\n",
              " Row(long=-116.75, lati=32.85, housing_median_age=17.0, total_rooms=4863.0, total_bedrooms=845.0, population=2266.0, households=769.0, median_income=4.2321, median_house_value=217400.0),\n",
              " Row(long=-116.75, lati=32.82, housing_median_age=17.0, total_rooms=3348.0, total_bedrooms=481.0, population=1222.0, households=443.0, median_income=6.6361, median_house_value=308600.0),\n",
              " Row(long=-116.76, lati=34.29, housing_median_age=14.0, total_rooms=3959.0, total_bedrooms=849.0, population=1064.0, households=376.0, median_income=2.8214, median_house_value=111400.0),\n",
              " Row(long=-116.76, lati=34.14, housing_median_age=4.0, total_rooms=42.0, total_bedrooms=10.0, population=9.0, households=3.0, median_income=0.536, median_house_value=42500.0),\n",
              " Row(long=-116.76, lati=33.46, housing_median_age=6.0, total_rooms=1251.0, total_bedrooms=268.0, population=544.0, households=216.0, median_income=3.0694, median_house_value=173400.0),\n",
              " Row(long=-116.76, lati=32.84, housing_median_age=16.0, total_rooms=3311.0, total_bedrooms=702.0, population=1627.0, households=624.0, median_income=3.1196, median_house_value=187200.0),\n",
              " Row(long=-116.76, lati=32.74, housing_median_age=14.0, total_rooms=4085.0, total_bedrooms=751.0, population=2129.0, households=688.0, median_income=4.7367, median_house_value=214500.0),\n",
              " Row(long=-116.77, lati=33.92, housing_median_age=19.0, total_rooms=2307.0, total_bedrooms=525.0, population=1266.0, households=437.0, median_income=1.6875, median_house_value=63000.0),\n",
              " Row(long=-116.78, lati=33.0, housing_median_age=7.0, total_rooms=12480.0, total_bedrooms=1946.0, population=5102.0, households=1697.0, median_income=5.5102, median_house_value=221000.0),\n",
              " Row(long=-116.79, lati=33.99, housing_median_age=16.0, total_rooms=319.0, total_bedrooms=68.0, population=212.0, households=67.0, median_income=1.4688, median_house_value=90000.0),\n",
              " Row(long=-116.79, lati=32.84, housing_median_age=12.0, total_rooms=4281.0, total_bedrooms=786.0, population=1891.0, households=721.0, median_income=3.5769, median_house_value=231800.0),\n",
              " Row(long=-116.79, lati=32.61, housing_median_age=19.0, total_rooms=2652.0, total_bedrooms=520.0, population=1421.0, households=491.0, median_income=3.5227, median_house_value=206100.0),\n",
              " Row(long=-116.8, lati=33.8, housing_median_age=35.0, total_rooms=324.0, total_bedrooms=63.0, population=158.0, households=39.0, median_income=3.4167, median_house_value=100000.0),\n",
              " Row(long=-116.8, lati=32.8, housing_median_age=11.0, total_rooms=3874.0, total_bedrooms=565.0, population=1672.0, households=546.0, median_income=6.1481, median_house_value=274600.0),\n",
              " Row(long=-116.82, lati=34.24, housing_median_age=11.0, total_rooms=5799.0, total_bedrooms=1527.0, population=713.0, households=262.0, median_income=2.5147, median_house_value=84700.0),\n",
              " Row(long=-116.83, lati=34.25, housing_median_age=15.0, total_rooms=8948.0, total_bedrooms=1985.0, population=1316.0, households=514.0, median_income=2.7375, median_house_value=90800.0),\n",
              " Row(long=-116.83, lati=32.83, housing_median_age=6.0, total_rooms=3123.0, total_bedrooms=495.0, population=1513.0, households=480.0, median_income=5.4288, median_house_value=167800.0),\n",
              " Row(long=-116.84, lati=33.01, housing_median_age=5.0, total_rooms=5673.0, total_bedrooms=855.0, population=2592.0, households=797.0, median_income=5.4155, median_house_value=199200.0),\n",
              " Row(long=-116.84, lati=32.92, housing_median_age=20.0, total_rooms=1066.0, total_bedrooms=219.0, population=536.0, households=173.0, median_income=3.1607, median_house_value=119300.0),\n",
              " Row(long=-116.84, lati=32.86, housing_median_age=16.0, total_rooms=2502.0, total_bedrooms=532.0, population=1211.0, households=494.0, median_income=3.2516, median_house_value=202100.0),\n",
              " Row(long=-116.85, lati=34.98, housing_median_age=26.0, total_rooms=3606.0, total_bedrooms=792.0, population=1683.0, households=608.0, median_income=2.6587, median_house_value=57400.0),\n",
              " Row(long=-116.85, lati=34.25, housing_median_age=5.0, total_rooms=5806.0, total_bedrooms=1030.0, population=569.0, households=219.0, median_income=4.0132, median_house_value=163100.0),\n",
              " Row(long=-116.85, lati=32.83, housing_median_age=17.0, total_rooms=4234.0, total_bedrooms=770.0, population=2191.0, households=725.0, median_income=3.6445, median_house_value=197600.0),\n",
              " Row(long=-116.86, lati=34.23, housing_median_age=13.0, total_rooms=4760.0, total_bedrooms=938.0, population=309.0, households=132.0, median_income=5.4618, median_house_value=147800.0),\n",
              " Row(long=-116.86, lati=33.97, housing_median_age=11.0, total_rooms=658.0, total_bedrooms=131.0, population=376.0, households=120.0, median_income=2.3977, median_house_value=58000.0),\n",
              " Row(long=-116.86, lati=33.84, housing_median_age=18.0, total_rooms=521.0, total_bedrooms=118.0, population=174.0, households=74.0, median_income=2.7788, median_house_value=91100.0),\n",
              " Row(long=-116.86, lati=33.73, housing_median_age=13.0, total_rooms=2604.0, total_bedrooms=443.0, population=978.0, households=417.0, median_income=2.933, median_house_value=170700.0),\n",
              " Row(long=-116.86, lati=33.05, housing_median_age=17.0, total_rooms=9044.0, total_bedrooms=1689.0, population=5030.0, households=1596.0, median_income=3.6348, median_house_value=164500.0),\n",
              " Row(long=-116.86, lati=33.02, housing_median_age=17.0, total_rooms=401.0, total_bedrooms=68.0, population=251.0, households=69.0, median_income=4.6518, median_house_value=170200.0),\n",
              " Row(long=-116.86, lati=32.87, housing_median_age=17.0, total_rooms=5799.0, total_bedrooms=921.0, population=2630.0, households=843.0, median_income=5.0524, median_house_value=285400.0),\n",
              " Row(long=-116.86, lati=32.8, housing_median_age=19.0, total_rooms=1747.0, total_bedrooms=291.0, population=848.0, households=290.0, median_income=4.875, median_house_value=187200.0),\n",
              " Row(long=-116.87, lati=33.94, housing_median_age=35.0, total_rooms=4448.0, total_bedrooms=906.0, population=2736.0, households=843.0, median_income=2.218, median_house_value=73400.0),\n",
              " Row(long=-116.87, lati=33.93, housing_median_age=32.0, total_rooms=3141.0, total_bedrooms=812.0, population=2589.0, households=721.0, median_income=1.4556, median_house_value=54600.0),\n",
              " Row(long=-116.87, lati=33.76, housing_median_age=5.0, total_rooms=4116.0, total_bedrooms=761.0, population=1714.0, households=717.0, median_income=2.5612, median_house_value=130800.0),\n",
              " Row(long=-116.87, lati=33.57, housing_median_age=12.0, total_rooms=1153.0, total_bedrooms=265.0, population=446.0, households=195.0, median_income=3.038, median_house_value=128100.0),\n",
              " Row(long=-116.87, lati=32.75, housing_median_age=15.0, total_rooms=2053.0, total_bedrooms=321.0, population=993.0, households=309.0, median_income=5.5164, median_house_value=248900.0),\n",
              " Row(long=-116.87, lati=32.72, housing_median_age=13.0, total_rooms=3268.0, total_bedrooms=491.0, population=1431.0, households=503.0, median_income=5.7652, median_house_value=259900.0),\n",
              " Row(long=-116.88, lati=34.25, housing_median_age=11.0, total_rooms=1089.0, total_bedrooms=198.0, population=230.0, households=90.0, median_income=4.9643, median_house_value=176000.0),\n",
              " Row(long=-116.88, lati=34.24, housing_median_age=13.0, total_rooms=4137.0, total_bedrooms=796.0, population=573.0, households=218.0, median_income=4.6394, median_house_value=226500.0),\n",
              " Row(long=-116.88, lati=34.19, housing_median_age=38.0, total_rooms=898.0, total_bedrooms=259.0, population=106.0, households=52.0, median_income=1.6875, median_house_value=225000.0),\n",
              " Row(long=-116.88, lati=34.08, housing_median_age=52.0, total_rooms=3419.0, total_bedrooms=777.0, population=710.0, households=265.0, median_income=3.9028, median_house_value=128600.0),\n",
              " Row(long=-116.88, lati=33.93, housing_median_age=37.0, total_rooms=1495.0, total_bedrooms=429.0, population=865.0, households=342.0, median_income=1.2188, median_house_value=55000.0),\n",
              " Row(long=-116.88, lati=33.74, housing_median_age=20.0, total_rooms=3111.0, total_bedrooms=623.0, population=1000.0, households=508.0, median_income=1.5982, median_house_value=140000.0),\n",
              " Row(long=-116.88, lati=33.05, housing_median_age=11.0, total_rooms=7217.0, total_bedrooms=1583.0, population=4197.0, households=1502.0, median_income=2.8827, median_house_value=166700.0),\n",
              " Row(long=-116.88, lati=33.02, housing_median_age=16.0, total_rooms=3204.0, total_bedrooms=541.0, population=1818.0, households=529.0, median_income=5.2596, median_house_value=171500.0),\n",
              " Row(long=-116.88, lati=32.86, housing_median_age=9.0, total_rooms=3049.0, total_bedrooms=471.0, population=1527.0, households=515.0, median_income=5.0733, median_house_value=196600.0),\n",
              " Row(long=-116.89, lati=33.93, housing_median_age=29.0, total_rooms=4549.0, total_bedrooms=916.0, population=2494.0, households=912.0, median_income=2.0976, median_house_value=72600.0),\n",
              " Row(long=-116.89, lati=33.92, housing_median_age=10.0, total_rooms=2653.0, total_bedrooms=621.0, population=1967.0, households=598.0, median_income=2.6643, median_house_value=81000.0),\n",
              " Row(long=-116.89, lati=33.86, housing_median_age=2.0, total_rooms=6900.0, total_bedrooms=1238.0, population=1950.0, households=980.0, median_income=3.0417, median_house_value=146300.0),\n",
              " Row(long=-116.89, lati=33.75, housing_median_age=23.0, total_rooms=2719.0, total_bedrooms=538.0, population=930.0, households=485.0, median_income=2.0154, median_house_value=81700.0),\n",
              " Row(long=-116.89, lati=33.48, housing_median_age=14.0, total_rooms=1016.0, total_bedrooms=219.0, population=443.0, households=169.0, median_income=2.8071, median_house_value=137500.0),\n",
              " Row(long=-116.89, lati=32.99, housing_median_age=14.0, total_rooms=2816.0, total_bedrooms=501.0, population=1448.0, households=452.0, median_income=5.0278, median_house_value=210900.0),\n",
              " Row(long=-116.89, lati=32.85, housing_median_age=16.0, total_rooms=1743.0, total_bedrooms=333.0, population=652.0, households=322.0, median_income=2.8906, median_house_value=158300.0),\n",
              " Row(long=-116.89, lati=32.85, housing_median_age=15.0, total_rooms=3560.0, total_bedrooms=593.0, population=1757.0, households=574.0, median_income=5.1185, median_house_value=185300.0),\n",
              " Row(long=-116.89, lati=32.67, housing_median_age=9.0, total_rooms=2652.0, total_bedrooms=393.0, population=1355.0, households=362.0, median_income=6.2578, median_house_value=293100.0),\n",
              " Row(long=-116.9, lati=34.69, housing_median_age=10.0, total_rooms=337.0, total_bedrooms=102.0, population=108.0, households=50.0, median_income=0.4999, median_house_value=55000.0),\n",
              " Row(long=-116.9, lati=34.52, housing_median_age=20.0, total_rooms=3481.0, total_bedrooms=840.0, population=1694.0, households=587.0, median_income=1.4, median_house_value=77700.0),\n",
              " Row(long=-116.9, lati=34.25, housing_median_age=16.0, total_rooms=3018.0, total_bedrooms=523.0, population=556.0, households=244.0, median_income=3.5288, median_house_value=189700.0),\n",
              " Row(long=-116.9, lati=33.98, housing_median_age=30.0, total_rooms=3915.0, total_bedrooms=672.0, population=1820.0, households=643.0, median_income=3.6339, median_house_value=98600.0),\n",
              " Row(long=-116.9, lati=33.93, housing_median_age=34.0, total_rooms=3183.0, total_bedrooms=738.0, population=1820.0, households=647.0, median_income=2.2321, median_house_value=71800.0),\n",
              " Row(long=-116.9, lati=33.74, housing_median_age=14.0, total_rooms=2281.0, total_bedrooms=426.0, population=894.0, households=430.0, median_income=2.3712, median_house_value=127900.0),\n",
              " Row(long=-116.9, lati=33.65, housing_median_age=15.0, total_rooms=652.0, total_bedrooms=149.0, population=248.0, households=97.0, median_income=2.1071, median_house_value=93800.0),\n",
              " Row(long=-116.9, lati=33.22, housing_median_age=11.0, total_rooms=4132.0, total_bedrooms=773.0, population=2012.0, households=703.0, median_income=3.1906, median_house_value=234500.0),\n",
              " Row(long=-116.9, lati=33.03, housing_median_age=11.0, total_rooms=3213.0, total_bedrooms=634.0, population=1975.0, households=579.0, median_income=3.475, median_house_value=167200.0),\n",
              " Row(long=-116.9, lati=32.9, housing_median_age=19.0, total_rooms=3090.0, total_bedrooms=552.0, population=1621.0, households=520.0, median_income=4.0806, median_house_value=189200.0),\n",
              " Row(long=-116.9, lati=32.84, housing_median_age=18.0, total_rooms=4215.0, total_bedrooms=810.0, population=2104.0, households=773.0, median_income=4.0873, median_house_value=146900.0),\n",
              " Row(long=-116.9, lati=32.84, housing_median_age=18.0, total_rooms=3612.0, total_bedrooms=737.0, population=1864.0, households=713.0, median_income=2.7069, median_house_value=153800.0),\n",
              " Row(long=-116.9, lati=32.79, housing_median_age=21.0, total_rooms=3770.0, total_bedrooms=491.0, population=1410.0, households=446.0, median_income=6.7685, median_house_value=294700.0),\n",
              " Row(long=-116.9, lati=32.77, housing_median_age=8.0, total_rooms=3600.0, total_bedrooms=492.0, population=1421.0, households=482.0, median_income=6.2609, median_house_value=307100.0),\n",
              " Row(long=-116.91, lati=34.0, housing_median_age=18.0, total_rooms=553.0, total_bedrooms=100.0, population=215.0, households=82.0, median_income=5.5, median_house_value=193800.0),\n",
              " Row(long=-116.91, lati=33.75, housing_median_age=13.0, total_rooms=10886.0, total_bedrooms=2127.0, population=4266.0, households=1955.0, median_income=2.3169, median_house_value=123400.0),\n",
              " Row(long=-116.91, lati=33.71, housing_median_age=19.0, total_rooms=6807.0, total_bedrooms=1164.0, population=2703.0, households=1055.0, median_income=3.1591, median_house_value=189700.0),\n",
              " Row(long=-116.91, lati=32.87, housing_median_age=14.0, total_rooms=3048.0, total_bedrooms=597.0, population=1690.0, households=576.0, median_income=4.3818, median_house_value=147100.0),\n",
              " Row(long=-116.91, lati=32.86, housing_median_age=15.0, total_rooms=3153.0, total_bedrooms=628.0, population=1633.0, households=527.0, median_income=3.6898, median_house_value=131000.0),\n",
              " Row(long=-116.91, lati=32.86, housing_median_age=10.0, total_rooms=3699.0, total_bedrooms=838.0, population=2310.0, households=759.0, median_income=2.5365, median_house_value=139500.0),\n",
              " Row(long=-116.91, lati=32.85, housing_median_age=21.0, total_rooms=4152.0, total_bedrooms=703.0, population=2255.0, households=697.0, median_income=4.5096, median_house_value=159500.0),\n",
              " Row(long=-116.91, lati=32.83, housing_median_age=16.0, total_rooms=5203.0, total_bedrooms=898.0, population=2515.0, households=862.0, median_income=4.105, median_house_value=174400.0),\n",
              " Row(long=-116.91, lati=32.82, housing_median_age=14.0, total_rooms=1978.0, total_bedrooms=424.0, population=1085.0, households=387.0, median_income=3.8073, median_house_value=170100.0),\n",
              " Row(long=-116.91, lati=32.81, housing_median_age=22.0, total_rooms=4331.0, total_bedrooms=637.0, population=1952.0, households=654.0, median_income=5.4834, median_house_value=232000.0),\n",
              " Row(long=-116.91, lati=32.8, housing_median_age=32.0, total_rooms=1943.0, total_bedrooms=287.0, population=1081.0, households=292.0, median_income=5.6846, median_house_value=208800.0),\n",
              " Row(long=-116.91, lati=32.78, housing_median_age=15.0, total_rooms=4058.0, total_bedrooms=511.0, population=1580.0, households=473.0, median_income=7.5, median_house_value=316400.0),\n",
              " Row(long=-116.91, lati=32.73, housing_median_age=8.0, total_rooms=4630.0, total_bedrooms=624.0, population=2048.0, households=575.0, median_income=6.4745, median_house_value=300300.0),\n",
              " Row(long=-116.92, lati=33.63, housing_median_age=18.0, total_rooms=397.0, total_bedrooms=89.0, population=239.0, households=80.0, median_income=2.8125, median_house_value=143800.0),\n",
              " Row(long=-116.92, lati=32.85, housing_median_age=23.0, total_rooms=1378.0, total_bedrooms=269.0, population=767.0, households=266.0, median_income=4.0625, median_house_value=145000.0),\n",
              " Row(long=-116.92, lati=32.84, housing_median_age=16.0, total_rooms=4675.0, total_bedrooms=834.0, population=2188.0, households=817.0, median_income=4.6674, median_house_value=178000.0),\n",
              " Row(long=-116.92, lati=32.82, housing_median_age=34.0, total_rooms=1765.0, total_bedrooms=284.0, population=772.0, households=282.0, median_income=5.0118, median_house_value=165300.0),\n",
              " Row(long=-116.92, lati=32.82, housing_median_age=17.0, total_rooms=2492.0, total_bedrooms=494.0, population=1278.0, households=439.0, median_income=2.8875, median_house_value=155700.0),\n",
              " Row(long=-116.92, lati=32.82, housing_median_age=16.0, total_rooms=2784.0, total_bedrooms=468.0, population=1458.0, households=465.0, median_income=4.0048, median_house_value=184600.0),\n",
              " Row(long=-116.92, lati=32.8, housing_median_age=33.0, total_rooms=1518.0, total_bedrooms=268.0, population=857.0, households=272.0, median_income=3.5586, median_house_value=160400.0),\n",
              " Row(long=-116.92, lati=32.78, housing_median_age=21.0, total_rooms=4192.0, total_bedrooms=752.0, population=2101.0, households=710.0, median_income=4.4306, median_house_value=159100.0),\n",
              " Row(long=-116.92, lati=32.76, housing_median_age=9.0, total_rooms=1859.0, total_bedrooms=307.0, population=947.0, households=304.0, median_income=5.9202, median_house_value=181300.0),\n",
              " Row(long=-116.93, lati=33.93, housing_median_age=13.0, total_rooms=7804.0, total_bedrooms=1594.0, population=3297.0, households=1469.0, median_income=2.0549, median_house_value=95600.0),\n",
              " Row(long=-116.93, lati=33.75, housing_median_age=14.0, total_rooms=6027.0, total_bedrooms=1148.0, population=3136.0, households=1036.0, median_income=2.964, median_house_value=121500.0),\n",
              " Row(long=-116.93, lati=33.74, housing_median_age=15.0, total_rooms=3757.0, total_bedrooms=666.0, population=1693.0, households=654.0, median_income=3.6806, median_house_value=112800.0),\n",
              " Row(long=-116.93, lati=33.06, housing_median_age=16.0, total_rooms=3490.0, total_bedrooms=545.0, population=1628.0, households=535.0, median_income=4.8836, median_house_value=239900.0),\n",
              " Row(long=-116.93, lati=32.87, housing_median_age=17.0, total_rooms=3722.0, total_bedrooms=670.0, population=1561.0, households=604.0, median_income=3.6027, median_house_value=211900.0),\n",
              " Row(long=-116.93, lati=32.85, housing_median_age=5.0, total_rooms=4116.0, total_bedrooms=990.0, population=2770.0, households=905.0, median_income=3.1142, median_house_value=150000.0),\n",
              " Row(long=-116.93, lati=32.85, housing_median_age=15.0, total_rooms=3273.0, total_bedrooms=895.0, population=1872.0, households=842.0, median_income=2.5388, median_house_value=119000.0),\n",
              " Row(long=-116.93, lati=32.83, housing_median_age=21.0, total_rooms=1283.0, total_bedrooms=278.0, population=684.0, households=289.0, median_income=2.3203, median_house_value=163500.0),\n",
              " Row(long=-116.93, lati=32.82, housing_median_age=26.0, total_rooms=4129.0, total_bedrooms=714.0, population=1820.0, households=718.0, median_income=4.2586, median_house_value=171000.0),\n",
              " Row(long=-116.93, lati=32.81, housing_median_age=18.0, total_rooms=2447.0, total_bedrooms=466.0, population=1573.0, households=472.0, median_income=2.6429, median_house_value=125400.0),\n",
              " Row(long=-116.93, lati=32.79, housing_median_age=23.0, total_rooms=5759.0, total_bedrooms=1258.0, population=3108.0, households=1202.0, median_income=3.0927, median_house_value=140600.0),\n",
              " Row(long=-116.93, lati=32.79, housing_median_age=19.0, total_rooms=3354.0, total_bedrooms=699.0, population=1948.0, households=682.0, median_income=3.0192, median_house_value=142300.0),\n",
              " Row(long=-116.94, lati=34.4, housing_median_age=20.0, total_rooms=6541.0, total_bedrooms=1401.0, population=2631.0, households=980.0, median_income=2.1339, median_house_value=78500.0),\n",
              " Row(long=-116.94, lati=34.24, housing_median_age=27.0, total_rooms=12342.0, total_bedrooms=2630.0, population=1300.0, households=566.0, median_income=1.998, median_house_value=153500.0),\n",
              " Row(long=-116.94, lati=33.77, housing_median_age=14.0, total_rooms=7240.0, total_bedrooms=1410.0, population=2708.0, households=1240.0, median_income=2.4145, median_house_value=137600.0),\n",
              " Row(long=-116.94, lati=33.74, housing_median_age=19.0, total_rooms=2901.0, total_bedrooms=445.0, population=1414.0, households=475.0, median_income=4.6406, median_house_value=118900.0),\n",
              " Row(long=-116.94, lati=33.73, housing_median_age=17.0, total_rooms=5160.0, total_bedrooms=851.0, population=2344.0, households=781.0, median_income=3.7175, median_house_value=120000.0),\n",
              " Row(long=-116.94, lati=32.89, housing_median_age=24.0, total_rooms=2541.0, total_bedrooms=381.0, population=1078.0, households=372.0, median_income=5.2542, median_house_value=227800.0),\n",
              " Row(long=-116.94, lati=32.87, housing_median_age=24.0, total_rooms=2824.0, total_bedrooms=441.0, population=1480.0, households=471.0, median_income=5.2614, median_house_value=177200.0),\n",
              " Row(long=-116.94, lati=32.84, housing_median_age=32.0, total_rooms=1607.0, total_bedrooms=253.0, population=778.0, households=262.0, median_income=4.5278, median_house_value=166300.0),\n",
              " Row(long=-116.94, lati=32.83, housing_median_age=38.0, total_rooms=1701.0, total_bedrooms=317.0, population=872.0, households=304.0, median_income=3.7831, median_house_value=147800.0),\n",
              " Row(long=-116.94, lati=32.82, housing_median_age=35.0, total_rooms=1737.0, total_bedrooms=285.0, population=826.0, households=294.0, median_income=3.2411, median_house_value=159200.0),\n",
              " Row(long=-116.94, lati=32.8, housing_median_age=28.0, total_rooms=3042.0, total_bedrooms=729.0, population=1964.0, households=703.0, median_income=2.4141, median_house_value=137500.0),\n",
              " Row(long=-116.94, lati=32.8, housing_median_age=21.0, total_rooms=7906.0, total_bedrooms=2292.0, population=4868.0, households=2117.0, median_income=1.8937, median_house_value=109800.0),\n",
              " Row(long=-116.94, lati=32.78, housing_median_age=17.0, total_rooms=13559.0, total_bedrooms=2656.0, population=6990.0, households=2533.0, median_income=3.434, median_house_value=193200.0),\n",
              " Row(long=-116.94, lati=32.75, housing_median_age=4.0, total_rooms=14934.0, total_bedrooms=2479.0, population=6945.0, households=2418.0, median_income=5.1221, median_house_value=229700.0),\n",
              " Row(long=-116.95, lati=33.97, housing_median_age=14.0, total_rooms=5320.0, total_bedrooms=974.0, population=1947.0, households=843.0, median_income=3.1393, median_house_value=116300.0),\n",
              " Row(long=-116.95, lati=33.79, housing_median_age=8.0, total_rooms=10997.0, total_bedrooms=2205.0, population=5060.0, households=1949.0, median_income=2.1979, median_house_value=95300.0),\n",
              " Row(long=-116.95, lati=33.78, housing_median_age=24.0, total_rooms=3409.0, total_bedrooms=804.0, population=1939.0, households=739.0, median_income=1.7303, median_house_value=74000.0),\n",
              " Row(long=-116.95, lati=33.76, housing_median_age=10.0, total_rooms=6890.0, total_bedrooms=1702.0, population=3141.0, households=1451.0, median_income=1.7079, median_house_value=95900.0),\n",
              " Row(long=-116.95, lati=33.75, housing_median_age=23.0, total_rooms=4676.0, total_bedrooms=1096.0, population=2770.0, households=1057.0, median_income=1.7847, median_house_value=109500.0),\n",
              " Row(long=-116.95, lati=33.75, housing_median_age=19.0, total_rooms=2238.0, total_bedrooms=573.0, population=1190.0, households=507.0, median_income=2.0714, median_house_value=85800.0),\n",
              " Row(long=-116.95, lati=33.74, housing_median_age=20.0, total_rooms=2233.0, total_bedrooms=431.0, population=1024.0, households=399.0, median_income=2.4554, median_house_value=89400.0),\n",
              " Row(long=-116.95, lati=33.74, housing_median_age=18.0, total_rooms=1996.0, total_bedrooms=405.0, population=1270.0, households=400.0, median_income=2.7083, median_house_value=91200.0),\n",
              " Row(long=-116.95, lati=33.73, housing_median_age=21.0, total_rooms=4587.0, total_bedrooms=810.0, population=2233.0, households=765.0, median_income=3.2371, median_house_value=94500.0),\n",
              " Row(long=-116.95, lati=33.68, housing_median_age=11.0, total_rooms=1183.0, total_bedrooms=178.0, population=543.0, households=147.0, median_income=4.4792, median_house_value=173900.0),\n",
              " Row(long=-116.95, lati=33.31, housing_median_age=16.0, total_rooms=2921.0, total_bedrooms=639.0, population=1838.0, households=540.0, median_income=2.2393, median_house_value=117000.0),\n",
              " Row(long=-116.95, lati=32.96, housing_median_age=18.0, total_rooms=2087.0, total_bedrooms=353.0, population=992.0, households=329.0, median_income=4.5, median_house_value=222600.0),\n",
              " Row(long=-116.95, lati=32.84, housing_median_age=31.0, total_rooms=1307.0, total_bedrooms=245.0, population=752.0, households=231.0, median_income=3.4286, median_house_value=129400.0),\n",
              " Row(long=-116.95, lati=32.83, housing_median_age=14.0, total_rooms=12517.0, total_bedrooms=2506.0, population=6389.0, households=2333.0, median_income=3.3081, median_house_value=168700.0),\n",
              " Row(long=-116.95, lati=32.82, housing_median_age=18.0, total_rooms=3038.0, total_bedrooms=592.0, population=1904.0, households=595.0, median_income=3.8024, median_house_value=144900.0),\n",
              " Row(long=-116.95, lati=32.82, housing_median_age=12.0, total_rooms=5535.0, total_bedrooms=1434.0, population=3112.0, households=1262.0, median_income=2.5949, median_house_value=108300.0),\n",
              " Row(long=-116.95, lati=32.81, housing_median_age=31.0, total_rooms=1277.0, total_bedrooms=293.0, population=698.0, households=237.0, median_income=3.1106, median_house_value=147700.0),\n",
              " Row(long=-116.95, lati=32.81, housing_median_age=15.0, total_rooms=2619.0, total_bedrooms=599.0, population=1513.0, households=537.0, median_income=2.543, median_house_value=100000.0),\n",
              " Row(long=-116.95, lati=32.79, housing_median_age=19.0, total_rooms=11391.0, total_bedrooms=3093.0, population=7178.0, households=2905.0, median_income=2.0326, median_house_value=123200.0),\n",
              " Row(long=-116.95, lati=32.78, housing_median_age=33.0, total_rooms=2432.0, total_bedrooms=443.0, population=1147.0, households=427.0, median_income=3.3906, median_house_value=138100.0),\n",
              " Row(long=-116.95, lati=32.78, housing_median_age=20.0, total_rooms=3425.0, total_bedrooms=448.0, population=1489.0, households=443.0, median_income=6.2552, median_house_value=296400.0),\n",
              " Row(long=-116.95, lati=32.77, housing_median_age=25.0, total_rooms=3308.0, total_bedrooms=421.0, population=1201.0, households=414.0, median_income=6.3191, median_house_value=303400.0),\n",
              " Row(long=-116.95, lati=32.76, housing_median_age=13.0, total_rooms=5543.0, total_bedrooms=857.0, population=2074.0, households=737.0, median_income=4.9528, median_house_value=266200.0),\n",
              " Row(long=-116.95, lati=32.73, housing_median_age=17.0, total_rooms=1635.0, total_bedrooms=272.0, population=960.0, households=279.0, median_income=5.2671, median_house_value=157100.0),\n",
              " Row(long=-116.96, lati=34.94, housing_median_age=20.0, total_rooms=2355.0, total_bedrooms=467.0, population=1198.0, households=428.0, median_income=3.9934, median_house_value=88500.0),\n",
              " Row(long=-116.96, lati=34.83, housing_median_age=30.0, total_rooms=1211.0, total_bedrooms=289.0, population=611.0, households=230.0, median_income=1.6667, median_house_value=44700.0),\n",
              " Row(long=-116.96, lati=33.94, housing_median_age=22.0, total_rooms=1999.0, total_bedrooms=497.0, population=1304.0, households=479.0, median_income=1.4063, median_house_value=81900.0),\n",
              " Row(long=-116.96, lati=33.79, housing_median_age=21.0, total_rooms=2990.0, total_bedrooms=691.0, population=2108.0, households=660.0, median_income=2.0135, median_house_value=83000.0),\n",
              " Row(long=-116.96, lati=33.75, housing_median_age=35.0, total_rooms=3269.0, total_bedrooms=757.0, population=2328.0, households=705.0, median_income=2.5898, median_house_value=76300.0),\n",
              " Row(long=-116.96, lati=33.74, housing_median_age=19.0, total_rooms=3649.0, total_bedrooms=755.0, population=1717.0, households=696.0, median_income=2.2115, median_house_value=87600.0),\n",
              " Row(long=-116.96, lati=33.73, housing_median_age=20.0, total_rooms=4735.0, total_bedrooms=973.0, population=2306.0, households=904.0, median_income=3.069, median_house_value=87000.0),\n",
              " Row(long=-116.96, lati=32.9, housing_median_age=16.0, total_rooms=3047.0, total_bedrooms=495.0, population=1507.0, households=499.0, median_income=5.3008, median_house_value=186500.0),\n",
              " Row(long=-116.96, lati=32.87, housing_median_age=17.0, total_rooms=4713.0, total_bedrooms=740.0, population=2531.0, households=723.0, median_income=4.8286, median_house_value=158500.0),\n",
              " Row(long=-116.96, lati=32.86, housing_median_age=14.0, total_rooms=3064.0, total_bedrooms=496.0, population=1681.0, households=503.0, median_income=4.4347, median_house_value=160300.0),\n",
              " Row(long=-116.96, lati=32.85, housing_median_age=11.0, total_rooms=9724.0, total_bedrooms=1796.0, population=5247.0, households=1777.0, median_income=4.1716, median_house_value=166100.0),\n",
              " Row(long=-116.96, lati=32.81, housing_median_age=8.0, total_rooms=2378.0, total_bedrooms=638.0, population=1410.0, households=623.0, median_income=2.9097, median_house_value=152500.0),\n",
              " Row(long=-116.96, lati=32.8, housing_median_age=25.0, total_rooms=3421.0, total_bedrooms=803.0, population=1681.0, households=742.0, median_income=3.369, median_house_value=134400.0),\n",
              " Row(long=-116.96, lati=32.8, housing_median_age=19.0, total_rooms=4574.0, total_bedrooms=1152.0, population=3045.0, households=1057.0, median_income=2.065, median_house_value=124100.0),\n",
              " Row(long=-116.96, lati=32.8, housing_median_age=16.0, total_rooms=3920.0, total_bedrooms=1094.0, population=2612.0, households=1023.0, median_income=1.3291, median_house_value=120800.0),\n",
              " Row(long=-116.96, lati=32.79, housing_median_age=35.0, total_rooms=1081.0, total_bedrooms=266.0, population=691.0, households=259.0, median_income=2.6324, median_house_value=133700.0),\n",
              " Row(long=-116.96, lati=32.79, housing_median_age=19.0, total_rooms=3008.0, total_bedrooms=693.0, population=2341.0, households=689.0, median_income=2.6087, median_house_value=123800.0),\n",
              " Row(long=-116.96, lati=32.79, housing_median_age=17.0, total_rooms=5236.0, total_bedrooms=1325.0, population=3308.0, households=1233.0, median_income=2.3221, median_house_value=138800.0),\n",
              " Row(long=-116.96, lati=32.78, housing_median_age=26.0, total_rooms=2807.0, total_bedrooms=630.0, population=1785.0, households=580.0, median_income=2.1638, median_house_value=132800.0),\n",
              " Row(long=-116.97, lati=33.96, housing_median_age=12.0, total_rooms=5876.0, total_bedrooms=1222.0, population=2992.0, households=1151.0, median_income=2.4322, median_house_value=112100.0),\n",
              " Row(long=-116.97, lati=33.94, housing_median_age=29.0, total_rooms=3197.0, total_bedrooms=632.0, population=1722.0, households=603.0, median_income=3.0432, median_house_value=91200.0),\n",
              " Row(long=-116.97, lati=33.93, housing_median_age=29.0, total_rooms=2793.0, total_bedrooms=722.0, population=1583.0, households=626.0, median_income=1.424, median_house_value=73200.0),\n",
              " Row(long=-116.97, lati=33.78, housing_median_age=24.0, total_rooms=2680.0, total_bedrooms=606.0, population=1728.0, households=527.0, median_income=2.535, median_house_value=74800.0),\n",
              " Row(long=-116.97, lati=33.74, housing_median_age=31.0, total_rooms=2712.0, total_bedrooms=628.0, population=1519.0, households=629.0, median_income=1.942, median_house_value=86200.0),\n",
              " Row(long=-116.97, lati=33.74, housing_median_age=20.0, total_rooms=3674.0, total_bedrooms=792.0, population=1498.0, households=758.0, median_income=2.2161, median_house_value=76900.0),\n",
              " Row(long=-116.97, lati=33.13, housing_median_age=10.0, total_rooms=5149.0, total_bedrooms=851.0, population=2177.0, households=783.0, median_income=6.7957, median_house_value=287500.0),\n",
              " Row(long=-116.97, lati=32.83, housing_median_age=23.0, total_rooms=149.0, total_bedrooms=32.0, population=101.0, households=34.0, median_income=2.6458, median_house_value=112500.0),\n",
              " Row(long=-116.97, lati=32.8, housing_median_age=15.0, total_rooms=3927.0, total_bedrooms=1018.0, population=2204.0, households=977.0, median_income=2.4367, median_house_value=111400.0),\n",
              " Row(long=-116.97, lati=32.79, housing_median_age=32.0, total_rooms=1255.0, total_bedrooms=338.0, population=782.0, households=302.0, median_income=2.6635, median_house_value=113600.0),\n",
              " Row(long=-116.97, lati=32.79, housing_median_age=19.0, total_rooms=4108.0, total_bedrooms=1101.0, population=2971.0, households=1006.0, median_income=1.9893, median_house_value=112500.0),\n",
              " Row(long=-116.97, lati=32.78, housing_median_age=37.0, total_rooms=1255.0, total_bedrooms=238.0, population=671.0, households=278.0, median_income=3.7019, median_house_value=138600.0),\n",
              " Row(long=-116.97, lati=32.78, housing_median_age=35.0, total_rooms=1113.0, total_bedrooms=236.0, population=681.0, households=246.0, median_income=2.9784, median_house_value=136400.0),\n",
              " Row(long=-116.97, lati=32.78, housing_median_age=26.0, total_rooms=8902.0, total_bedrooms=1413.0, population=3941.0, households=1387.0, median_income=4.7943, median_house_value=226900.0),\n",
              " Row(long=-116.97, lati=32.76, housing_median_age=33.0, total_rooms=3071.0, total_bedrooms=466.0, population=1348.0, households=513.0, median_income=6.1768, median_house_value=228900.0),\n",
              " Row(long=-116.97, lati=32.76, housing_median_age=26.0, total_rooms=2460.0, total_bedrooms=313.0, population=838.0, households=299.0, median_income=5.9878, median_house_value=270700.0),\n",
              " Row(long=-116.97, lati=32.75, housing_median_age=28.0, total_rooms=3519.0, total_bedrooms=583.0, population=1720.0, households=590.0, median_income=4.7973, median_house_value=186900.0),\n",
              " Row(long=-116.97, lati=32.74, housing_median_age=14.0, total_rooms=7410.0, total_bedrooms=1344.0, population=3597.0, households=1274.0, median_income=4.2192, median_house_value=176100.0),\n",
              " Row(long=-116.97, lati=32.65, housing_median_age=4.0, total_rooms=16450.0, total_bedrooms=2833.0, population=7985.0, households=2683.0, median_income=5.6631, median_house_value=233400.0),\n",
              " Row(long=-116.97, lati=32.56, housing_median_age=23.0, total_rooms=1262.0, total_bedrooms=294.0, population=5176.0, households=275.0, median_income=2.5625, median_house_value=153300.0),\n",
              " Row(long=-116.98, lati=34.13, housing_median_age=16.0, total_rooms=2098.0, total_bedrooms=449.0, population=342.0, households=143.0, median_income=4.0333, median_house_value=133900.0),\n",
              " Row(long=-116.98, lati=34.07, housing_median_age=21.0, total_rooms=739.0, total_bedrooms=125.0, population=199.0, households=82.0, median_income=4.8958, median_house_value=117500.0),\n",
              " Row(long=-116.98, lati=34.05, housing_median_age=6.0, total_rooms=2290.0, total_bedrooms=312.0, population=957.0, households=274.0, median_income=7.2708, median_house_value=316700.0),\n",
              " Row(long=-116.98, lati=33.94, housing_median_age=27.0, total_rooms=3459.0, total_bedrooms=640.0, population=1760.0, households=654.0, median_income=3.4545, median_house_value=89800.0),\n",
              " Row(long=-116.98, lati=33.93, housing_median_age=40.0, total_rooms=2277.0, total_bedrooms=498.0, population=1391.0, households=453.0, median_income=1.9472, median_house_value=73200.0),\n",
              " Row(long=-116.98, lati=33.93, housing_median_age=33.0, total_rooms=376.0, total_bedrooms=83.0, population=267.0, households=88.0, median_income=2.1581, median_house_value=68300.0),\n",
              " Row(long=-116.98, lati=33.83, housing_median_age=15.0, total_rooms=2228.0, total_bedrooms=472.0, population=653.0, households=350.0, median_income=2.683, median_house_value=139300.0),\n",
              " Row(long=-116.98, lati=33.77, housing_median_age=12.0, total_rooms=5829.0, total_bedrooms=1309.0, population=2711.0, households=1118.0, median_income=1.9707, median_house_value=107900.0),\n",
              " Row(long=-116.98, lati=33.74, housing_median_age=25.0, total_rooms=4952.0, total_bedrooms=1062.0, population=1589.0, households=1024.0, median_income=1.8446, median_house_value=85700.0),\n",
              " Row(long=-116.98, lati=32.88, housing_median_age=12.0, total_rooms=7320.0, total_bedrooms=1279.0, population=4048.0, households=1249.0, median_income=4.3952, median_house_value=151700.0),\n",
              " Row(long=-116.98, lati=32.86, housing_median_age=19.0, total_rooms=2121.0, total_bedrooms=341.0, population=1236.0, households=353.0, median_income=4.7717, median_house_value=153200.0),\n",
              " Row(long=-116.98, lati=32.86, housing_median_age=16.0, total_rooms=7718.0, total_bedrooms=1423.0, population=4383.0, households=1394.0, median_income=4.0693, median_house_value=146400.0),\n",
              " Row(long=-116.98, lati=32.85, housing_median_age=12.0, total_rooms=3570.0, total_bedrooms=713.0, population=3321.0, households=666.0, median_income=4.0882, median_house_value=134500.0),\n",
              " Row(long=-116.98, lati=32.8, housing_median_age=28.0, total_rooms=5721.0, total_bedrooms=1029.0, population=2672.0, households=1054.0, median_income=3.963, median_house_value=164400.0),\n",
              " Row(long=-116.98, lati=32.79, housing_median_age=32.0, total_rooms=3756.0, total_bedrooms=662.0, population=1611.0, households=598.0, median_income=3.8667, median_house_value=189700.0),\n",
              " Row(long=-116.98, lati=32.77, housing_median_age=29.0, total_rooms=3558.0, total_bedrooms=447.0, population=1097.0, households=445.0, median_income=8.093, median_house_value=379600.0),\n",
              " Row(long=-116.98, lati=32.75, housing_median_age=25.0, total_rooms=4137.0, total_bedrooms=662.0, population=1905.0, households=630.0, median_income=4.375, median_house_value=214000.0),\n",
              " Row(long=-116.98, lati=32.75, housing_median_age=18.0, total_rooms=1519.0, total_bedrooms=369.0, population=802.0, households=347.0, median_income=2.9886, median_house_value=170800.0),\n",
              " Row(long=-116.98, lati=32.74, housing_median_age=24.0, total_rooms=977.0, total_bedrooms=147.0, population=454.0, households=169.0, median_income=4.9286, median_house_value=173700.0),\n",
              " Row(long=-116.98, lati=32.74, housing_median_age=16.0, total_rooms=3361.0, total_bedrooms=537.0, population=1754.0, households=578.0, median_income=5.1098, median_house_value=162300.0),\n",
              " Row(long=-116.98, lati=32.73, housing_median_age=16.0, total_rooms=952.0, total_bedrooms=143.0, population=530.0, households=143.0, median_income=5.0864, median_house_value=175300.0),\n",
              " Row(long=-116.98, lati=32.72, housing_median_age=4.0, total_rooms=1078.0, total_bedrooms=158.0, population=571.0, households=184.0, median_income=4.6667, median_house_value=223300.0),\n",
              " Row(long=-116.98, lati=32.71, housing_median_age=18.0, total_rooms=2355.0, total_bedrooms=444.0, population=1277.0, households=433.0, median_income=3.4551, median_house_value=121400.0),\n",
              " Row(long=-116.99, lati=34.89, housing_median_age=24.0, total_rooms=2741.0, total_bedrooms=577.0, population=1551.0, households=522.0, median_income=3.474, median_house_value=70500.0),\n",
              " Row(long=-116.99, lati=34.88, housing_median_age=23.0, total_rooms=6060.0, total_bedrooms=1165.0, population=2920.0, households=1072.0, median_income=3.1528, median_house_value=69000.0),\n",
              " Row(long=-116.99, lati=34.3, housing_median_age=29.0, total_rooms=5055.0, total_bedrooms=1036.0, population=410.0, households=191.0, median_income=3.5104, median_house_value=157100.0),\n",
              " Row(long=-116.99, lati=33.99, housing_median_age=22.0, total_rooms=4227.0, total_bedrooms=658.0, population=1849.0, households=619.0, median_income=4.7356, median_house_value=195900.0),\n",
              " Row(long=-116.99, lati=33.92, housing_median_age=26.0, total_rooms=503.0, total_bedrooms=69.0, population=293.0, households=59.0, median_income=3.7083, median_house_value=147500.0),\n",
              " Row(long=-116.99, lati=33.77, housing_median_age=7.0, total_rooms=10352.0, total_bedrooms=2007.0, population=3559.0, households=1689.0, median_income=2.2925, median_house_value=113100.0),\n",
              " Row(long=-116.99, lati=33.76, housing_median_age=12.0, total_rooms=7626.0, total_bedrooms=1704.0, population=2823.0, households=1554.0, median_income=2.1722, median_house_value=69400.0),\n",
              " Row(long=-116.99, lati=33.75, housing_median_age=18.0, total_rooms=9601.0, total_bedrooms=2401.0, population=4002.0, households=2106.0, median_income=1.4366, median_house_value=77000.0),\n",
              " Row(long=-116.99, lati=33.73, housing_median_age=13.0, total_rooms=16148.0, total_bedrooms=3474.0, population=6159.0, households=3232.0, median_income=1.9961, median_house_value=97800.0),\n",
              " Row(long=-116.99, lati=33.46, housing_median_age=13.0, total_rooms=1614.0, total_bedrooms=410.0, population=846.0, households=270.0, median_income=2.83, median_house_value=43000.0),\n",
              " Row(long=-116.99, lati=32.96, housing_median_age=17.0, total_rooms=5509.0, total_bedrooms=866.0, population=2748.0, households=817.0, median_income=4.8854, median_house_value=181300.0),\n",
              " Row(long=-116.99, lati=32.85, housing_median_age=32.0, total_rooms=5211.0, total_bedrooms=949.0, population=3025.0, households=948.0, median_income=4.0931, median_house_value=134200.0),\n",
              " Row(long=-116.99, lati=32.83, housing_median_age=20.0, total_rooms=6696.0, total_bedrooms=1326.0, population=3687.0, households=1291.0, median_income=3.1979, median_house_value=154600.0),\n",
              " Row(long=-116.99, lati=32.81, housing_median_age=25.0, total_rooms=4436.0, total_bedrooms=758.0, population=1997.0, households=738.0, median_income=4.2386, median_house_value=201000.0),\n",
              " Row(long=-116.99, lati=32.81, housing_median_age=18.0, total_rooms=10968.0, total_bedrooms=1521.0, population=4439.0, households=1501.0, median_income=6.2787, median_house_value=250000.0),\n",
              " Row(long=-116.99, lati=32.8, housing_median_age=34.0, total_rooms=3657.0, total_bedrooms=538.0, population=1513.0, households=562.0, median_income=5.2907, median_house_value=195800.0),\n",
              " Row(long=-116.99, lati=32.79, housing_median_age=33.0, total_rooms=2420.0, total_bedrooms=393.0, population=1003.0, households=397.0, median_income=4.0658, median_house_value=165100.0),\n",
              " Row(long=-116.99, lati=32.79, housing_median_age=26.0, total_rooms=3623.0, total_bedrooms=703.0, population=1609.0, households=669.0, median_income=3.744, median_house_value=165800.0),\n",
              " Row(long=-116.99, lati=32.78, housing_median_age=29.0, total_rooms=1114.0, total_bedrooms=163.0, population=385.0, households=154.0, median_income=5.4333, median_house_value=222800.0),\n",
              " Row(long=-116.99, lati=32.77, housing_median_age=35.0, total_rooms=2306.0, total_bedrooms=334.0, population=828.0, households=310.0, median_income=6.1103, median_house_value=301600.0),\n",
              " Row(long=-116.99, lati=32.74, housing_median_age=18.0, total_rooms=3341.0, total_bedrooms=611.0, population=1952.0, households=602.0, median_income=3.9844, median_house_value=215300.0),\n",
              " Row(long=-116.99, lati=32.74, housing_median_age=17.0, total_rooms=3101.0, total_bedrooms=547.0, population=1410.0, households=486.0, median_income=3.1771, median_house_value=189900.0),\n",
              " Row(long=-116.99, lati=32.73, housing_median_age=30.0, total_rooms=1856.0, total_bedrooms=339.0, population=1103.0, households=379.0, median_income=4.0357, median_house_value=153800.0),\n",
              " Row(long=-116.99, lati=32.72, housing_median_age=15.0, total_rooms=825.0, total_bedrooms=130.0, population=334.0, households=131.0, median_income=4.0391, median_house_value=169500.0),\n",
              " Row(long=-116.99, lati=32.72, housing_median_age=14.0, total_rooms=1771.0, total_bedrooms=301.0, population=1046.0, households=284.0, median_income=4.775, median_house_value=143300.0),\n",
              " Row(long=-116.99, lati=32.72, housing_median_age=13.0, total_rooms=1330.0, total_bedrooms=216.0, population=719.0, households=215.0, median_income=3.8295, median_house_value=149600.0),\n",
              " Row(long=-116.99, lati=32.72, housing_median_age=11.0, total_rooms=1112.0, total_bedrooms=164.0, population=441.0, households=174.0, median_income=4.7679, median_house_value=169500.0),\n",
              " Row(long=-116.99, lati=32.71, housing_median_age=21.0, total_rooms=3049.0, total_bedrooms=582.0, population=2355.0, households=585.0, median_income=3.8904, median_house_value=113800.0),\n",
              " Row(long=-116.99, lati=32.7, housing_median_age=15.0, total_rooms=3660.0, total_bedrooms=622.0, population=2629.0, households=612.0, median_income=4.0444, median_house_value=150100.0),\n",
              " Row(long=-116.99, lati=32.64, housing_median_age=15.0, total_rooms=4331.0, total_bedrooms=699.0, population=2046.0, households=627.0, median_income=3.9519, median_house_value=193500.0),\n",
              " Row(long=-117.0, lati=34.89, housing_median_age=29.0, total_rooms=2637.0, total_bedrooms=512.0, population=1188.0, households=446.0, median_income=2.99, median_house_value=69400.0),\n",
              " Row(long=-117.0, lati=34.87, housing_median_age=16.0, total_rooms=6862.0, total_bedrooms=1292.0, population=3562.0, households=1126.0, median_income=3.6091, median_house_value=87200.0),\n",
              " Row(long=-117.0, lati=33.74, housing_median_age=8.0, total_rooms=5330.0, total_bedrooms=1529.0, population=2143.0, households=1107.0, median_income=2.1103, median_house_value=94400.0),\n",
              " Row(long=-117.0, lati=33.29, housing_median_age=17.0, total_rooms=2073.0, total_bedrooms=313.0, population=573.0, households=221.0, median_income=8.2531, median_house_value=419200.0),\n",
              " Row(long=-117.0, lati=32.87, housing_median_age=18.0, total_rooms=11544.0, total_bedrooms=1979.0, population=6296.0, households=1923.0, median_income=4.4904, median_house_value=150400.0),\n",
              " Row(long=-117.0, lati=32.85, housing_median_age=24.0, total_rooms=1888.0, total_bedrooms=319.0, population=950.0, households=319.0, median_income=5.282, median_house_value=140800.0),\n",
              " Row(long=-117.0, lati=32.8, housing_median_age=33.0, total_rooms=1816.0, total_bedrooms=325.0, population=768.0, households=316.0, median_income=4.5662, median_house_value=150300.0),\n",
              " Row(long=-117.0, lati=32.77, housing_median_age=35.0, total_rooms=2114.0, total_bedrooms=317.0, population=881.0, households=320.0, median_income=5.5, median_house_value=241400.0),\n",
              " Row(long=-117.0, lati=32.77, housing_median_age=30.0, total_rooms=1802.0, total_bedrooms=401.0, population=776.0, households=386.0, median_income=2.8125, median_house_value=173500.0),\n",
              " Row(long=-117.0, lati=32.76, housing_median_age=31.0, total_rooms=2545.0, total_bedrooms=373.0, population=956.0, households=342.0, median_income=4.3977, median_house_value=226800.0),\n",
              " Row(long=-117.0, lati=32.76, housing_median_age=31.0, total_rooms=1989.0, total_bedrooms=280.0, population=805.0, households=301.0, median_income=6.5645, median_house_value=189100.0),\n",
              " Row(long=-117.0, lati=32.74, housing_median_age=17.0, total_rooms=2357.0, total_bedrooms=599.0, population=1423.0, households=510.0, median_income=1.8856, median_house_value=118800.0),\n",
              " Row(long=-117.0, lati=32.72, housing_median_age=10.0, total_rooms=3817.0, total_bedrooms=943.0, population=2352.0, households=875.0, median_income=2.1362, median_house_value=143200.0),\n",
              " Row(long=-117.0, lati=32.71, housing_median_age=22.0, total_rooms=2263.0, total_bedrooms=441.0, population=1395.0, households=416.0, median_income=3.725, median_house_value=123500.0),\n",
              " Row(long=-117.0, lati=32.7, housing_median_age=23.0, total_rooms=2785.0, total_bedrooms=468.0, population=1456.0, households=449.0, median_income=4.3714, median_house_value=131000.0),\n",
              " Row(long=-117.0, lati=32.67, housing_median_age=16.0, total_rooms=2238.0, total_bedrooms=307.0, population=1002.0, households=303.0, median_income=6.6143, median_house_value=264100.0),\n",
              " Row(long=-117.0, lati=32.64, housing_median_age=11.0, total_rooms=3098.0, total_bedrooms=490.0, population=1391.0, households=484.0, median_income=4.9792, median_house_value=170400.0),\n",
              " Row(long=-117.01, lati=34.9, housing_median_age=36.0, total_rooms=2181.0, total_bedrooms=555.0, population=1404.0, households=492.0, median_income=2.3077, median_house_value=55500.0),\n",
              " Row(long=-117.01, lati=34.9, housing_median_age=34.0, total_rooms=2194.0, total_bedrooms=519.0, population=1326.0, households=515.0, median_income=2.1056, median_house_value=72000.0),\n",
              " Row(long=-117.01, lati=34.89, housing_median_age=26.0, total_rooms=2599.0, total_bedrooms=498.0, population=1332.0, households=443.0, median_income=2.7198, median_house_value=70400.0),\n",
              " Row(long=-117.01, lati=34.01, housing_median_age=15.0, total_rooms=5592.0, total_bedrooms=891.0, population=2419.0, households=840.0, median_income=4.7193, median_house_value=135200.0),\n",
              " Row(long=-117.01, lati=33.97, housing_median_age=18.0, total_rooms=4775.0, total_bedrooms=886.0, population=1868.0, households=836.0, median_income=2.3355, median_house_value=118800.0),\n",
              " Row(long=-117.01, lati=33.04, housing_median_age=13.0, total_rooms=4595.0, total_bedrooms=567.0, population=1643.0, households=544.0, median_income=7.7684, median_house_value=362300.0),\n",
              " Row(long=-117.01, lati=32.99, housing_median_age=8.0, total_rooms=3372.0, total_bedrooms=430.0, population=1536.0, households=448.0, median_income=8.4284, median_house_value=378300.0),\n",
              " Row(long=-117.01, lati=32.85, housing_median_age=23.0, total_rooms=2592.0, total_bedrooms=414.0, population=1401.0, households=431.0, median_income=5.4903, median_house_value=151400.0),\n",
              " Row(long=-117.01, lati=32.84, housing_median_age=23.0, total_rooms=1951.0, total_bedrooms=395.0, population=901.0, households=378.0, median_income=3.1023, median_house_value=143300.0),\n",
              " Row(long=-117.01, lati=32.83, housing_median_age=17.0, total_rooms=15401.0, total_bedrooms=3280.0, population=7302.0, households=3176.0, median_income=3.3067, median_house_value=121900.0),\n",
              " Row(long=-117.01, lati=32.81, housing_median_age=26.0, total_rooms=4499.0, total_bedrooms=645.0, population=1866.0, households=626.0, median_income=5.516, median_house_value=185100.0),\n",
              " Row(long=-117.01, lati=32.81, housing_median_age=21.0, total_rooms=4203.0, total_bedrooms=618.0, population=1620.0, households=600.0, median_income=5.3441, median_house_value=193500.0),\n",
              " Row(long=-117.01, lati=32.8, housing_median_age=20.0, total_rooms=2705.0, total_bedrooms=545.0, population=1198.0, households=497.0, median_income=3.7159, median_house_value=168900.0),\n",
              " Row(long=-117.01, lati=32.8, housing_median_age=17.0, total_rooms=1558.0, total_bedrooms=479.0, population=803.0, households=431.0, median_income=2.6934, median_house_value=160200.0),\n",
              " Row(long=-117.01, lati=32.8, housing_median_age=17.0, total_rooms=1042.0, total_bedrooms=210.0, population=650.0, households=215.0, median_income=3.1, median_house_value=84200.0),\n",
              " Row(long=-117.01, lati=32.79, housing_median_age=33.0, total_rooms=4015.0, total_bedrooms=663.0, population=1864.0, households=664.0, median_income=4.3152, median_house_value=159300.0),\n",
              " Row(long=-117.01, lati=32.79, housing_median_age=31.0, total_rooms=3776.0, total_bedrooms=815.0, population=1886.0, households=799.0, median_income=3.4421, median_house_value=155300.0),\n",
              " Row(long=-117.01, lati=32.78, housing_median_age=20.0, total_rooms=2616.0, total_bedrooms=597.0, population=1532.0, households=579.0, median_income=2.9896, median_house_value=235600.0),\n",
              " Row(long=-117.01, lati=32.77, housing_median_age=43.0, total_rooms=841.0, total_bedrooms=192.0, population=496.0, households=207.0, median_income=3.0179, median_house_value=149300.0),\n",
              " Row(long=-117.01, lati=32.77, housing_median_age=34.0, total_rooms=3330.0, total_bedrooms=723.0, population=1592.0, households=656.0, median_income=2.6678, median_house_value=164200.0),\n",
              " Row(long=-117.01, lati=32.76, housing_median_age=34.0, total_rooms=3415.0, total_bedrooms=608.0, population=1464.0, households=593.0, median_income=4.0549, median_house_value=223700.0),\n",
              " Row(long=-117.01, lati=32.76, housing_median_age=22.0, total_rooms=3626.0, total_bedrooms=824.0, population=1800.0, households=769.0, median_income=2.8594, median_house_value=189600.0),\n",
              " Row(long=-117.01, lati=32.75, housing_median_age=34.0, total_rooms=2105.0, total_bedrooms=340.0, population=973.0, households=357.0, median_income=4.3088, median_house_value=152500.0),\n",
              " Row(long=-117.01, lati=32.75, housing_median_age=26.0, total_rooms=4038.0, total_bedrooms=706.0, population=2065.0, households=687.0, median_income=3.9545, median_house_value=178100.0),\n",
              " Row(long=-117.01, lati=32.74, housing_median_age=31.0, total_rooms=3473.0, total_bedrooms=722.0, population=2098.0, households=677.0, median_income=2.6973, median_house_value=135200.0),\n",
              " Row(long=-117.01, lati=32.73, housing_median_age=22.0, total_rooms=2526.0, total_bedrooms=530.0, population=1556.0, households=529.0, median_income=2.8646, median_house_value=120800.0),\n",
              " Row(long=-117.01, lati=32.72, housing_median_age=12.0, total_rooms=2914.0, total_bedrooms=734.0, population=2104.0, households=703.0, median_income=2.3068, median_house_value=132300.0),\n",
              " Row(long=-117.01, lati=32.71, housing_median_age=20.0, total_rooms=3506.0, total_bedrooms=692.0, population=1977.0, households=668.0, median_income=2.981, median_house_value=129100.0),\n",
              " Row(long=-117.01, lati=32.7, housing_median_age=7.0, total_rooms=2327.0, total_bedrooms=490.0, population=1304.0, households=445.0, median_income=3.3553, median_house_value=132200.0),\n",
              " Row(long=-117.01, lati=32.7, housing_median_age=25.0, total_rooms=2321.0, total_bedrooms=398.0, population=1434.0, households=386.0, median_income=3.5341, median_house_value=120800.0),\n",
              " Row(long=-117.01, lati=32.67, housing_median_age=17.0, total_rooms=2319.0, total_bedrooms=348.0, population=1125.0, households=337.0, median_income=5.551, median_house_value=266900.0),\n",
              " Row(long=-117.01, lati=32.66, housing_median_age=11.0, total_rooms=9992.0, total_bedrooms=1368.0, population=4495.0, households=1316.0, median_income=6.9664, median_house_value=293900.0),\n",
              " Row(long=-117.01, lati=32.63, housing_median_age=7.0, total_rooms=6483.0, total_bedrooms=976.0, population=3269.0, households=1005.0, median_income=5.7358, median_house_value=221600.0),\n",
              " Row(long=-117.02, lati=36.4, housing_median_age=19.0, total_rooms=619.0, total_bedrooms=239.0, population=490.0, households=164.0, median_income=2.1, median_house_value=14999.0),\n",
              " Row(long=-117.02, lati=34.9, housing_median_age=37.0, total_rooms=1199.0, total_bedrooms=351.0, population=782.0, households=296.0, median_income=1.6515, median_house_value=61600.0),\n",
              " Row(long=-117.02, lati=34.89, housing_median_age=29.0, total_rooms=3111.0, total_bedrooms=661.0, population=1530.0, households=608.0, median_income=2.8281, median_house_value=69300.0),\n",
              " Row(long=-117.02, lati=34.03, housing_median_age=19.0, total_rooms=4415.0, total_bedrooms=648.0, population=1627.0, households=619.0, median_income=4.2361, median_house_value=191600.0),\n",
              " Row(long=-117.02, lati=33.95, housing_median_age=5.0, total_rooms=1822.0, total_bedrooms=367.0, population=798.0, households=313.0, median_income=2.8783, median_house_value=105200.0),\n",
              " Row(long=-117.02, lati=33.81, housing_median_age=10.0, total_rooms=6317.0, total_bedrooms=1335.0, population=2625.0, households=1094.0, median_income=2.3, median_house_value=108900.0),\n",
              " Row(long=-117.02, lati=33.76, housing_median_age=20.0, total_rooms=1317.0, total_bedrooms=203.0, population=453.0, households=158.0, median_income=2.8393, median_house_value=120700.0),\n",
              " Row(long=-117.02, lati=33.73, housing_median_age=14.0, total_rooms=3700.0, total_bedrooms=750.0, population=1171.0, households=695.0, median_income=1.9476, median_house_value=112500.0),\n",
              " Row(long=-117.02, lati=33.71, housing_median_age=6.0, total_rooms=8278.0, total_bedrooms=1579.0, population=3062.0, households=1446.0, median_income=3.0043, median_house_value=134700.0),\n",
              " Row(long=-117.02, lati=33.6, housing_median_age=7.0, total_rooms=1972.0, total_bedrooms=352.0, population=964.0, households=317.0, median_income=3.244, median_house_value=337200.0),\n",
              " Row(long=-117.02, lati=32.95, housing_median_age=25.0, total_rooms=1909.0, total_bedrooms=334.0, population=1043.0, households=322.0, median_income=3.7784, median_house_value=160100.0),\n",
              " Row(long=-117.02, lati=32.84, housing_median_age=17.0, total_rooms=4013.0, total_bedrooms=673.0, population=2263.0, households=661.0, median_income=5.131, median_house_value=148300.0),\n",
              " Row(long=-117.02, lati=32.81, housing_median_age=27.0, total_rooms=1950.0, total_bedrooms=317.0, population=950.0, households=320.0, median_income=4.0656, median_house_value=164000.0),\n",
              " Row(long=-117.02, lati=32.81, housing_median_age=26.0, total_rooms=1998.0, total_bedrooms=301.0, population=874.0, households=305.0, median_income=5.4544, median_house_value=180900.0),\n",
              " Row(long=-117.02, lati=32.81, housing_median_age=14.0, total_rooms=3173.0, total_bedrooms=599.0, population=1451.0, households=585.0, median_income=3.7292, median_house_value=182200.0),\n",
              " Row(long=-117.02, lati=32.8, housing_median_age=29.0, total_rooms=1232.0, total_bedrooms=243.0, population=665.0, households=247.0, median_income=3.65, median_house_value=168900.0),\n",
              " Row(long=-117.02, lati=32.8, housing_median_age=27.0, total_rooms=2369.0, total_bedrooms=370.0, population=927.0, households=374.0, median_income=4.1162, median_house_value=177200.0),\n",
              " Row(long=-117.02, lati=32.79, housing_median_age=36.0, total_rooms=2211.0, total_bedrooms=384.0, population=868.0, households=329.0, median_income=4.0491, median_house_value=147900.0),\n",
              " Row(long=-117.02, lati=32.78, housing_median_age=33.0, total_rooms=3481.0, total_bedrooms=708.0, population=1726.0, households=719.0, median_income=3.3675, median_house_value=158200.0),\n",
              " Row(long=-117.02, lati=32.78, housing_median_age=31.0, total_rooms=2567.0, total_bedrooms=507.0, population=1198.0, households=499.0, median_income=3.4659, median_house_value=163000.0),\n",
              " Row(long=-117.02, lati=32.76, housing_median_age=40.0, total_rooms=2523.0, total_bedrooms=488.0, population=976.0, households=470.0, median_income=3.11, median_house_value=185700.0),\n",
              " Row(long=-117.02, lati=32.76, housing_median_age=15.0, total_rooms=1204.0, total_bedrooms=326.0, population=543.0, households=326.0, median_income=1.0278, median_house_value=154200.0),\n",
              " Row(long=-117.02, lati=32.75, housing_median_age=33.0, total_rooms=3296.0, total_bedrooms=537.0, population=1345.0, households=556.0, median_income=5.2835, median_house_value=217100.0),\n",
              " Row(long=-117.02, lati=32.74, housing_median_age=30.0, total_rooms=4205.0, total_bedrooms=772.0, population=2012.0, households=734.0, median_income=3.5, median_house_value=144700.0),\n",
              " Row(long=-117.02, lati=32.74, housing_median_age=12.0, total_rooms=3301.0, total_bedrooms=963.0, population=2000.0, households=879.0, median_income=1.8594, median_house_value=119200.0),\n",
              " Row(long=-117.02, lati=32.73, housing_median_age=22.0, total_rooms=5201.0, total_bedrooms=865.0, population=3280.0, households=817.0, median_income=4.7952, median_house_value=141400.0),\n",
              " Row(long=-117.02, lati=32.72, housing_median_age=36.0, total_rooms=2030.0, total_bedrooms=369.0, population=1142.0, households=357.0, median_income=3.7763, median_house_value=126900.0),\n",
              " Row(long=-117.02, lati=32.71, housing_median_age=30.0, total_rooms=3187.0, total_bedrooms=592.0, population=2082.0, households=631.0, median_income=3.5388, median_house_value=118500.0),\n",
              " Row(long=-117.02, lati=32.7, housing_median_age=22.0, total_rooms=2756.0, total_bedrooms=516.0, population=1849.0, households=486.0, median_income=4.1837, median_house_value=125400.0),\n",
              " Row(long=-117.02, lati=32.68, housing_median_age=14.0, total_rooms=3986.0, total_bedrooms=675.0, population=2065.0, households=702.0, median_income=5.7192, median_house_value=267400.0),\n",
              " Row(long=-117.02, lati=32.67, housing_median_age=20.0, total_rooms=1505.0, total_bedrooms=184.0, population=635.0, households=182.0, median_income=6.5772, median_house_value=245200.0),\n",
              " Row(long=-117.02, lati=32.66, housing_median_age=19.0, total_rooms=771.0, total_bedrooms=103.0, population=376.0, households=108.0, median_income=6.6272, median_house_value=273600.0),\n",
              " Row(long=-117.02, lati=32.64, housing_median_age=5.0, total_rooms=260.0, total_bedrooms=41.0, population=157.0, households=42.0, median_income=6.5151, median_house_value=281700.0),\n",
              " Row(long=-117.02, lati=32.59, housing_median_age=19.0, total_rooms=1902.0, total_bedrooms=335.0, population=1102.0, households=313.0, median_income=3.0365, median_house_value=98100.0),\n",
              " Row(long=-117.03, lati=34.91, housing_median_age=27.0, total_rooms=2718.0, total_bedrooms=583.0, population=1472.0, households=509.0, median_income=2.825, median_house_value=76600.0),\n",
              " Row(long=-117.03, lati=34.87, housing_median_age=7.0, total_rooms=2245.0, total_bedrooms=407.0, population=1016.0, households=364.0, median_income=3.9464, median_house_value=101500.0),\n",
              " Row(long=-117.03, lati=34.07, housing_median_age=16.0, total_rooms=3784.0, total_bedrooms=577.0, population=1615.0, households=525.0, median_income=4.2333, median_house_value=220300.0),\n",
              " Row(long=-117.03, lati=34.03, housing_median_age=26.0, total_rooms=3501.0, total_bedrooms=664.0, population=1860.0, households=681.0, median_income=3.0403, median_house_value=113500.0),\n",
              " Row(long=-117.03, lati=33.89, housing_median_age=6.0, total_rooms=78.0, total_bedrooms=11.0, population=27.0, households=10.0, median_income=3.125, median_house_value=187500.0),\n",
              " Row(long=-117.03, lati=33.32, housing_median_age=14.0, total_rooms=1088.0, total_bedrooms=209.0, population=601.0, households=193.0, median_income=3.8438, median_house_value=243800.0),\n",
              " Row(long=-117.03, lati=33.18, housing_median_age=17.0, total_rooms=5391.0, total_bedrooms=886.0, population=2732.0, households=830.0, median_income=5.1771, median_house_value=212800.0),\n",
              " Row(long=-117.03, lati=33.12, housing_median_age=25.0, total_rooms=3142.0, total_bedrooms=446.0, population=1286.0, households=419.0, median_income=5.4663, median_house_value=248300.0),\n",
              " Row(long=-117.03, lati=32.96, housing_median_age=16.0, total_rooms=3424.0, total_bedrooms=698.0, population=1940.0, households=645.0, median_income=4.121, median_house_value=182100.0),\n",
              " Row(long=-117.03, lati=32.82, housing_median_age=16.0, total_rooms=1765.0, total_bedrooms=289.0, population=743.0, households=280.0, median_income=4.9744, median_house_value=209700.0),\n",
              " Row(long=-117.03, lati=32.8, housing_median_age=19.0, total_rooms=3866.0, total_bedrooms=775.0, population=1554.0, households=703.0, median_income=4.3281, median_house_value=220000.0),\n",
              " Row(long=-117.03, lati=32.79, housing_median_age=31.0, total_rooms=2366.0, total_bedrooms=383.0, population=1077.0, households=387.0, median_income=4.2992, median_house_value=174400.0),\n",
              " Row(long=-117.03, lati=32.79, housing_median_age=26.0, total_rooms=3859.0, total_bedrooms=513.0, population=1469.0, households=538.0, median_income=5.8683, median_house_value=220500.0),\n",
              " Row(long=-117.03, lati=32.78, housing_median_age=17.0, total_rooms=5481.0, total_bedrooms=1618.0, population=2957.0, households=1537.0, median_income=2.5707, median_house_value=171300.0),\n",
              " Row(long=-117.03, lati=32.77, housing_median_age=34.0, total_rooms=1796.0, total_bedrooms=428.0, population=918.0, households=424.0, median_income=2.875, median_house_value=161200.0),\n",
              " Row(long=-117.03, lati=32.77, housing_median_age=19.0, total_rooms=4819.0, total_bedrooms=1492.0, population=2572.0, households=1336.0, median_income=2.3393, median_house_value=118200.0),\n",
              " Row(long=-117.03, lati=32.75, housing_median_age=24.0, total_rooms=7879.0, total_bedrooms=1655.0, population=3898.0, households=1534.0, median_income=3.0897, median_house_value=187300.0),\n",
              " Row(long=-117.03, lati=32.74, housing_median_age=37.0, total_rooms=821.0, total_bedrooms=150.0, population=404.0, households=135.0, median_income=3.0125, median_house_value=130400.0),\n",
              " Row(long=-117.03, lati=32.74, housing_median_age=35.0, total_rooms=1878.0, total_bedrooms=454.0, population=991.0, households=409.0, median_income=2.4345, median_house_value=129700.0),\n",
              " Row(long=-117.03, lati=32.73, housing_median_age=38.0, total_rooms=3174.0, total_bedrooms=606.0, population=1557.0, households=619.0, median_income=3.5861, median_house_value=123600.0),\n",
              " Row(long=-117.03, lati=32.73, housing_median_age=34.0, total_rooms=2061.0, total_bedrooms=391.0, population=1169.0, households=400.0, median_income=3.5096, median_house_value=142000.0),\n",
              " Row(long=-117.03, lati=32.73, housing_median_age=32.0, total_rooms=1750.0, total_bedrooms=333.0, population=997.0, households=335.0, median_income=3.4784, median_house_value=154400.0),\n",
              " Row(long=-117.03, lati=32.72, housing_median_age=38.0, total_rooms=886.0, total_bedrooms=176.0, population=505.0, households=188.0, median_income=3.5938, median_house_value=125400.0),\n",
              " Row(long=-117.03, lati=32.72, housing_median_age=37.0, total_rooms=2192.0, total_bedrooms=455.0, population=1515.0, households=446.0, median_income=3.0588, median_house_value=120600.0),\n",
              " Row(long=-117.03, lati=32.71, housing_median_age=34.0, total_rooms=2328.0, total_bedrooms=444.0, population=1684.0, households=429.0, median_income=3.25, median_house_value=99600.0),\n",
              " Row(long=-117.03, lati=32.71, housing_median_age=33.0, total_rooms=3126.0, total_bedrooms=627.0, population=2300.0, households=623.0, median_income=3.2596, median_house_value=103000.0),\n",
              " Row(long=-117.03, lati=32.7, housing_median_age=19.0, total_rooms=2304.0, total_bedrooms=572.0, population=2010.0, households=556.0, median_income=2.2866, median_house_value=109900.0),\n",
              " Row(long=-117.03, lati=32.69, housing_median_age=8.0, total_rooms=2460.0, total_bedrooms=397.0, population=1784.0, households=390.0, median_income=4.5662, median_house_value=175500.0),\n",
              " Row(long=-117.03, lati=32.69, housing_median_age=5.0, total_rooms=3201.0, total_bedrooms=532.0, population=2061.0, households=536.0, median_income=5.0829, median_house_value=179400.0),\n",
              " Row(long=-117.03, lati=32.69, housing_median_age=10.0, total_rooms=901.0, total_bedrooms=163.0, population=698.0, households=167.0, median_income=4.6648, median_house_value=156100.0),\n",
              " Row(long=-117.03, lati=32.67, housing_median_age=15.0, total_rooms=5094.0, total_bedrooms=818.0, population=2118.0, households=758.0, median_income=5.3505, median_house_value=266600.0),\n",
              " Row(long=-117.03, lati=32.65, housing_median_age=14.0, total_rooms=1111.0, total_bedrooms=142.0, population=472.0, households=145.0, median_income=7.6344, median_house_value=290500.0),\n",
              " Row(long=-117.03, lati=32.63, housing_median_age=14.0, total_rooms=2796.0, total_bedrooms=476.0, population=1466.0, households=464.0, median_income=5.2489, median_house_value=213700.0),\n",
              " Row(long=-117.03, lati=32.63, housing_median_age=13.0, total_rooms=2087.0, total_bedrooms=313.0, population=1165.0, households=330.0, median_income=5.7789, median_house_value=227700.0),\n",
              " Row(long=-117.03, lati=32.61, housing_median_age=22.0, total_rooms=1028.0, total_bedrooms=148.0, population=523.0, households=152.0, median_income=6.0086, median_house_value=166900.0),\n",
              " Row(long=-117.04, lati=34.89, housing_median_age=37.0, total_rooms=1884.0, total_bedrooms=366.0, population=1052.0, households=353.0, median_income=3.175, median_house_value=66800.0),\n",
              " Row(long=-117.04, lati=34.04, housing_median_age=30.0, total_rooms=3474.0, total_bedrooms=735.0, population=1674.0, households=691.0, median_income=2.5863, median_house_value=98300.0),\n",
              " Row(long=-117.04, lati=34.03, housing_median_age=29.0, total_rooms=3375.0, total_bedrooms=795.0, population=1760.0, households=699.0, median_income=2.7028, median_house_value=92000.0),\n",
              " Row(long=-117.04, lati=34.02, housing_median_age=24.0, total_rooms=4663.0, total_bedrooms=1213.0, population=1851.0, households=1116.0, median_income=1.4418, median_house_value=103500.0),\n",
              " Row(long=-117.04, lati=34.0, housing_median_age=25.0, total_rooms=3750.0, total_bedrooms=781.0, population=1594.0, households=785.0, median_income=2.4167, median_house_value=104900.0),\n",
              " Row(long=-117.04, lati=34.0, housing_median_age=21.0, total_rooms=4624.0, total_bedrooms=852.0, population=2174.0, households=812.0, median_income=3.5255, median_house_value=132100.0),\n",
              " Row(long=-117.04, lati=33.15, housing_median_age=15.0, total_rooms=13814.0, total_bedrooms=2888.0, population=6583.0, households=2789.0, median_income=2.8247, median_house_value=150000.0),\n",
              " Row(long=-117.04, lati=33.09, housing_median_age=16.0, total_rooms=4677.0, total_bedrooms=581.0, population=1902.0, households=566.0, median_income=6.1834, median_house_value=335600.0),\n",
              " Row(long=-117.04, lati=33.03, housing_median_age=16.0, total_rooms=2852.0, total_bedrooms=435.0, population=1083.0, households=448.0, median_income=6.3761, median_house_value=296200.0),\n",
              " Row(long=-117.04, lati=33.01, housing_median_age=28.0, total_rooms=922.0, total_bedrooms=107.0, population=314.0, households=97.0, median_income=8.4721, median_house_value=342300.0),\n",
              " Row(long=-117.04, lati=32.99, housing_median_age=6.0, total_rooms=9518.0, total_bedrooms=1418.0, population=4413.0, households=1275.0, median_income=6.6012, median_house_value=314900.0),\n",
              " Row(long=-117.04, lati=32.98, housing_median_age=16.0, total_rooms=1332.0, total_bedrooms=196.0, population=640.0, households=193.0, median_income=6.0226, median_house_value=192900.0),\n",
              " Row(long=-117.04, lati=32.97, housing_median_age=13.0, total_rooms=6711.0, total_bedrooms=1256.0, population=3683.0, households=1220.0, median_income=4.5746, median_house_value=175700.0),\n",
              " Row(long=-117.04, lati=32.9, housing_median_age=6.0, total_rooms=6525.0, total_bedrooms=826.0, population=3146.0, households=806.0, median_income=9.2858, median_house_value=436100.0),\n",
              " Row(long=-117.04, lati=32.83, housing_median_age=8.0, total_rooms=2205.0, total_bedrooms=348.0, population=777.0, households=341.0, median_income=6.0266, median_house_value=177400.0),\n",
              " Row(long=-117.04, lati=32.81, housing_median_age=12.0, total_rooms=2880.0, total_bedrooms=406.0, population=1381.0, households=418.0, median_income=6.5412, median_house_value=254200.0),\n",
              " Row(long=-117.04, lati=32.8, housing_median_age=25.0, total_rooms=2504.0, total_bedrooms=345.0, population=1067.0, households=350.0, median_income=5.7416, median_house_value=243400.0),\n",
              " Row(long=-117.04, lati=32.8, housing_median_age=11.0, total_rooms=1802.0, total_bedrooms=440.0, population=630.0, households=428.0, median_income=2.0337, median_house_value=146700.0),\n",
              " Row(long=-117.04, lati=32.79, housing_median_age=23.0, total_rooms=2491.0, total_bedrooms=350.0, population=863.0, households=348.0, median_income=6.7196, median_house_value=306800.0),\n",
              " Row(long=-117.04, lati=32.77, housing_median_age=21.0, total_rooms=1824.0, total_bedrooms=447.0, population=962.0, households=431.0, median_income=2.7826, median_house_value=143800.0),\n",
              " Row(long=-117.04, lati=32.77, housing_median_age=16.0, total_rooms=7963.0, total_bedrooms=1881.0, population=3769.0, households=1804.0, median_income=2.9624, median_house_value=144700.0),\n",
              " Row(long=-117.04, lati=32.76, housing_median_age=43.0, total_rooms=3171.0, total_bedrooms=665.0, population=1534.0, households=625.0, median_income=3.141, median_house_value=141400.0),\n",
              " Row(long=-117.04, lati=32.76, housing_median_age=37.0, total_rooms=2979.0, total_bedrooms=557.0, population=1285.0, households=564.0, median_income=3.7368, median_house_value=152200.0),\n",
              " Row(long=-117.04, lati=32.75, housing_median_age=36.0, total_rooms=2297.0, total_bedrooms=418.0, population=1070.0, households=392.0, median_income=3.5192, median_house_value=144000.0),\n",
              " Row(long=-117.04, lati=32.74, housing_median_age=5.0, total_rooms=2878.0, total_bedrooms=785.0, population=1727.0, households=758.0, median_income=1.7179, median_house_value=132000.0),\n",
              " Row(long=-117.04, lati=32.74, housing_median_age=33.0, total_rooms=3880.0, total_bedrooms=770.0, population=2288.0, households=805.0, median_income=3.6848, median_house_value=140700.0),\n",
              " Row(long=-117.04, lati=32.72, housing_median_age=24.0, total_rooms=5474.0, total_bedrooms=955.0, population=3020.0, households=904.0, median_income=4.0813, median_house_value=137000.0),\n",
              " Row(long=-117.04, lati=32.71, housing_median_age=28.0, total_rooms=5274.0, total_bedrooms=991.0, population=3727.0, households=961.0, median_income=3.57, median_house_value=109800.0),\n",
              " Row(long=-117.04, lati=32.69, housing_median_age=9.0, total_rooms=3417.0, total_bedrooms=860.0, population=2521.0, households=828.0, median_income=3.02, median_house_value=158900.0),\n",
              " Row(long=-117.04, lati=32.68, housing_median_age=13.0, total_rooms=2132.0, total_bedrooms=425.0, population=1345.0, households=432.0, median_income=4.0, median_house_value=89300.0),\n",
              " Row(long=-117.04, lati=32.68, housing_median_age=11.0, total_rooms=1875.0, total_bedrooms=357.0, population=1014.0, households=386.0, median_income=4.375, median_house_value=115000.0),\n",
              " Row(long=-117.04, lati=32.67, housing_median_age=14.0, total_rooms=3464.0, total_bedrooms=683.0, population=2139.0, households=734.0, median_income=4.0668, median_house_value=137500.0),\n",
              " Row(long=-117.04, lati=32.66, housing_median_age=22.0, total_rooms=3362.0, total_bedrooms=630.0, population=1471.0, households=612.0, median_income=4.1442, median_house_value=303900.0),\n",
              " Row(long=-117.04, lati=32.65, housing_median_age=8.0, total_rooms=8806.0, total_bedrooms=1401.0, population=3159.0, households=1059.0, median_income=4.2155, median_house_value=247800.0),\n",
              " Row(long=-117.04, lati=32.64, housing_median_age=5.0, total_rooms=2329.0, total_bedrooms=542.0, population=1213.0, households=514.0, median_income=4.0298, median_house_value=225600.0),\n",
              " Row(long=-117.04, lati=32.63, housing_median_age=26.0, total_rooms=2756.0, total_bedrooms=422.0, population=1166.0, households=398.0, median_income=5.1354, median_house_value=181600.0),\n",
              " Row(long=-117.04, lati=32.63, housing_median_age=26.0, total_rooms=2074.0, total_bedrooms=356.0, population=1228.0, households=335.0, median_income=4.1154, median_house_value=160200.0),\n",
              " Row(long=-117.04, lati=32.62, housing_median_age=27.0, total_rooms=1710.0, total_bedrooms=282.0, population=1089.0, households=297.0, median_income=4.6793, median_house_value=151900.0),\n",
              " Row(long=-117.04, lati=32.6, housing_median_age=20.0, total_rooms=8052.0, total_bedrooms=1461.0, population=5094.0, households=1430.0, median_income=4.2241, median_house_value=139800.0),\n",
              " Row(long=-117.04, lati=32.6, housing_median_age=18.0, total_rooms=4747.0, total_bedrooms=846.0, population=3002.0, households=872.0, median_income=3.9076, median_house_value=152900.0),\n",
              " Row(long=-117.04, lati=32.58, housing_median_age=20.0, total_rooms=2029.0, total_bedrooms=357.0, population=1497.0, households=353.0, median_income=4.0089, median_house_value=132100.0),\n",
              " Row(long=-117.04, lati=32.58, housing_median_age=14.0, total_rooms=2355.0, total_bedrooms=406.0, population=1883.0, households=401.0, median_income=5.0311, median_house_value=152100.0),\n",
              " Row(long=-117.04, lati=32.55, housing_median_age=15.0, total_rooms=2206.0, total_bedrooms=648.0, population=2511.0, households=648.0, median_income=1.6348, median_house_value=93200.0),\n",
              " Row(long=-117.04, lati=32.54, housing_median_age=7.0, total_rooms=938.0, total_bedrooms=297.0, population=1187.0, households=282.0, median_income=1.2667, median_house_value=67500.0),\n",
              " Row(long=-117.05, lati=34.89, housing_median_age=36.0, total_rooms=1199.0, total_bedrooms=260.0, population=665.0, households=229.0, median_income=3.7065, median_house_value=62000.0),\n",
              " Row(long=-117.05, lati=34.04, housing_median_age=23.0, total_rooms=3967.0, total_bedrooms=766.0, population=1518.0, households=698.0, median_income=2.29, median_house_value=111800.0),\n",
              " Row(long=-117.05, lati=34.03, housing_median_age=28.0, total_rooms=3009.0, total_bedrooms=698.0, population=1200.0, households=626.0, median_income=1.3993, median_house_value=104600.0),\n",
              " Row(long=-117.05, lati=34.02, housing_median_age=21.0, total_rooms=3098.0, total_bedrooms=646.0, population=1351.0, households=614.0, median_income=2.598, median_house_value=106700.0),\n",
              " Row(long=-117.05, lati=34.01, housing_median_age=27.0, total_rooms=5484.0, total_bedrooms=1205.0, population=2645.0, households=1131.0, median_income=2.1927, median_house_value=116700.0),\n",
              " Row(long=-117.05, lati=33.52, housing_median_age=5.0, total_rooms=3471.0, total_bedrooms=530.0, population=1541.0, households=502.0, median_income=4.8083, median_house_value=347700.0),\n",
              " Row(long=-117.05, lati=33.29, housing_median_age=17.0, total_rooms=1800.0, total_bedrooms=312.0, population=891.0, households=281.0, median_income=7.0177, median_house_value=267600.0),\n",
              " Row(long=-117.05, lati=33.26, housing_median_age=14.0, total_rooms=3103.0, total_bedrooms=569.0, population=1704.0, households=539.0, median_income=3.7644, median_house_value=264700.0),\n",
              " Row(long=-117.05, lati=33.14, housing_median_age=16.0, total_rooms=4552.0, total_bedrooms=1166.0, population=2737.0, households=1051.0, median_income=2.25, median_house_value=136300.0),\n",
              " Row(long=-117.05, lati=33.13, housing_median_age=22.0, total_rooms=2427.0, total_bedrooms=390.0, population=1099.0, households=362.0, median_income=5.2323, median_house_value=167500.0),\n",
              " Row(long=-117.05, lati=33.13, housing_median_age=20.0, total_rooms=7746.0, total_bedrooms=2035.0, population=5370.0, households=1838.0, median_income=2.3762, median_house_value=98500.0),\n",
              " Row(long=-117.05, lati=33.13, housing_median_age=17.0, total_rooms=2385.0, total_bedrooms=372.0, population=1118.0, households=369.0, median_income=4.2813, median_house_value=169900.0),\n",
              " Row(long=-117.05, lati=33.11, housing_median_age=18.0, total_rooms=4393.0, total_bedrooms=642.0, population=2095.0, households=677.0, median_income=5.4786, median_house_value=223500.0),\n",
              " Row(long=-117.05, lati=33.05, housing_median_age=6.0, total_rooms=7916.0, total_bedrooms=1293.0, population=2741.0, households=1204.0, median_income=5.6436, median_house_value=278600.0),\n",
              " Row(long=-117.05, lati=33.04, housing_median_age=12.0, total_rooms=1840.0, total_bedrooms=254.0, population=580.0, households=234.0, median_income=6.7769, median_house_value=400000.0),\n",
              " Row(long=-117.05, lati=33.02, housing_median_age=18.0, total_rooms=917.0, total_bedrooms=121.0, population=388.0, households=131.0, median_income=6.3517, median_house_value=260100.0),\n",
              " Row(long=-117.05, lati=33.01, housing_median_age=19.0, total_rooms=3558.0, total_bedrooms=588.0, population=1439.0, households=578.0, median_income=4.625, median_house_value=211100.0),\n",
              " Row(long=-117.05, lati=33.01, housing_median_age=17.0, total_rooms=3430.0, total_bedrooms=425.0, population=1468.0, households=433.0, median_income=10.6186, median_house_value=429300.0),\n",
              " Row(long=-117.05, lati=32.97, housing_median_age=17.0, total_rooms=9911.0, total_bedrooms=1436.0, population=4763.0, households=1414.0, median_income=5.5882, median_house_value=194300.0),\n",
              " Row(long=-117.05, lati=32.96, housing_median_age=18.0, total_rooms=3593.0, total_bedrooms=661.0, population=1992.0, households=626.0, median_income=4.8295, median_house_value=165800.0),\n",
              " Row(long=-117.05, lati=32.95, housing_median_age=17.0, total_rooms=4814.0, total_bedrooms=1091.0, population=3013.0, households=1078.0, median_income=3.2369, median_house_value=167800.0),\n",
              " Row(long=-117.05, lati=32.95, housing_median_age=17.0, total_rooms=3039.0, total_bedrooms=555.0, population=1297.0, households=552.0, median_income=3.9531, median_house_value=178600.0),\n",
              " Row(long=-117.05, lati=32.82, housing_median_age=16.0, total_rooms=4046.0, total_bedrooms=731.0, population=1684.0, households=701.0, median_income=4.2312, median_house_value=197000.0),\n",
              " Row(long=-117.05, lati=32.81, housing_median_age=17.0, total_rooms=1885.0, total_bedrooms=292.0, population=771.0, households=301.0, median_income=5.6402, median_house_value=228600.0),\n",
              " Row(long=-117.05, lati=32.8, housing_median_age=25.0, total_rooms=1905.0, total_bedrooms=250.0, population=865.0, households=253.0, median_income=6.4797, median_house_value=249000.0),\n",
              " Row(long=-117.05, lati=32.8, housing_median_age=23.0, total_rooms=3309.0, total_bedrooms=401.0, population=1116.0, households=386.0, median_income=7.916, median_house_value=330600.0),\n",
              " Row(long=-117.05, lati=32.8, housing_median_age=17.0, total_rooms=1475.0, total_bedrooms=308.0, population=549.0, households=293.0, median_income=3.7167, median_house_value=180400.0),\n",
              " Row(long=-117.05, lati=32.8, housing_median_age=16.0, total_rooms=1561.0, total_bedrooms=378.0, population=574.0, households=350.0, median_income=3.0035, median_house_value=94600.0),\n",
              " Row(long=-117.05, lati=32.78, housing_median_age=37.0, total_rooms=1184.0, total_bedrooms=178.0, population=529.0, households=192.0, median_income=4.7941, median_house_value=161700.0),\n",
              " Row(long=-117.05, lati=32.77, housing_median_age=33.0, total_rooms=3535.0, total_bedrooms=683.0, population=1568.0, households=672.0, median_income=2.8097, median_house_value=158300.0),\n",
              " Row(long=-117.05, lati=32.77, housing_median_age=23.0, total_rooms=2556.0, total_bedrooms=662.0, population=1200.0, households=548.0, median_income=1.8899, median_house_value=147700.0),\n",
              " Row(long=-117.05, lati=32.76, housing_median_age=46.0, total_rooms=1887.0, total_bedrooms=359.0, population=795.0, households=358.0, median_income=3.25, median_house_value=159600.0),\n",
              " Row(long=-117.05, lati=32.75, housing_median_age=43.0, total_rooms=1718.0, total_bedrooms=344.0, population=826.0, households=336.0, median_income=2.7014, median_house_value=133700.0),\n",
              " Row(long=-117.05, lati=32.75, housing_median_age=36.0, total_rooms=2024.0, total_bedrooms=408.0, population=1030.0, households=390.0, median_income=3.8233, median_house_value=139800.0),\n",
              " Row(long=-117.05, lati=32.75, housing_median_age=35.0, total_rooms=2144.0, total_bedrooms=388.0, population=1003.0, households=383.0, median_income=3.0938, median_house_value=137300.0),\n",
              " Row(long=-117.05, lati=32.75, housing_median_age=29.0, total_rooms=2767.0, total_bedrooms=612.0, population=1437.0, households=587.0, median_income=2.8306, median_house_value=142900.0),\n",
              " Row(long=-117.05, lati=32.74, housing_median_age=34.0, total_rooms=2178.0, total_bedrooms=455.0, population=1193.0, households=446.0, median_income=3.1719, median_house_value=115300.0),\n",
              " Row(long=-117.05, lati=32.73, housing_median_age=27.0, total_rooms=3184.0, total_bedrooms=588.0, population=1763.0, households=571.0, median_income=3.5529, median_house_value=133900.0),\n",
              " Row(long=-117.05, lati=32.72, housing_median_age=35.0, total_rooms=3669.0, total_bedrooms=617.0, population=1694.0, households=585.0, median_income=3.9485, median_house_value=133900.0),\n",
              " Row(long=-117.05, lati=32.72, housing_median_age=35.0, total_rooms=1777.0, total_bedrooms=369.0, population=1158.0, households=353.0, median_income=3.4107, median_house_value=117000.0),\n",
              " Row(long=-117.05, lati=32.69, housing_median_age=8.0, total_rooms=831.0, total_bedrooms=158.0, population=740.0, households=154.0, median_income=5.3908, median_house_value=165500.0),\n",
              " Row(long=-117.05, lati=32.69, housing_median_age=21.0, total_rooms=991.0, total_bedrooms=210.0, population=695.0, households=203.0, median_income=3.625, median_house_value=144300.0),\n",
              " Row(long=-117.05, lati=32.69, housing_median_age=14.0, total_rooms=1689.0, total_bedrooms=555.0, population=1319.0, households=527.0, median_income=3.16, median_house_value=143800.0),\n",
              " Row(long=-117.05, lati=32.68, housing_median_age=35.0, total_rooms=3414.0, total_bedrooms=580.0, population=1761.0, households=522.0, median_income=3.9922, median_house_value=129800.0),\n",
              " Row(long=-117.05, lati=32.68, housing_median_age=19.0, total_rooms=1469.0, total_bedrooms=275.0, population=1010.0, households=292.0, median_income=3.5664, median_house_value=150400.0),\n",
              " Row(long=-117.05, lati=32.68, housing_median_age=15.0, total_rooms=1828.0, total_bedrooms=359.0, population=955.0, households=248.0, median_income=3.2174, median_house_value=165100.0),\n",
              " Row(long=-117.05, lati=32.67, housing_median_age=32.0, total_rooms=4227.0, total_bedrooms=785.0, population=2842.0, households=795.0, median_income=3.9646, median_house_value=137800.0),\n",
              " Row(long=-117.05, lati=32.67, housing_median_age=16.0, total_rooms=2168.0, total_bedrooms=343.0, population=1589.0, households=338.0, median_income=5.4863, median_house_value=153800.0),\n",
              " Row(long=-117.05, lati=32.63, housing_median_age=31.0, total_rooms=4911.0, total_bedrooms=861.0, population=2334.0, households=843.0, median_income=4.1958, median_house_value=160100.0),\n",
              " Row(long=-117.05, lati=32.62, housing_median_age=34.0, total_rooms=3928.0, total_bedrooms=686.0, population=2315.0, households=681.0, median_income=4.2851, median_house_value=144500.0),\n",
              " Row(long=-117.05, lati=32.61, housing_median_age=26.0, total_rooms=1563.0, total_bedrooms=286.0, population=1145.0, households=313.0, median_income=3.8615, median_house_value=139300.0),\n",
              " Row(long=-117.05, lati=32.61, housing_median_age=21.0, total_rooms=6034.0, total_bedrooms=1205.0, population=3795.0, households=1146.0, median_income=3.2633, median_house_value=129700.0),\n",
              " Row(long=-117.05, lati=32.59, housing_median_age=26.0, total_rooms=1919.0, total_bedrooms=345.0, population=1326.0, households=341.0, median_income=4.2679, median_house_value=131900.0),\n",
              " Row(long=-117.05, lati=32.59, housing_median_age=16.0, total_rooms=4683.0, total_bedrooms=929.0, population=3073.0, households=865.0, median_income=3.0495, median_house_value=98300.0),\n",
              " Row(long=-117.05, lati=32.58, housing_median_age=25.0, total_rooms=2185.0, total_bedrooms=370.0, population=1558.0, households=369.0, median_income=5.3072, median_house_value=132700.0),\n",
              " Row(long=-117.05, lati=32.58, housing_median_age=22.0, total_rooms=2101.0, total_bedrooms=399.0, population=1551.0, households=371.0, median_income=4.1518, median_house_value=136900.0),\n",
              " Row(long=-117.05, lati=32.56, housing_median_age=22.0, total_rooms=2172.0, total_bedrooms=563.0, population=2049.0, households=524.0, median_income=2.0159, median_house_value=139300.0),\n",
              " Row(long=-117.05, lati=32.56, housing_median_age=18.0, total_rooms=1215.0, total_bedrooms=320.0, population=1195.0, households=349.0, median_income=1.9875, median_house_value=114900.0),\n",
              " Row(long=-117.05, lati=32.56, housing_median_age=17.0, total_rooms=985.0, total_bedrooms=233.0, population=811.0, households=223.0, median_income=2.875, median_house_value=134500.0),\n",
              " Row(long=-117.06, lati=34.9, housing_median_age=36.0, total_rooms=2828.0, total_bedrooms=916.0, population=1762.0, households=736.0, median_income=1.4318, median_house_value=59600.0),\n",
              " Row(long=-117.06, lati=34.17, housing_median_age=21.0, total_rooms=2520.0, total_bedrooms=582.0, population=416.0, households=151.0, median_income=2.712, median_house_value=89000.0),\n",
              " Row(long=-117.06, lati=34.03, housing_median_age=27.0, total_rooms=1945.0, total_bedrooms=446.0, population=859.0, households=418.0, median_income=1.5203, median_house_value=126200.0),\n",
              " Row(long=-117.06, lati=34.02, housing_median_age=24.0, total_rooms=3912.0, total_bedrooms=809.0, population=1926.0, households=762.0, median_income=2.6875, median_house_value=116300.0),\n",
              " Row(long=-117.06, lati=34.0, housing_median_age=33.0, total_rooms=1575.0, total_bedrooms=326.0, population=879.0, households=282.0, median_income=2.5357, median_house_value=94400.0),\n",
              " Row(long=-117.06, lati=33.78, housing_median_age=17.0, total_rooms=2813.0, total_bedrooms=565.0, population=1345.0, households=488.0, median_income=2.5847, median_house_value=145300.0),\n",
              " Row(long=-117.06, lati=33.17, housing_median_age=4.0, total_rooms=5465.0, total_bedrooms=974.0, population=2844.0, households=950.0, median_income=4.4477, median_house_value=174800.0),\n",
              " Row(long=-117.06, lati=33.15, housing_median_age=24.0, total_rooms=2155.0, total_bedrooms=379.0, population=1158.0, households=360.0, median_income=4.7941, median_house_value=147500.0),\n",
              " Row(long=-117.06, lati=33.13, housing_median_age=12.0, total_rooms=8742.0, total_bedrooms=2114.0, population=4854.0, households=1957.0, median_income=2.8015, median_house_value=143500.0),\n",
              " Row(long=-117.06, lati=33.09, housing_median_age=11.0, total_rooms=7483.0, total_bedrooms=1276.0, population=3516.0, households=1261.0, median_income=4.0484, median_house_value=262500.0),\n",
              " Row(long=-117.06, lati=33.04, housing_median_age=17.0, total_rooms=1785.0, total_bedrooms=255.0, population=667.0, households=277.0, median_income=5.7382, median_house_value=278000.0),\n",
              " Row(long=-117.06, lati=33.03, housing_median_age=23.0, total_rooms=2023.0, total_bedrooms=309.0, population=678.0, households=340.0, median_income=7.0913, median_house_value=265400.0),\n",
              " Row(long=-117.06, lati=33.02, housing_median_age=24.0, total_rooms=830.0, total_bedrooms=190.0, population=279.0, households=196.0, median_income=1.9176, median_house_value=121100.0),\n",
              " Row(long=-117.06, lati=33.02, housing_median_age=17.0, total_rooms=2635.0, total_bedrooms=389.0, population=994.0, households=359.0, median_income=5.8966, median_house_value=261500.0),\n",
              " Row(long=-117.06, lati=33.01, housing_median_age=9.0, total_rooms=2470.0, total_bedrooms=417.0, population=904.0, households=427.0, median_income=4.4219, median_house_value=209200.0),\n",
              " Row(long=-117.06, lati=32.99, housing_median_age=16.0, total_rooms=1306.0, total_bedrooms=196.0, population=713.0, households=222.0, median_income=6.2683, median_house_value=180700.0),\n",
              " Row(long=-117.06, lati=32.97, housing_median_age=17.0, total_rooms=4754.0, total_bedrooms=877.0, population=2412.0, households=832.0, median_income=4.3548, median_house_value=192300.0),\n",
              " Row(long=-117.06, lati=32.81, housing_median_age=17.0, total_rooms=3939.0, total_bedrooms=550.0, population=1694.0, households=553.0, median_income=6.7927, median_house_value=234700.0),\n",
              " Row(long=-117.06, lati=32.8, housing_median_age=17.0, total_rooms=2247.0, total_bedrooms=340.0, population=973.0, households=318.0, median_income=5.5, median_house_value=222000.0),\n",
              " Row(long=-117.06, lati=32.79, housing_median_age=21.0, total_rooms=3787.0, total_bedrooms=492.0, population=1246.0, households=457.0, median_income=9.6023, median_house_value=391300.0),\n",
              " Row(long=-117.06, lati=32.79, housing_median_age=17.0, total_rooms=2524.0, total_bedrooms=332.0, population=771.0, households=317.0, median_income=8.7604, median_house_value=331800.0),\n",
              " Row(long=-117.06, lati=32.77, housing_median_age=34.0, total_rooms=1730.0, total_bedrooms=373.0, population=730.0, households=350.0, median_income=2.0284, median_house_value=161800.0),\n",
              " Row(long=-117.06, lati=32.77, housing_median_age=18.0, total_rooms=2269.0, total_bedrooms=682.0, population=1329.0, households=581.0, median_income=1.7951, median_house_value=161800.0),\n",
              " Row(long=-117.06, lati=32.76, housing_median_age=38.0, total_rooms=1549.0, total_bedrooms=288.0, population=636.0, households=278.0, median_income=3.2188, median_house_value=150500.0),\n",
              " Row(long=-117.06, lati=32.76, housing_median_age=24.0, total_rooms=1629.0, total_bedrooms=587.0, population=1012.0, households=488.0, median_income=1.7452, median_house_value=156800.0),\n",
              " Row(long=-117.06, lati=32.75, housing_median_age=34.0, total_rooms=2516.0, total_bedrooms=611.0, population=1317.0, households=594.0, median_income=2.2308, median_house_value=125900.0),\n",
              " Row(long=-117.06, lati=32.75, housing_median_age=34.0, total_rooms=1917.0, total_bedrooms=419.0, population=1181.0, households=426.0, median_income=3.0208, median_house_value=129200.0),\n",
              " Row(long=-117.06, lati=32.73, housing_median_age=33.0, total_rooms=3444.0, total_bedrooms=619.0, population=1884.0, households=582.0, median_income=3.7891, median_house_value=126700.0),\n",
              " Row(long=-117.06, lati=32.72, housing_median_age=31.0, total_rooms=2669.0, total_bedrooms=514.0, population=1626.0, households=499.0, median_income=3.1923, median_house_value=116900.0),\n",
              " Row(long=-117.06, lati=32.71, housing_median_age=21.0, total_rooms=1864.0, total_bedrooms=388.0, population=1498.0, households=389.0, median_income=3.8194, median_house_value=125700.0),\n",
              " Row(long=-117.06, lati=32.71, housing_median_age=11.0, total_rooms=2397.0, total_bedrooms=523.0, population=1566.0, households=514.0, median_income=3.8687, median_house_value=145200.0),\n",
              " Row(long=-117.06, lati=32.69, housing_median_age=9.0, total_rooms=521.0, total_bedrooms=111.0, population=491.0, households=110.0, median_income=5.1305, median_house_value=158900.0),\n",
              " Row(long=-117.06, lati=32.69, housing_median_age=9.0, total_rooms=1520.0, total_bedrooms=269.0, population=1250.0, households=265.0, median_income=4.8875, median_house_value=157700.0),\n",
              " Row(long=-117.06, lati=32.69, housing_median_age=13.0, total_rooms=705.0, total_bedrooms=149.0, population=718.0, households=155.0, median_income=4.4375, median_house_value=154900.0),\n",
              " Row(long=-117.06, lati=32.68, housing_median_age=41.0, total_rooms=2665.0, total_bedrooms=515.0, population=1664.0, households=512.0, median_income=2.375, median_house_value=113500.0),\n",
              " Row(long=-117.06, lati=32.68, housing_median_age=38.0, total_rooms=1481.0, total_bedrooms=317.0, population=1080.0, households=291.0, median_income=2.85, median_house_value=125800.0),\n",
              " Row(long=-117.06, lati=32.68, housing_median_age=36.0, total_rooms=3815.0, total_bedrooms=796.0, population=2945.0, households=728.0, median_income=2.0959, median_house_value=125000.0),\n",
              " Row(long=-117.06, lati=32.67, housing_median_age=29.0, total_rooms=4047.0, total_bedrooms=754.0, population=2353.0, households=730.0, median_income=4.0505, median_house_value=125000.0),\n",
              " Row(long=-117.06, lati=32.66, housing_median_age=33.0, total_rooms=3425.0, total_bedrooms=511.0, population=1528.0, households=479.0, median_income=5.6889, median_house_value=234600.0),\n",
              " Row(long=-117.06, lati=32.64, housing_median_age=30.0, total_rooms=4494.0, total_bedrooms=667.0, population=1883.0, households=680.0, median_income=5.766, median_house_value=186100.0),\n",
              " Row(long=-117.06, lati=32.63, housing_median_age=37.0, total_rooms=1326.0, total_bedrooms=234.0, population=612.0, households=240.0, median_income=4.125, median_house_value=160200.0),\n",
              " Row(long=-117.06, lati=32.63, housing_median_age=29.0, total_rooms=4168.0, total_bedrooms=742.0, population=2096.0, households=713.0, median_income=4.2204, median_house_value=169800.0),\n",
              " Row(long=-117.06, lati=32.62, housing_median_age=36.0, total_rooms=786.0, total_bedrooms=125.0, population=408.0, households=138.0, median_income=3.9167, median_house_value=189700.0),\n",
              " Row(long=-117.06, lati=32.61, housing_median_age=34.0, total_rooms=4325.0, total_bedrooms=1015.0, population=2609.0, households=979.0, median_income=2.8489, median_house_value=128300.0),\n",
              " Row(long=-117.06, lati=32.6, housing_median_age=33.0, total_rooms=905.0, total_bedrooms=205.0, population=989.0, households=222.0, median_income=2.7014, median_house_value=108200.0),\n",
              " Row(long=-117.06, lati=32.6, housing_median_age=25.0, total_rooms=1075.0, total_bedrooms=238.0, population=434.0, households=234.0, median_income=1.7472, median_house_value=94600.0),\n",
              " Row(long=-117.06, lati=32.6, housing_median_age=24.0, total_rooms=1088.0, total_bedrooms=268.0, population=1095.0, households=246.0, median_income=2.4191, median_house_value=107300.0),\n",
              " Row(long=-117.06, lati=32.58, housing_median_age=17.0, total_rooms=2724.0, total_bedrooms=567.0, population=2213.0, households=554.0, median_income=3.8529, median_house_value=147700.0),\n",
              " Row(long=-117.06, lati=32.58, housing_median_age=13.0, total_rooms=3435.0, total_bedrooms=708.0, population=1761.0, households=699.0, median_income=3.4792, median_house_value=107600.0),\n",
              " Row(long=-117.06, lati=32.58, housing_median_age=11.0, total_rooms=2879.0, total_bedrooms=679.0, population=2098.0, households=673.0, median_income=3.5125, median_house_value=142400.0),\n",
              " Row(long=-117.06, lati=32.57, housing_median_age=25.0, total_rooms=1268.0, total_bedrooms=282.0, population=991.0, households=299.0, median_income=3.0284, median_house_value=123600.0),\n",
              " Row(long=-117.06, lati=32.57, housing_median_age=18.0, total_rooms=1384.0, total_bedrooms=311.0, population=1429.0, households=287.0, median_income=1.3362, median_house_value=95000.0),\n",
              " Row(long=-117.06, lati=32.57, housing_median_age=17.0, total_rooms=2252.0, total_bedrooms=378.0, population=1776.0, households=365.0, median_income=4.6364, median_house_value=141100.0),\n",
              " Row(long=-117.06, lati=32.57, housing_median_age=16.0, total_rooms=1269.0, total_bedrooms=282.0, population=1609.0, households=298.0, median_income=2.6985, median_house_value=156500.0),\n",
              " Row(long=-117.06, lati=32.56, housing_median_age=5.0, total_rooms=2706.0, total_bedrooms=925.0, population=3148.0, households=855.0, median_income=1.7301, median_house_value=125000.0),\n",
              " Row(long=-117.06, lati=32.56, housing_median_age=17.0, total_rooms=2803.0, total_bedrooms=683.0, population=2768.0, households=676.0, median_income=1.7958, median_house_value=140400.0),\n",
              " Row(long=-117.06, lati=32.55, housing_median_age=5.0, total_rooms=3223.0, total_bedrooms=940.0, population=3284.0, households=854.0, median_income=1.4384, median_house_value=108800.0),\n",
              " Row(long=-117.07, lati=34.24, housing_median_age=21.0, total_rooms=4773.0, total_bedrooms=1047.0, population=337.0, households=130.0, median_income=3.9375, median_house_value=115000.0),\n",
              " Row(long=-117.07, lati=33.72, housing_median_age=16.0, total_rooms=4928.0, total_bedrooms=960.0, population=2132.0, households=853.0, median_income=2.7983, median_house_value=112500.0),\n",
              " Row(long=-117.07, lati=33.15, housing_median_age=17.0, total_rooms=1893.0, total_bedrooms=297.0, population=936.0, households=287.0, median_income=5.1842, median_house_value=157700.0),\n",
              " Row(long=-117.07, lati=33.15, housing_median_age=15.0, total_rooms=2994.0, total_bedrooms=522.0, population=1231.0, households=503.0, median_income=3.2024, median_house_value=180400.0),\n",
              " Row(long=-117.07, lati=33.14, housing_median_age=16.0, total_rooms=2546.0, total_bedrooms=429.0, population=1683.0, households=408.0, median_income=4.7426, median_house_value=160600.0),\n",
              " Row(long=-117.07, lati=33.13, housing_median_age=33.0, total_rooms=555.0, total_bedrooms=165.0, population=612.0, households=176.0, median_income=2.1786, median_house_value=137500.0),\n",
              " Row(long=-117.07, lati=33.13, housing_median_age=17.0, total_rooms=6817.0, total_bedrooms=1632.0, population=4526.0, households=1474.0, median_income=2.6152, median_house_value=135300.0),\n",
              " Row(long=-117.07, lati=33.12, housing_median_age=32.0, total_rooms=2474.0, total_bedrooms=499.0, population=1224.0, households=461.0, median_income=2.7216, median_house_value=146300.0),\n",
              " Row(long=-117.07, lati=33.12, housing_median_age=21.0, total_rooms=4578.0, total_bedrooms=927.0, population=2818.0, households=900.0, median_income=3.1458, median_house_value=187700.0),\n",
              " Row(long=-117.07, lati=33.12, housing_median_age=12.0, total_rooms=2453.0, total_bedrooms=599.0, population=1251.0, households=529.0, median_income=2.4122, median_house_value=127000.0),\n",
              " Row(long=-117.07, lati=33.11, housing_median_age=31.0, total_rooms=2055.0, total_bedrooms=473.0, population=1326.0, households=427.0, median_income=3.0915, median_house_value=139900.0),\n",
              " Row(long=-117.07, lati=33.11, housing_median_age=17.0, total_rooms=5565.0, total_bedrooms=1237.0, population=3004.0, households=1139.0, median_income=3.0054, median_house_value=142300.0),\n",
              " Row(long=-117.07, lati=33.07, housing_median_age=8.0, total_rooms=2756.0, total_bedrooms=343.0, population=1045.0, households=340.0, median_income=8.5957, median_house_value=444100.0),\n",
              " Row(long=-117.07, lati=33.04, housing_median_age=4.0, total_rooms=2271.0, total_bedrooms=578.0, population=926.0, households=391.0, median_income=3.6437, median_house_value=210100.0),\n",
              " Row(long=-117.07, lati=33.03, housing_median_age=15.0, total_rooms=1095.0, total_bedrooms=158.0, population=361.0, households=176.0, median_income=6.8099, median_house_value=328200.0),\n",
              " Row(long=-117.07, lati=33.03, housing_median_age=14.0, total_rooms=6665.0, total_bedrooms=1231.0, population=2026.0, households=1001.0, median_income=5.09, median_house_value=268500.0),\n",
              " Row(long=-117.07, lati=33.02, housing_median_age=17.0, total_rooms=2863.0, total_bedrooms=665.0, population=715.0, households=467.0, median_income=2.6048, median_house_value=148200.0),\n",
              " Row(long=-117.07, lati=33.01, housing_median_age=5.0, total_rooms=5870.0, total_bedrooms=977.0, population=1917.0, households=842.0, median_income=5.1998, median_house_value=294100.0),\n",
              " Row(long=-117.07, lati=33.01, housing_median_age=25.0, total_rooms=2120.0, total_bedrooms=381.0, population=588.0, households=359.0, median_income=3.1187, median_house_value=169400.0),\n",
              " Row(long=-117.07, lati=33.0, housing_median_age=4.0, total_rooms=9153.0, total_bedrooms=1866.0, population=3775.0, households=1698.0, median_income=4.955, median_house_value=241500.0),\n",
              " Row(long=-117.07, lati=33.0, housing_median_age=4.0, total_rooms=6242.0, total_bedrooms=1258.0, population=2211.0, households=1116.0, median_income=4.25, median_house_value=281600.0),\n",
              " Row(long=-117.07, lati=32.91, housing_median_age=5.0, total_rooms=2234.0, total_bedrooms=256.0, population=894.0, households=253.0, median_income=10.3354, median_house_value=477600.0),\n",
              " Row(long=-117.07, lati=32.8, housing_median_age=36.0, total_rooms=2028.0, total_bedrooms=349.0, population=820.0, households=352.0, median_income=3.9828, median_house_value=168900.0),\n",
              " Row(long=-117.07, lati=32.8, housing_median_age=31.0, total_rooms=2550.0, total_bedrooms=395.0, population=1017.0, households=405.0, median_income=5.1488, median_house_value=181000.0),\n",
              " Row(long=-117.07, lati=32.8, housing_median_age=23.0, total_rooms=2698.0, total_bedrooms=410.0, population=1094.0, households=411.0, median_income=5.1782, median_house_value=195100.0),\n",
              " Row(long=-117.07, lati=32.78, housing_median_age=26.0, total_rooms=3725.0, total_bedrooms=623.0, population=1516.0, households=627.0, median_income=4.7143, median_house_value=268300.0),\n",
              " Row(long=-117.07, lati=32.78, housing_median_age=22.0, total_rooms=922.0, total_bedrooms=240.0, population=1524.0, households=235.0, median_income=1.6815, median_house_value=218800.0),\n",
              " Row(long=-117.07, lati=32.77, housing_median_age=38.0, total_rooms=3779.0, total_bedrooms=614.0, population=1495.0, households=614.0, median_income=4.3529, median_house_value=184000.0),\n",
              " Row(long=-117.07, lati=32.77, housing_median_age=38.0, total_rooms=1130.0, total_bedrooms=228.0, population=699.0, households=241.0, median_income=2.65, median_house_value=167600.0),\n",
              " Row(long=-117.07, lati=32.77, housing_median_age=34.0, total_rooms=2245.0, total_bedrooms=394.0, population=1849.0, households=429.0, median_income=3.5446, median_house_value=185500.0),\n",
              " Row(long=-117.07, lati=32.76, housing_median_age=42.0, total_rooms=1827.0, total_bedrooms=378.0, population=880.0, households=380.0, median_income=2.5125, median_house_value=176600.0),\n",
              " Row(long=-117.07, lati=32.76, housing_median_age=14.0, total_rooms=2523.0, total_bedrooms=545.0, population=1297.0, households=525.0, median_income=2.3886, median_house_value=138100.0),\n",
              " Row(long=-117.07, lati=32.75, housing_median_age=9.0, total_rooms=3464.0, total_bedrooms=749.0, population=1687.0, households=645.0, median_income=3.3026, median_house_value=119100.0),\n",
              " Row(long=-117.07, lati=32.75, housing_median_age=37.0, total_rooms=2690.0, total_bedrooms=549.0, population=1219.0, households=524.0, median_income=2.3148, median_house_value=154200.0),\n",
              " Row(long=-117.07, lati=32.75, housing_median_age=31.0, total_rooms=2036.0, total_bedrooms=501.0, population=1263.0, households=442.0, median_income=2.5583, median_house_value=120700.0),\n",
              " Row(long=-117.07, lati=32.75, housing_median_age=14.0, total_rooms=3073.0, total_bedrooms=851.0, population=2000.0, households=782.0, median_income=2.3824, median_house_value=144700.0),\n",
              " Row(long=-117.07, lati=32.74, housing_median_age=37.0, total_rooms=1042.0, total_bedrooms=205.0, population=589.0, households=208.0, median_income=2.6629, median_house_value=116900.0),\n",
              " Row(long=-117.07, lati=32.73, housing_median_age=18.0, total_rooms=2968.0, total_bedrooms=656.0, population=1149.0, households=581.0, median_income=2.6452, median_house_value=154200.0),\n",
              " Row(long=-117.07, lati=32.72, housing_median_age=18.0, total_rooms=1758.0, total_bedrooms=286.0, population=987.0, households=277.0, median_income=4.6875, median_house_value=141800.0),\n",
              " Row(long=-117.07, lati=32.71, housing_median_age=39.0, total_rooms=2754.0, total_bedrooms=652.0, population=2263.0, households=619.0, median_income=2.2454, median_house_value=89600.0),\n",
              " Row(long=-117.07, lati=32.71, housing_median_age=36.0, total_rooms=2448.0, total_bedrooms=475.0, population=1268.0, households=450.0, median_income=2.5682, median_house_value=109100.0),\n",
              " Row(long=-117.07, lati=32.71, housing_median_age=26.0, total_rooms=4151.0, total_bedrooms=823.0, population=2822.0, households=697.0, median_income=2.8372, median_house_value=123400.0),\n",
              " Row(long=-117.07, lati=32.7, housing_median_age=14.0, total_rooms=2763.0, total_bedrooms=456.0, population=1914.0, households=465.0, median_income=4.1645, median_house_value=143000.0),\n",
              " Row(long=-117.07, lati=32.69, housing_median_age=29.0, total_rooms=1429.0, total_bedrooms=293.0, population=1091.0, households=317.0, median_income=3.4609, median_house_value=118000.0),\n",
              " Row(long=-117.07, lati=32.69, housing_median_age=28.0, total_rooms=1485.0, total_bedrooms=275.0, population=820.0, households=283.0, median_income=4.069, median_house_value=153300.0),\n",
              " Row(long=-117.07, lati=32.69, housing_median_age=20.0, total_rooms=2192.0, total_bedrooms=406.0, population=1766.0, households=393.0, median_income=4.0921, median_house_value=135000.0),\n",
              " Row(long=-117.07, lati=32.68, housing_median_age=18.0, total_rooms=1475.0, total_bedrooms=267.0, population=1149.0, households=268.0, median_income=5.0827, median_house_value=142200.0),\n",
              " Row(long=-117.07, lati=32.67, housing_median_age=35.0, total_rooms=3200.0, total_bedrooms=725.0, population=1723.0, households=610.0, median_income=1.8977, median_house_value=95600.0),\n",
              " Row(long=-117.07, lati=32.67, housing_median_age=28.0, total_rooms=2758.0, total_bedrooms=623.0, population=2179.0, households=631.0, median_income=2.3814, median_house_value=112300.0),\n",
              " Row(long=-117.07, lati=32.65, housing_median_age=12.0, total_rooms=4131.0, total_bedrooms=891.0, population=2272.0, households=840.0, median_income=3.4701, median_house_value=204900.0),\n",
              " Row(long=-117.07, lati=32.64, housing_median_age=38.0, total_rooms=1486.0, total_bedrooms=269.0, population=745.0, households=295.0, median_income=4.6477, median_house_value=150400.0),\n",
              " Row(long=-117.07, lati=32.64, housing_median_age=32.0, total_rooms=5135.0, total_bedrooms=1025.0, population=2152.0, households=944.0, median_income=4.1325, median_house_value=172800.0),\n",
              " Row(long=-117.07, lati=32.64, housing_median_age=30.0, total_rooms=2873.0, total_bedrooms=774.0, population=1593.0, households=731.0, median_income=2.24, median_house_value=129500.0),\n",
              " Row(long=-117.07, lati=32.63, housing_median_age=40.0, total_rooms=1706.0, total_bedrooms=322.0, population=796.0, households=303.0, median_income=3.5583, median_house_value=154900.0),\n",
              " Row(long=-117.07, lati=32.63, housing_median_age=37.0, total_rooms=2372.0, total_bedrooms=444.0, population=1056.0, households=419.0, median_income=3.7583, median_house_value=145500.0),\n",
              " Row(long=-117.07, lati=32.63, housing_median_age=37.0, total_rooms=2303.0, total_bedrooms=379.0, population=1026.0, households=357.0, median_income=3.455, median_house_value=156900.0),\n",
              " Row(long=-117.07, lati=32.62, housing_median_age=19.0, total_rooms=5016.0, total_bedrooms=1173.0, population=2750.0, households=1081.0, median_income=2.7838, median_house_value=155900.0),\n",
              " Row(long=-117.07, lati=32.61, housing_median_age=22.0, total_rooms=5016.0, total_bedrooms=1331.0, population=3222.0, households=1196.0, median_income=2.1441, median_house_value=135500.0),\n",
              " Row(long=-117.07, lati=32.61, housing_median_age=10.0, total_rooms=1686.0, total_bedrooms=414.0, population=1000.0, households=391.0, median_income=2.1765, median_house_value=128400.0),\n",
              " Row(long=-117.07, lati=32.6, housing_median_age=18.0, total_rooms=2602.0, total_bedrooms=551.0, population=1042.0, households=550.0, median_income=1.9267, median_house_value=67500.0),\n",
              " Row(long=-117.07, lati=32.59, housing_median_age=21.0, total_rooms=1779.0, total_bedrooms=466.0, population=1327.0, households=488.0, median_income=1.6007, median_house_value=96200.0),\n",
              " Row(long=-117.07, lati=32.57, housing_median_age=17.0, total_rooms=2961.0, total_bedrooms=634.0, population=1911.0, households=615.0, median_income=2.5859, median_house_value=131400.0),\n",
              " Row(long=-117.07, lati=32.57, housing_median_age=14.0, total_rooms=1527.0, total_bedrooms=357.0, population=1224.0, households=363.0, median_income=2.7361, median_house_value=93600.0),\n",
              " Row(long=-117.07, lati=32.56, housing_median_age=9.0, total_rooms=3648.0, total_bedrooms=895.0, population=3293.0, households=840.0, median_income=3.0992, median_house_value=142600.0),\n",
              " Row(long=-117.08, lati=34.96, housing_median_age=28.0, total_rooms=1777.0, total_bedrooms=307.0, population=721.0, households=259.0, median_income=3.6343, median_house_value=79800.0),\n",
              " Row(long=-117.08, lati=34.08, housing_median_age=34.0, total_rooms=45.0, total_bedrooms=11.0, population=39.0, households=14.0, median_income=3.0625, median_house_value=500001.0),\n",
              " Row(long=-117.08, lati=34.03, housing_median_age=23.0, total_rooms=3862.0, total_bedrooms=699.0, population=2082.0, households=652.0, median_income=3.154, median_house_value=115700.0),\n",
              " Row(long=-117.08, lati=34.02, housing_median_age=20.0, total_rooms=3111.0, total_bedrooms=563.0, population=1453.0, households=538.0, median_income=3.3365, median_house_value=122800.0),\n",
              " Row(long=-117.08, lati=33.82, housing_median_age=6.0, total_rooms=1771.0, total_bedrooms=293.0, population=935.0, households=279.0, median_income=4.065, median_house_value=148200.0),\n",
              " Row(long=-117.08, lati=33.23, housing_median_age=14.0, total_rooms=3337.0, total_bedrooms=571.0, population=1385.0, households=512.0, median_income=4.15, median_house_value=272200.0),\n",
              " Row(long=-117.08, lati=33.14, housing_median_age=19.0, total_rooms=2629.0, total_bedrooms=494.0, population=1444.0, households=503.0, median_income=3.5462, median_house_value=156800.0),\n",
              " Row(long=-117.08, lati=33.14, housing_median_age=15.0, total_rooms=1497.0, total_bedrooms=250.0, population=827.0, households=239.0, median_income=4.3846, median_house_value=154200.0),\n",
              " Row(long=-117.08, lati=33.14, housing_median_age=11.0, total_rooms=1430.0, total_bedrooms=292.0, population=921.0, households=294.0, median_income=4.2357, median_house_value=160900.0),\n",
              " Row(long=-117.08, lati=33.13, housing_median_age=17.0, total_rooms=8466.0, total_bedrooms=2628.0, population=7014.0, households=2267.0, median_income=2.1437, median_house_value=113700.0),\n",
              " Row(long=-117.08, lati=33.12, housing_median_age=37.0, total_rooms=1060.0, total_bedrooms=268.0, population=823.0, households=229.0, median_income=1.8363, median_house_value=145500.0),\n",
              " Row(long=-117.08, lati=33.12, housing_median_age=33.0, total_rooms=674.0, total_bedrooms=208.0, population=565.0, households=188.0, median_income=1.875, median_house_value=114300.0),\n",
              " Row(long=-117.08, lati=33.11, housing_median_age=31.0, total_rooms=1832.0, total_bedrooms=444.0, population=1669.0, households=463.0, median_income=2.2146, median_house_value=116700.0),\n",
              " Row(long=-117.08, lati=33.11, housing_median_age=31.0, total_rooms=1356.0, total_bedrooms=324.0, population=1301.0, households=331.0, median_income=2.5331, median_house_value=115100.0),\n",
              " Row(long=-117.08, lati=33.11, housing_median_age=28.0, total_rooms=2094.0, total_bedrooms=585.0, population=1556.0, households=563.0, median_income=2.2, median_house_value=127700.0),\n",
              " Row(long=-117.08, lati=33.09, housing_median_age=23.0, total_rooms=3792.0, total_bedrooms=624.0, population=1988.0, households=658.0, median_income=4.7566, median_house_value=178300.0),\n",
              " Row(long=-117.08, lati=33.08, housing_median_age=23.0, total_rooms=3400.0, total_bedrooms=501.0, population=1383.0, households=488.0, median_income=4.9844, median_house_value=249100.0),\n",
              " Row(long=-117.08, lati=33.04, housing_median_age=10.0, total_rooms=2577.0, total_bedrooms=347.0, population=1193.0, households=365.0, median_income=6.53, median_house_value=264100.0),\n",
              " Row(long=-117.08, lati=33.03, housing_median_age=18.0, total_rooms=1339.0, total_bedrooms=284.0, population=761.0, households=290.0, median_income=5.3074, median_house_value=137200.0),\n",
              " Row(long=-117.08, lati=33.03, housing_median_age=17.0, total_rooms=987.0, total_bedrooms=142.0, population=463.0, households=152.0, median_income=5.8747, median_house_value=229300.0),\n",
              " Row(long=-117.08, lati=33.03, housing_median_age=15.0, total_rooms=3023.0, total_bedrooms=623.0, population=1283.0, households=559.0, median_income=3.3724, median_house_value=137900.0),\n",
              " Row(long=-117.08, lati=33.03, housing_median_age=10.0, total_rooms=2296.0, total_bedrooms=450.0, population=818.0, households=405.0, median_income=4.3424, median_house_value=160600.0),\n",
              " Row(long=-117.08, lati=33.01, housing_median_age=5.0, total_rooms=5659.0, total_bedrooms=931.0, population=2565.0, households=902.0, median_income=6.1949, median_house_value=238700.0),\n",
              " Row(long=-117.08, lati=32.97, housing_median_age=3.0, total_rooms=17466.0, total_bedrooms=3336.0, population=7644.0, households=2895.0, median_income=5.4584, median_house_value=246500.0),\n",
              " Row(long=-117.08, lati=32.93, housing_median_age=5.0, total_rooms=14944.0, total_bedrooms=2490.0, population=6600.0, households=2407.0, median_income=6.0857, median_house_value=308300.0),\n",
              " Row(long=-117.08, lati=32.91, housing_median_age=9.0, total_rooms=1547.0, total_bedrooms=218.0, population=683.0, households=231.0, median_income=7.5604, median_house_value=327900.0),\n",
              " Row(long=-117.08, lati=32.91, housing_median_age=16.0, total_rooms=1653.0, total_bedrooms=228.0, population=690.0, households=224.0, median_income=6.5853, median_house_value=248400.0),\n",
              " Row(long=-117.08, lati=32.83, housing_median_age=7.0, total_rooms=13703.0, total_bedrooms=2352.0, population=4446.0, households=1856.0, median_income=6.4335, median_house_value=260600.0),\n",
              " Row(long=-117.08, lati=32.82, housing_median_age=10.0, total_rooms=5177.0, total_bedrooms=856.0, population=2190.0, households=816.0, median_income=5.9734, median_house_value=271700.0),\n",
              " Row(long=-117.08, lati=32.8, housing_median_age=25.0, total_rooms=2963.0, total_bedrooms=552.0, population=1162.0, households=556.0, median_income=3.625, median_house_value=184500.0),\n",
              " Row(long=-117.08, lati=32.78, housing_median_age=21.0, total_rooms=2919.0, total_bedrooms=496.0, population=984.0, households=443.0, median_income=4.625, median_house_value=222800.0),\n",
              " Row(long=-117.08, lati=32.77, housing_median_age=31.0, total_rooms=1070.0, total_bedrooms=155.0, population=426.0, households=153.0, median_income=6.1628, median_house_value=219200.0),\n",
              " Row(long=-117.08, lati=32.77, housing_median_age=25.0, total_rooms=3911.0, total_bedrooms=849.0, population=1580.0, households=767.0, median_income=2.7778, median_house_value=184100.0),\n",
              " Row(long=-117.08, lati=32.76, housing_median_age=27.0, total_rooms=1221.0, total_bedrooms=254.0, population=606.0, households=259.0, median_income=3.0833, median_house_value=155400.0),\n",
              " Row(long=-117.08, lati=32.76, housing_median_age=20.0, total_rooms=2547.0, total_bedrooms=785.0, population=1199.0, households=643.0, median_income=1.7743, median_house_value=140300.0),\n",
              " Row(long=-117.08, lati=32.76, housing_median_age=18.0, total_rooms=1704.0, total_bedrooms=596.0, population=1639.0, households=548.0, median_income=1.7391, median_house_value=125000.0),\n",
              " Row(long=-117.08, lati=32.75, housing_median_age=20.0, total_rooms=1989.0, total_bedrooms=508.0, population=1452.0, households=462.0, median_income=2.0077, median_house_value=118300.0),\n",
              " Row(long=-117.08, lati=32.75, housing_median_age=16.0, total_rooms=1111.0, total_bedrooms=328.0, population=930.0, households=303.0, median_income=1.2347, median_house_value=128100.0),\n",
              " Row(long=-117.08, lati=32.75, housing_median_age=15.0, total_rooms=1821.0, total_bedrooms=516.0, population=1385.0, households=439.0, median_income=2.5101, median_house_value=95300.0),\n",
              " Row(long=-117.08, lati=32.74, housing_median_age=33.0, total_rooms=3260.0, total_bedrooms=673.0, population=1784.0, households=666.0, median_income=3.5078, median_house_value=126500.0),\n",
              " Row(long=-117.08, lati=32.74, housing_median_age=26.0, total_rooms=2359.0, total_bedrooms=622.0, population=2067.0, households=581.0, median_income=1.8103, median_house_value=124700.0),\n",
              " Row(long=-117.08, lati=32.73, housing_median_age=36.0, total_rooms=3331.0, total_bedrooms=643.0, population=1903.0, households=622.0, median_income=3.6974, median_house_value=122000.0),\n",
              " Row(long=-117.08, lati=32.73, housing_median_age=36.0, total_rooms=1158.0, total_bedrooms=218.0, population=619.0, households=233.0, median_income=3.6125, median_house_value=122500.0),\n",
              " Row(long=-117.08, lati=32.73, housing_median_age=19.0, total_rooms=2935.0, total_bedrooms=763.0, population=1953.0, households=720.0, median_income=1.4254, median_house_value=111300.0),\n",
              " Row(long=-117.08, lati=32.71, housing_median_age=27.0, total_rooms=2204.0, total_bedrooms=598.0, population=1656.0, households=521.0, median_income=1.4821, median_house_value=86200.0),\n",
              " Row(long=-117.08, lati=32.7, housing_median_age=37.0, total_rooms=2176.0, total_bedrooms=418.0, population=1301.0, households=375.0, median_income=2.875, median_house_value=98900.0),\n",
              " Row(long=-117.08, lati=32.7, housing_median_age=36.0, total_rooms=2103.0, total_bedrooms=390.0, population=1279.0, households=392.0, median_income=2.4135, median_house_value=97000.0),\n",
              " Row(long=-117.08, lati=32.69, housing_median_age=36.0, total_rooms=1571.0, total_bedrooms=284.0, population=1001.0, households=268.0, median_income=3.6875, median_house_value=111400.0),\n",
              " Row(long=-117.08, lati=32.69, housing_median_age=31.0, total_rooms=2558.0, total_bedrooms=487.0, population=1938.0, households=492.0, median_income=3.4875, median_house_value=117000.0),\n",
              " Row(long=-117.08, lati=32.68, housing_median_age=26.0, total_rooms=3071.0, total_bedrooms=615.0, population=2156.0, households=568.0, median_income=2.9318, median_house_value=112400.0),\n",
              " Row(long=-117.08, lati=32.68, housing_median_age=19.0, total_rooms=3635.0, total_bedrooms=1078.0, population=3127.0, households=1098.0, median_income=1.324, median_house_value=122600.0),\n",
              " Row(long=-117.08, lati=32.67, housing_median_age=31.0, total_rooms=3008.0, total_bedrooms=764.0, population=2088.0, households=757.0, median_income=2.5662, median_house_value=118200.0),\n",
              " Row(long=-117.08, lati=32.66, housing_median_age=43.0, total_rooms=1004.0, total_bedrooms=236.0, population=839.0, households=235.0, median_income=2.81, median_house_value=103400.0),\n",
              " Row(long=-117.08, lati=32.65, housing_median_age=28.0, total_rooms=2296.0, total_bedrooms=603.0, population=1277.0, households=550.0, median_income=2.3562, median_house_value=123800.0),\n",
              " Row(long=-117.08, lati=32.65, housing_median_age=17.0, total_rooms=2633.0, total_bedrooms=712.0, population=1487.0, households=694.0, median_income=2.5392, median_house_value=147000.0),\n",
              " Row(long=-117.08, lati=32.64, housing_median_age=38.0, total_rooms=917.0, total_bedrooms=256.0, population=494.0, households=233.0, median_income=1.9241, median_house_value=150000.0),\n",
              " Row(long=-117.08, lati=32.64, housing_median_age=11.0, total_rooms=1651.0, total_bedrooms=533.0, population=947.0, households=515.0, median_income=1.6806, median_house_value=141700.0),\n",
              " Row(long=-117.08, lati=32.63, housing_median_age=33.0, total_rooms=2891.0, total_bedrooms=793.0, population=1607.0, households=754.0, median_income=2.1281, median_house_value=139800.0),\n",
              " Row(long=-117.08, lati=32.63, housing_median_age=30.0, total_rooms=2504.0, total_bedrooms=559.0, population=1827.0, households=490.0, median_income=2.6146, median_house_value=159400.0),\n",
              " Row(long=-117.08, lati=32.63, housing_median_age=28.0, total_rooms=2080.0, total_bedrooms=427.0, population=1266.0, households=434.0, median_income=2.2788, median_house_value=146300.0),\n",
              " Row(long=-117.08, lati=32.62, housing_median_age=36.0, total_rooms=1674.0, total_bedrooms=309.0, population=818.0, households=307.0, median_income=3.4773, median_house_value=150400.0),\n",
              " Row(long=-117.08, lati=32.62, housing_median_age=28.0, total_rooms=2468.0, total_bedrooms=506.0, population=1353.0, households=522.0, median_income=3.0771, median_house_value=158600.0),\n",
              " Row(long=-117.08, lati=32.62, housing_median_age=16.0, total_rooms=5192.0, total_bedrooms=1381.0, population=3261.0, households=1321.0, median_income=2.2685, median_house_value=151900.0),\n",
              " Row(long=-117.08, lati=32.61, housing_median_age=27.0, total_rooms=2264.0, total_bedrooms=525.0, population=1485.0, households=468.0, median_income=3.3514, median_house_value=149100.0),\n",
              " Row(long=-117.08, lati=32.6, housing_median_age=24.0, total_rooms=1901.0, total_bedrooms=490.0, population=1334.0, households=476.0, median_income=2.2544, median_house_value=121900.0),\n",
              " Row(long=-117.08, lati=32.59, housing_median_age=8.0, total_rooms=2888.0, total_bedrooms=662.0, population=2441.0, households=683.0, median_income=2.7048, median_house_value=153000.0),\n",
              " Row(long=-117.08, lati=32.59, housing_median_age=30.0, total_rooms=144.0, total_bedrooms=52.0, population=220.0, households=48.0, median_income=2.3929, median_house_value=134400.0),\n",
              " Row(long=-117.08, lati=32.58, housing_median_age=22.0, total_rooms=2128.0, total_bedrooms=477.0, population=1420.0, households=450.0, median_income=3.2687, median_house_value=131000.0),\n",
              " Row(long=-117.08, lati=32.57, housing_median_age=9.0, total_rooms=6298.0, total_bedrooms=1512.0, population=4451.0, households=1456.0, median_income=2.569, median_house_value=88300.0),\n",
              " Row(long=-117.09, lati=34.22, housing_median_age=16.0, total_rooms=1347.0, total_bedrooms=327.0, population=271.0, households=91.0, median_income=4.0, median_house_value=87500.0),\n",
              " Row(long=-117.09, lati=34.07, housing_median_age=24.0, total_rooms=6260.0, total_bedrooms=1271.0, population=3132.0, households=1189.0, median_income=2.5156, median_house_value=103000.0),\n",
              " Row(long=-117.09, lati=33.71, housing_median_age=13.0, total_rooms=1974.0, total_bedrooms=426.0, population=1276.0, households=408.0, median_income=1.972, median_house_value=90500.0),\n",
              " Row(long=-117.09, lati=33.15, housing_median_age=13.0, total_rooms=3958.0, total_bedrooms=865.0, population=1981.0, households=840.0, median_income=3.4764, median_house_value=137500.0),\n",
              " Row(long=-117.09, lati=33.13, housing_median_age=9.0, total_rooms=5685.0, total_bedrooms=1442.0, population=3773.0, households=1250.0, median_income=3.0426, median_house_value=129900.0),\n",
              " Row(long=-117.09, lati=33.12, housing_median_age=11.0, total_rooms=567.0, total_bedrooms=184.0, population=620.0, households=163.0, median_income=2.5284, median_house_value=122500.0),\n",
              " Row(long=-117.09, lati=33.11, housing_median_age=32.0, total_rooms=1713.0, total_bedrooms=321.0, population=891.0, households=286.0, median_income=3.1429, median_house_value=171600.0),\n",
              " Row(long=-117.09, lati=33.1, housing_median_age=21.0, total_rooms=2876.0, total_bedrooms=539.0, population=1387.0, households=499.0, median_income=3.8292, median_house_value=177000.0),\n",
              " Row(long=-117.09, lati=32.99, housing_median_age=18.0, total_rooms=3215.0, total_bedrooms=588.0, population=1618.0, households=509.0, median_income=4.6028, median_house_value=216800.0),\n",
              " Row(long=-117.09, lati=32.99, housing_median_age=16.0, total_rooms=2175.0, total_bedrooms=327.0, population=1037.0, households=326.0, median_income=5.1909, median_house_value=201400.0),\n",
              " Row(long=-117.09, lati=32.98, housing_median_age=23.0, total_rooms=1125.0, total_bedrooms=273.0, population=687.0, households=308.0, median_income=2.3182, median_house_value=268800.0),\n",
              " Row(long=-117.09, lati=32.91, housing_median_age=9.0, total_rooms=2012.0, total_bedrooms=316.0, population=802.0, households=289.0, median_income=6.5706, median_house_value=255700.0),\n",
              " Row(long=-117.09, lati=32.91, housing_median_age=16.0, total_rooms=2005.0, total_bedrooms=266.0, population=827.0, households=270.0, median_income=7.0546, median_house_value=282200.0),\n",
              " Row(long=-117.09, lati=32.9, housing_median_age=16.0, total_rooms=1989.0, total_bedrooms=290.0, population=814.0, households=291.0, median_income=6.2715, median_house_value=255100.0),\n",
              " Row(long=-117.09, lati=32.83, housing_median_age=15.0, total_rooms=4138.0, total_bedrooms=636.0, population=2001.0, households=677.0, median_income=4.8419, median_house_value=264000.0),\n",
              " Row(long=-117.09, lati=32.81, housing_median_age=7.0, total_rooms=6100.0, total_bedrooms=1185.0, population=2710.0, households=1040.0, median_income=5.5673, median_house_value=288200.0),\n",
              " Row(long=-117.09, lati=32.8, housing_median_age=36.0, total_rooms=2163.0, total_bedrooms=367.0, population=915.0, households=360.0, median_income=4.7188, median_house_value=174100.0),\n",
              " Row(long=-117.09, lati=32.8, housing_median_age=15.0, total_rooms=666.0, total_bedrooms=152.0, population=247.0, households=164.0, median_income=2.15, median_house_value=131300.0),\n",
              " Row(long=-117.09, lati=32.79, housing_median_age=36.0, total_rooms=1936.0, total_bedrooms=345.0, population=861.0, households=343.0, median_income=3.8333, median_house_value=170000.0),\n",
              " Row(long=-117.09, lati=32.79, housing_median_age=36.0, total_rooms=1529.0, total_bedrooms=266.0, population=683.0, households=260.0, median_income=4.0982, median_house_value=171200.0),\n",
              " Row(long=-117.09, lati=32.79, housing_median_age=20.0, total_rooms=2183.0, total_bedrooms=534.0, population=999.0, households=496.0, median_income=2.8631, median_house_value=169700.0),\n",
              " Row(long=-117.09, lati=32.78, housing_median_age=28.0, total_rooms=1708.0, total_bedrooms=393.0, population=816.0, households=393.0, median_income=2.9881, median_house_value=165300.0),\n",
              " Row(long=-117.09, lati=32.77, housing_median_age=38.0, total_rooms=2065.0, total_bedrooms=374.0, population=812.0, households=343.0, median_income=3.125, median_house_value=216500.0),\n",
              " Row(long=-117.09, lati=32.77, housing_median_age=31.0, total_rooms=3062.0, total_bedrooms=596.0, population=1263.0, households=539.0, median_income=3.0875, median_house_value=291500.0),\n",
              " Row(long=-117.09, lati=32.76, housing_median_age=44.0, total_rooms=1139.0, total_bedrooms=214.0, population=470.0, households=217.0, median_income=3.5481, median_house_value=203100.0),\n",
              " Row(long=-117.09, lati=32.76, housing_median_age=43.0, total_rooms=3889.0, total_bedrooms=711.0, population=1466.0, households=663.0, median_income=3.5529, median_house_value=223000.0),\n",
              " Row(long=-117.09, lati=32.76, housing_median_age=31.0, total_rooms=2567.0, total_bedrooms=624.0, population=1255.0, households=582.0, median_income=2.5909, median_house_value=159100.0),\n",
              " Row(long=-117.09, lati=32.76, housing_median_age=31.0, total_rooms=1235.0, total_bedrooms=387.0, population=816.0, households=397.0, median_income=1.5517, median_house_value=122500.0),\n",
              " Row(long=-117.09, lati=32.76, housing_median_age=10.0, total_rooms=1922.0, total_bedrooms=577.0, population=1595.0, households=545.0, median_income=1.5208, median_house_value=118800.0),\n",
              " Row(long=-117.09, lati=32.75, housing_median_age=30.0, total_rooms=1899.0, total_bedrooms=546.0, population=1620.0, households=493.0, median_income=1.6034, median_house_value=84400.0),\n",
              " Row(long=-117.09, lati=32.75, housing_median_age=28.0, total_rooms=1220.0, total_bedrooms=391.0, population=1286.0, households=396.0, median_income=1.2286, median_house_value=105000.0),\n",
              " Row(long=-117.09, lati=32.75, housing_median_age=24.0, total_rooms=1245.0, total_bedrooms=376.0, population=1230.0, households=362.0, median_income=1.875, median_house_value=95000.0),\n",
              " Row(long=-117.09, lati=32.75, housing_median_age=20.0, total_rooms=1701.0, total_bedrooms=503.0, population=1482.0, households=465.0, median_income=1.6789, median_house_value=95500.0),\n",
              " Row(long=-117.09, lati=32.74, housing_median_age=23.0, total_rooms=3130.0, total_bedrooms=779.0, population=2472.0, households=744.0, median_income=2.32, median_house_value=93200.0),\n",
              " Row(long=-117.09, lati=32.73, housing_median_age=26.0, total_rooms=3114.0, total_bedrooms=686.0, population=1948.0, households=660.0, median_income=2.8942, median_house_value=124100.0),\n",
              " Row(long=-117.09, lati=32.72, housing_median_age=39.0, total_rooms=1273.0, total_bedrooms=246.0, population=770.0, households=242.0, median_income=2.0938, median_house_value=102500.0),\n",
              " Row(long=-117.09, lati=32.72, housing_median_age=33.0, total_rooms=1096.0, total_bedrooms=240.0, population=716.0, households=224.0, median_income=1.6944, median_house_value=111800.0),\n",
              " Row(long=-117.09, lati=32.71, housing_median_age=29.0, total_rooms=2238.0, total_bedrooms=523.0, population=2061.0, households=504.0, median_income=2.5559, median_house_value=96800.0),\n",
              " Row(long=-117.09, lati=32.71, housing_median_age=12.0, total_rooms=3375.0, total_bedrooms=945.0, population=2357.0, households=808.0, median_income=1.5, median_house_value=106300.0),\n",
              " Row(long=-117.09, lati=32.7, housing_median_age=22.0, total_rooms=2409.0, total_bedrooms=582.0, population=1887.0, households=578.0, median_income=1.4089, median_house_value=94200.0),\n",
              " Row(long=-117.09, lati=32.69, housing_median_age=20.0, total_rooms=1102.0, total_bedrooms=205.0, population=852.0, households=217.0, median_income=3.1833, median_house_value=108300.0),\n",
              " Row(long=-117.09, lati=32.69, housing_median_age=18.0, total_rooms=1645.0, total_bedrooms=430.0, population=1221.0, households=410.0, median_income=1.3269, median_house_value=108000.0),\n",
              " Row(long=-117.09, lati=32.68, housing_median_age=30.0, total_rooms=2662.0, total_bedrooms=653.0, population=1997.0, households=605.0, median_income=2.8089, median_house_value=120600.0),\n",
              " Row(long=-117.09, lati=32.68, housing_median_age=29.0, total_rooms=1792.0, total_bedrooms=449.0, population=1650.0, households=396.0, median_income=2.2201, median_house_value=100000.0),\n",
              " Row(long=-117.09, lati=32.68, housing_median_age=20.0, total_rooms=2569.0, total_bedrooms=737.0, population=2341.0, households=705.0, median_income=2.0114, median_house_value=104900.0),\n",
              " Row(long=-117.09, lati=32.67, housing_median_age=37.0, total_rooms=1157.0, total_bedrooms=332.0, population=983.0, households=306.0, median_income=2.0972, median_house_value=117000.0),\n",
              " Row(long=-117.09, lati=32.67, housing_median_age=31.0, total_rooms=2051.0, total_bedrooms=549.0, population=1581.0, households=538.0, median_income=2.052, median_house_value=108900.0),\n",
              " Row(long=-117.09, lati=32.66, housing_median_age=46.0, total_rooms=844.0, total_bedrooms=147.0, population=423.0, households=161.0, median_income=3.375, median_house_value=136300.0),\n",
              " Row(long=-117.09, lati=32.66, housing_median_age=38.0, total_rooms=833.0, total_bedrooms=206.0, population=570.0, households=182.0, median_income=1.8333, median_house_value=127100.0),\n",
              " Row(long=-117.09, lati=32.65, housing_median_age=25.0, total_rooms=3509.0, total_bedrooms=985.0, population=2359.0, households=899.0, median_income=2.6296, median_house_value=150000.0),\n",
              " Row(long=-117.09, lati=32.65, housing_median_age=20.0, total_rooms=1445.0, total_bedrooms=323.0, population=573.0, households=334.0, median_income=2.619, median_house_value=145800.0),\n",
              " Row(long=-117.09, lati=32.64, housing_median_age=38.0, total_rooms=2095.0, total_bedrooms=536.0, population=1240.0, households=550.0, median_income=2.7218, median_house_value=145900.0),\n",
              " Row(long=-117.09, lati=32.64, housing_median_age=30.0, total_rooms=3171.0, total_bedrooms=862.0, population=2126.0, households=800.0, median_income=2.507, median_house_value=142700.0),\n",
              " Row(long=-117.09, lati=32.64, housing_median_age=24.0, total_rooms=3613.0, total_bedrooms=973.0, population=2002.0, households=931.0, median_income=1.947, median_house_value=147500.0),\n",
              " Row(long=-117.09, lati=32.64, housing_median_age=20.0, total_rooms=1999.0, total_bedrooms=651.0, population=1302.0, households=592.0, median_income=1.6321, median_house_value=57500.0),\n",
              " Row(long=-117.09, lati=32.63, housing_median_age=33.0, total_rooms=620.0, total_bedrooms=161.0, population=420.0, households=164.0, median_income=1.8417, median_house_value=150000.0),\n",
              " Row(long=-117.09, lati=32.63, housing_median_age=27.0, total_rooms=2920.0, total_bedrooms=770.0, population=1935.0, households=746.0, median_income=2.4148, median_house_value=67500.0),\n",
              " Row(long=-117.09, lati=32.62, housing_median_age=37.0, total_rooms=1925.0, total_bedrooms=428.0, population=1344.0, households=426.0, median_income=2.4866, median_house_value=129700.0),\n",
              " Row(long=-117.09, lati=32.62, housing_median_age=34.0, total_rooms=1576.0, total_bedrooms=364.0, population=1153.0, households=381.0, median_income=2.1955, median_house_value=129700.0),\n",
              " Row(long=-117.09, lati=32.61, housing_median_age=23.0, total_rooms=1157.0, total_bedrooms=309.0, population=640.0, households=313.0, median_income=2.1548, median_house_value=118800.0),\n",
              " Row(long=-117.09, lati=32.61, housing_median_age=21.0, total_rooms=1945.0, total_bedrooms=430.0, population=1335.0, households=419.0, median_income=3.6467, median_house_value=113000.0),\n",
              " Row(long=-117.09, lati=32.58, housing_median_age=12.0, total_rooms=2565.0, total_bedrooms=567.0, population=1785.0, households=545.0, median_income=3.0273, median_house_value=135300.0),\n",
              " Row(long=-117.09, lati=32.57, housing_median_age=23.0, total_rooms=1817.0, total_bedrooms=323.0, population=1371.0, households=327.0, median_income=3.6736, median_house_value=139500.0),\n",
              " Row(long=-117.09, lati=32.57, housing_median_age=17.0, total_rooms=444.0, total_bedrooms=83.0, population=357.0, households=87.0, median_income=5.1478, median_house_value=138900.0),\n",
              " Row(long=-117.09, lati=32.57, housing_median_age=10.0, total_rooms=2198.0, total_bedrooms=368.0, population=1645.0, households=350.0, median_income=4.5547, median_house_value=160700.0),\n",
              " Row(long=-117.09, lati=32.55, housing_median_age=8.0, total_rooms=6533.0, total_bedrooms=1217.0, population=4797.0, households=1177.0, median_income=3.9583, median_house_value=144400.0),\n",
              " Row(long=-117.1, lati=34.57, housing_median_age=6.0, total_rooms=5110.0, total_bedrooms=1044.0, population=1938.0, households=724.0, median_income=3.1917, median_house_value=112800.0),\n",
              " Row(long=-117.1, lati=34.21, housing_median_age=22.0, total_rooms=4397.0, total_bedrooms=931.0, population=1145.0, households=445.0, median_income=4.5268, median_house_value=108400.0),\n",
              " Row(long=-117.1, lati=34.03, housing_median_age=24.0, total_rooms=4144.0, total_bedrooms=826.0, population=2127.0, households=772.0, median_income=2.5172, median_house_value=96000.0),\n",
              " Row(long=-117.1, lati=33.56, housing_median_age=6.0, total_rooms=1868.0, total_bedrooms=289.0, population=750.0, households=247.0, median_income=4.3833, median_house_value=307600.0),\n",
              " ...]"
            ]
          },
          "metadata": {},
          "execution_count": 72
        }
      ]
    },
    {
      "cell_type": "markdown",
      "source": [
        "# Session 3"
      ],
      "metadata": {
        "id": "9k0f-tudDu49"
      }
    },
    {
      "cell_type": "code",
      "source": [
        "# from pyspark.sql import SparkSession\n",
        "\n",
        "from pyspark.sql import SparkSession"
      ],
      "metadata": {
        "id": "Q7lTtjPnv1ps"
      },
      "execution_count": 4,
      "outputs": []
    },
    {
      "cell_type": "code",
      "source": [
        "# spark = SparkSession.builder.appName('pyspark_practise').getOrCreate()\n",
        "\n",
        "spark = SparkSession.builder.appName('practise_session').getOrCreate()"
      ],
      "metadata": {
        "id": "nLcDfGWtv-Ig"
      },
      "execution_count": 5,
      "outputs": []
    },
    {
      "cell_type": "code",
      "source": [
        "df_py = spark.read.csv('/content/sample_data/california_housing_test.csv')"
      ],
      "metadata": {
        "id": "mc9EOxCRv-En"
      },
      "execution_count": 6,
      "outputs": []
    },
    {
      "cell_type": "code",
      "source": [
        "df_py = spark.read.csv('/content/test2.csv')"
      ],
      "metadata": {
        "id": "os-5HSCQv-Cg"
      },
      "execution_count": 8,
      "outputs": []
    },
    {
      "cell_type": "code",
      "source": [
        "df_py.printSchema()"
      ],
      "metadata": {
        "id": "8fNPv6eOv9-h",
        "colab": {
          "base_uri": "https://localhost:8080/"
        },
        "outputId": "655b0c78-3445-4370-a17d-09e2134e8a24"
      },
      "execution_count": 9,
      "outputs": [
        {
          "output_type": "stream",
          "name": "stdout",
          "text": [
            "root\n",
            " |-- _c0: string (nullable = true)\n",
            " |-- _c1: string (nullable = true)\n",
            " |-- _c2: string (nullable = true)\n",
            " |-- _c3: string (nullable = true)\n",
            "\n"
          ]
        }
      ]
    },
    {
      "cell_type": "code",
      "source": [
        "df_py = spark.read.csv('/content/test2.csv', header = True, inferSchema = True)"
      ],
      "metadata": {
        "id": "pnbAs9zCv98M"
      },
      "execution_count": 10,
      "outputs": []
    },
    {
      "cell_type": "code",
      "source": [
        "df_py.printSchema()"
      ],
      "metadata": {
        "id": "cmcZqvgAv94K",
        "colab": {
          "base_uri": "https://localhost:8080/"
        },
        "outputId": "9ec7bc37-88b3-4ea3-a0aa-64ae64a8b3b7"
      },
      "execution_count": 11,
      "outputs": [
        {
          "output_type": "stream",
          "name": "stdout",
          "text": [
            "root\n",
            " |-- Name: string (nullable = true)\n",
            " |-- Age: integer (nullable = true)\n",
            " |-- Exp: integer (nullable = true)\n",
            " |-- Salary: integer (nullable = true)\n",
            "\n"
          ]
        }
      ]
    },
    {
      "cell_type": "code",
      "source": [
        "df_py.show()"
      ],
      "metadata": {
        "id": "7EavfSu3v91i",
        "colab": {
          "base_uri": "https://localhost:8080/"
        },
        "outputId": "b8a429d5-cbc7-4864-999e-e5f615094d3c"
      },
      "execution_count": 12,
      "outputs": [
        {
          "output_type": "stream",
          "name": "stdout",
          "text": [
            "+---------+----+----+------+\n",
            "|     Name| Age| Exp|Salary|\n",
            "+---------+----+----+------+\n",
            "|    Krish|  31|  10| 30000|\n",
            "|Sudhanshu|  30|   8| 25000|\n",
            "|    Sunny|  29|   4| 20000|\n",
            "|     Paul|  24|   3| 20000|\n",
            "|   Harsha|  21|   1| 15000|\n",
            "|  Shubham|  23|   2| 18000|\n",
            "|   Mahesh|null|null| 40000|\n",
            "|     null|  34|  10| 38000|\n",
            "|     null|  36|null|  null|\n",
            "+---------+----+----+------+\n",
            "\n"
          ]
        }
      ]
    },
    {
      "cell_type": "code",
      "source": [
        "# drop the columns\n",
        "\n",
        "df_py.drop('Age').show()"
      ],
      "metadata": {
        "id": "muEYYyhsv9wz",
        "colab": {
          "base_uri": "https://localhost:8080/"
        },
        "outputId": "84c41162-0dbf-4b79-bdf8-69ee450b60a0"
      },
      "execution_count": 13,
      "outputs": [
        {
          "output_type": "stream",
          "name": "stdout",
          "text": [
            "+---------+----+------+\n",
            "|     Name| Exp|Salary|\n",
            "+---------+----+------+\n",
            "|    Krish|  10| 30000|\n",
            "|Sudhanshu|   8| 25000|\n",
            "|    Sunny|   4| 20000|\n",
            "|     Paul|   3| 20000|\n",
            "|   Harsha|   1| 15000|\n",
            "|  Shubham|   2| 18000|\n",
            "|   Mahesh|null| 40000|\n",
            "|     null|  10| 38000|\n",
            "|     null|null|  null|\n",
            "+---------+----+------+\n",
            "\n"
          ]
        }
      ]
    },
    {
      "cell_type": "code",
      "source": [
        "df_py.show()"
      ],
      "metadata": {
        "id": "GAQOPPYUv9ty",
        "colab": {
          "base_uri": "https://localhost:8080/"
        },
        "outputId": "ea9fede6-0762-46c7-e24b-33488eafb02f"
      },
      "execution_count": 14,
      "outputs": [
        {
          "output_type": "stream",
          "name": "stdout",
          "text": [
            "+---------+----+----+------+\n",
            "|     Name| Age| Exp|Salary|\n",
            "+---------+----+----+------+\n",
            "|    Krish|  31|  10| 30000|\n",
            "|Sudhanshu|  30|   8| 25000|\n",
            "|    Sunny|  29|   4| 20000|\n",
            "|     Paul|  24|   3| 20000|\n",
            "|   Harsha|  21|   1| 15000|\n",
            "|  Shubham|  23|   2| 18000|\n",
            "|   Mahesh|null|null| 40000|\n",
            "|     null|  34|  10| 38000|\n",
            "|     null|  36|null|  null|\n",
            "+---------+----+----+------+\n",
            "\n"
          ]
        }
      ]
    },
    {
      "cell_type": "code",
      "source": [
        "# drop columns with null values\n",
        "\n",
        "df_py.na.drop().show()\n",
        "\n",
        "# df_py.na.drop().show()"
      ],
      "metadata": {
        "id": "n35iQCihv9pv",
        "colab": {
          "base_uri": "https://localhost:8080/"
        },
        "outputId": "8b750717-2a5a-4abc-9523-8ee04902f36f"
      },
      "execution_count": null,
      "outputs": [
        {
          "output_type": "stream",
          "name": "stdout",
          "text": [
            "+---------+---+---+------+\n",
            "|     Name|Age|Exp|Salary|\n",
            "+---------+---+---+------+\n",
            "|    Krish| 31| 10| 30000|\n",
            "|Sudhanshu| 30|  8| 25000|\n",
            "|    Sunny| 29|  4| 20000|\n",
            "|     Paul| 24|  3| 20000|\n",
            "|   Harsha| 21|  1| 15000|\n",
            "|  Shubham| 23|  2| 18000|\n",
            "+---------+---+---+------+\n",
            "\n"
          ]
        }
      ]
    },
    {
      "cell_type": "code",
      "source": [
        "df_py.na.drop(how = 'any').show()"
      ],
      "metadata": {
        "id": "wTcAO6_kv9nX",
        "colab": {
          "base_uri": "https://localhost:8080/"
        },
        "outputId": "33f5e6c9-6b4c-4236-f3d1-eb39f019ba59"
      },
      "execution_count": 16,
      "outputs": [
        {
          "output_type": "stream",
          "name": "stdout",
          "text": [
            "+---------+---+---+------+\n",
            "|     Name|Age|Exp|Salary|\n",
            "+---------+---+---+------+\n",
            "|    Krish| 31| 10| 30000|\n",
            "|Sudhanshu| 30|  8| 25000|\n",
            "|    Sunny| 29|  4| 20000|\n",
            "|     Paul| 24|  3| 20000|\n",
            "|   Harsha| 21|  1| 15000|\n",
            "|  Shubham| 23|  2| 18000|\n",
            "+---------+---+---+------+\n",
            "\n"
          ]
        }
      ]
    },
    {
      "cell_type": "code",
      "source": [
        "df_py.na.drop(how = 'all').show()"
      ],
      "metadata": {
        "id": "Jj2eBLFtv9jI",
        "colab": {
          "base_uri": "https://localhost:8080/"
        },
        "outputId": "43746b42-70b4-4ed4-a56f-51d64e287a72"
      },
      "execution_count": 17,
      "outputs": [
        {
          "output_type": "stream",
          "name": "stdout",
          "text": [
            "+---------+----+----+------+\n",
            "|     Name| Age| Exp|Salary|\n",
            "+---------+----+----+------+\n",
            "|    Krish|  31|  10| 30000|\n",
            "|Sudhanshu|  30|   8| 25000|\n",
            "|    Sunny|  29|   4| 20000|\n",
            "|     Paul|  24|   3| 20000|\n",
            "|   Harsha|  21|   1| 15000|\n",
            "|  Shubham|  23|   2| 18000|\n",
            "|   Mahesh|null|null| 40000|\n",
            "|     null|  34|  10| 38000|\n",
            "|     null|  36|null|  null|\n",
            "+---------+----+----+------+\n",
            "\n"
          ]
        }
      ]
    },
    {
      "cell_type": "code",
      "source": [
        "df_py.na.drop(how = 'any', thresh = 2).show()\n",
        "\n",
        "# df_py.na.drop(how = 'any', thresh = 2).show()"
      ],
      "metadata": {
        "id": "BRajrQkBv9g3",
        "colab": {
          "base_uri": "https://localhost:8080/"
        },
        "outputId": "54bbfb92-dd5f-40c0-a636-f9b5a801aba2"
      },
      "execution_count": 18,
      "outputs": [
        {
          "output_type": "stream",
          "name": "stdout",
          "text": [
            "+---------+----+----+------+\n",
            "|     Name| Age| Exp|Salary|\n",
            "+---------+----+----+------+\n",
            "|    Krish|  31|  10| 30000|\n",
            "|Sudhanshu|  30|   8| 25000|\n",
            "|    Sunny|  29|   4| 20000|\n",
            "|     Paul|  24|   3| 20000|\n",
            "|   Harsha|  21|   1| 15000|\n",
            "|  Shubham|  23|   2| 18000|\n",
            "|   Mahesh|null|null| 40000|\n",
            "|     null|  34|  10| 38000|\n",
            "+---------+----+----+------+\n",
            "\n"
          ]
        }
      ]
    },
    {
      "cell_type": "code",
      "source": [
        "df_py.na.drop(how = 'any', thresh = 3).show()"
      ],
      "metadata": {
        "id": "kTpVyvZLv9bw",
        "colab": {
          "base_uri": "https://localhost:8080/"
        },
        "outputId": "626bc90b-00af-404d-cd07-fb8ae0d33fe0"
      },
      "execution_count": null,
      "outputs": [
        {
          "output_type": "stream",
          "name": "stdout",
          "text": [
            "+---------+---+---+------+\n",
            "|     Name|Age|Exp|Salary|\n",
            "+---------+---+---+------+\n",
            "|    Krish| 31| 10| 30000|\n",
            "|Sudhanshu| 30|  8| 25000|\n",
            "|    Sunny| 29|  4| 20000|\n",
            "|     Paul| 24|  3| 20000|\n",
            "|   Harsha| 21|  1| 15000|\n",
            "|  Shubham| 23|  2| 18000|\n",
            "|     null| 34| 10| 38000|\n",
            "+---------+---+---+------+\n",
            "\n"
          ]
        }
      ]
    },
    {
      "cell_type": "code",
      "source": [
        "df_py.na.drop(how = 'any', subset = 'Age').show()"
      ],
      "metadata": {
        "id": "PWVWtv2_v9Zg",
        "colab": {
          "base_uri": "https://localhost:8080/"
        },
        "outputId": "4b8309d7-0c45-436d-a5e4-f4061877cd11"
      },
      "execution_count": null,
      "outputs": [
        {
          "output_type": "stream",
          "name": "stdout",
          "text": [
            "+---------+---+----+------+\n",
            "|     Name|Age| Exp|Salary|\n",
            "+---------+---+----+------+\n",
            "|    Krish| 31|  10| 30000|\n",
            "|Sudhanshu| 30|   8| 25000|\n",
            "|    Sunny| 29|   4| 20000|\n",
            "|     Paul| 24|   3| 20000|\n",
            "|   Harsha| 21|   1| 15000|\n",
            "|  Shubham| 23|   2| 18000|\n",
            "|     null| 34|  10| 38000|\n",
            "|     null| 36|null|  null|\n",
            "+---------+---+----+------+\n",
            "\n"
          ]
        }
      ]
    },
    {
      "cell_type": "code",
      "source": [
        "df_py.na.drop(how = 'any', subset = ['Age', 'Exp']).show()"
      ],
      "metadata": {
        "id": "ByJ37dxgv9U7",
        "colab": {
          "base_uri": "https://localhost:8080/"
        },
        "outputId": "3ec5f670-17c4-44a1-ca7f-1f6f7ae2623b"
      },
      "execution_count": null,
      "outputs": [
        {
          "output_type": "stream",
          "name": "stdout",
          "text": [
            "+---------+---+---+------+\n",
            "|     Name|Age|Exp|Salary|\n",
            "+---------+---+---+------+\n",
            "|    Krish| 31| 10| 30000|\n",
            "|Sudhanshu| 30|  8| 25000|\n",
            "|    Sunny| 29|  4| 20000|\n",
            "|     Paul| 24|  3| 20000|\n",
            "|   Harsha| 21|  1| 15000|\n",
            "|  Shubham| 23|  2| 18000|\n",
            "|     null| 34| 10| 38000|\n",
            "+---------+---+---+------+\n",
            "\n"
          ]
        }
      ]
    },
    {
      "cell_type": "code",
      "source": [
        "df_py.na.drop(how = 'any', subset = ['Name', 'Salary']).show()"
      ],
      "metadata": {
        "id": "8OnJUjwJv9Ro",
        "colab": {
          "base_uri": "https://localhost:8080/"
        },
        "outputId": "23d90605-de71-44fc-d40f-ddc66c45b9a0"
      },
      "execution_count": null,
      "outputs": [
        {
          "output_type": "stream",
          "name": "stdout",
          "text": [
            "+---------+----+----+------+\n",
            "|     Name| Age| Exp|Salary|\n",
            "+---------+----+----+------+\n",
            "|    Krish|  31|  10| 30000|\n",
            "|Sudhanshu|  30|   8| 25000|\n",
            "|    Sunny|  29|   4| 20000|\n",
            "|     Paul|  24|   3| 20000|\n",
            "|   Harsha|  21|   1| 15000|\n",
            "|  Shubham|  23|   2| 18000|\n",
            "|   Mahesh|null|null| 40000|\n",
            "+---------+----+----+------+\n",
            "\n"
          ]
        }
      ]
    },
    {
      "cell_type": "code",
      "source": [
        "# Filling the missing values\n",
        "\n",
        "df_py.show()"
      ],
      "metadata": {
        "id": "S7iMjQfXv9AG",
        "colab": {
          "base_uri": "https://localhost:8080/"
        },
        "outputId": "263bddc0-ed95-4d41-cb89-d0e530c34385"
      },
      "execution_count": 19,
      "outputs": [
        {
          "output_type": "stream",
          "name": "stdout",
          "text": [
            "+---------+----+----+------+\n",
            "|     Name| Age| Exp|Salary|\n",
            "+---------+----+----+------+\n",
            "|    Krish|  31|  10| 30000|\n",
            "|Sudhanshu|  30|   8| 25000|\n",
            "|    Sunny|  29|   4| 20000|\n",
            "|     Paul|  24|   3| 20000|\n",
            "|   Harsha|  21|   1| 15000|\n",
            "|  Shubham|  23|   2| 18000|\n",
            "|   Mahesh|null|null| 40000|\n",
            "|     null|  34|  10| 38000|\n",
            "|     null|  36|null|  null|\n",
            "+---------+----+----+------+\n",
            "\n"
          ]
        }
      ]
    },
    {
      "cell_type": "code",
      "source": [
        "# replacing with string hence not string columns are ignored\n",
        "\n",
        "df_py.na.fill('not known').show()"
      ],
      "metadata": {
        "id": "AUCcngS6v89v",
        "colab": {
          "base_uri": "https://localhost:8080/"
        },
        "outputId": "b5ebae22-feb6-4227-8939-10bdc5c61396"
      },
      "execution_count": 22,
      "outputs": [
        {
          "output_type": "stream",
          "name": "stdout",
          "text": [
            "+---------+----+----+------+\n",
            "|     Name| Age| Exp|Salary|\n",
            "+---------+----+----+------+\n",
            "|    Krish|  31|  10| 30000|\n",
            "|Sudhanshu|  30|   8| 25000|\n",
            "|    Sunny|  29|   4| 20000|\n",
            "|     Paul|  24|   3| 20000|\n",
            "|   Harsha|  21|   1| 15000|\n",
            "|  Shubham|  23|   2| 18000|\n",
            "|   Mahesh|null|null| 40000|\n",
            "|not known|  34|  10| 38000|\n",
            "|not known|  36|null|  null|\n",
            "+---------+----+----+------+\n",
            "\n"
          ]
        }
      ]
    },
    {
      "cell_type": "code",
      "source": [
        "df_py.na.fill(0, ['Age', 'Exp']).show()"
      ],
      "metadata": {
        "id": "nDLAbPNYv85Z",
        "colab": {
          "base_uri": "https://localhost:8080/"
        },
        "outputId": "23dcde35-25d1-4b1a-c941-522f68d51ad8"
      },
      "execution_count": 24,
      "outputs": [
        {
          "output_type": "stream",
          "name": "stdout",
          "text": [
            "+---------+---+---+------+\n",
            "|     Name|Age|Exp|Salary|\n",
            "+---------+---+---+------+\n",
            "|    Krish| 31| 10| 30000|\n",
            "|Sudhanshu| 30|  8| 25000|\n",
            "|    Sunny| 29|  4| 20000|\n",
            "|     Paul| 24|  3| 20000|\n",
            "|   Harsha| 21|  1| 15000|\n",
            "|  Shubham| 23|  2| 18000|\n",
            "|   Mahesh|  0|  0| 40000|\n",
            "|     null| 34| 10| 38000|\n",
            "|     null| 36|  0|  null|\n",
            "+---------+---+---+------+\n",
            "\n"
          ]
        }
      ]
    },
    {
      "cell_type": "code",
      "source": [
        "df_py.na.fill({'Name': 'missing', 'Age': 0, 'Exp': 0, 'salary': 0}).show()"
      ],
      "metadata": {
        "id": "cSC1Jc-uv82p",
        "colab": {
          "base_uri": "https://localhost:8080/"
        },
        "outputId": "d89d3fe6-437a-4426-8df6-9f642686c53f"
      },
      "execution_count": 27,
      "outputs": [
        {
          "output_type": "stream",
          "name": "stdout",
          "text": [
            "+---------+---+---+------+\n",
            "|     Name|Age|Exp|Salary|\n",
            "+---------+---+---+------+\n",
            "|    Krish| 31| 10| 30000|\n",
            "|Sudhanshu| 30|  8| 25000|\n",
            "|    Sunny| 29|  4| 20000|\n",
            "|     Paul| 24|  3| 20000|\n",
            "|   Harsha| 21|  1| 15000|\n",
            "|  Shubham| 23|  2| 18000|\n",
            "|   Mahesh|  0|  0| 40000|\n",
            "|  missing| 34| 10| 38000|\n",
            "|  missing| 36|  0|     0|\n",
            "+---------+---+---+------+\n",
            "\n"
          ]
        }
      ]
    },
    {
      "cell_type": "code",
      "source": [
        "from pyspark.ml.feature import Imputer"
      ],
      "metadata": {
        "id": "rJFudIEoeJSJ"
      },
      "execution_count": 28,
      "outputs": []
    },
    {
      "cell_type": "code",
      "source": [
        "imputer = Imputer(\n",
        "    inputCols=['Age', 'Exp', 'Salary'], \n",
        "    outputCols=[\"{}_imputed\".format(c) for c in ['Age', 'Exp', 'Salary']]\n",
        "    ).setStrategy(\"mean\")"
      ],
      "metadata": {
        "id": "B2bql_QYeqvp"
      },
      "execution_count": 32,
      "outputs": []
    },
    {
      "cell_type": "code",
      "source": [
        "imputer.fit(df_py).transform(df_py).show()"
      ],
      "metadata": {
        "colab": {
          "base_uri": "https://localhost:8080/"
        },
        "id": "rAkxi4fYgeFl",
        "outputId": "b046d31f-4e0c-4d4a-8eed-08b1f39c909c"
      },
      "execution_count": 33,
      "outputs": [
        {
          "output_type": "stream",
          "name": "stdout",
          "text": [
            "+---------+----+----+------+-----------+-----------+--------------+\n",
            "|     Name| Age| Exp|Salary|Age_imputed|Exp_imputed|Salary_imputed|\n",
            "+---------+----+----+------+-----------+-----------+--------------+\n",
            "|    Krish|  31|  10| 30000|         31|         10|         30000|\n",
            "|Sudhanshu|  30|   8| 25000|         30|          8|         25000|\n",
            "|    Sunny|  29|   4| 20000|         29|          4|         20000|\n",
            "|     Paul|  24|   3| 20000|         24|          3|         20000|\n",
            "|   Harsha|  21|   1| 15000|         21|          1|         15000|\n",
            "|  Shubham|  23|   2| 18000|         23|          2|         18000|\n",
            "|   Mahesh|null|null| 40000|         28|          5|         40000|\n",
            "|     null|  34|  10| 38000|         34|         10|         38000|\n",
            "|     null|  36|null|  null|         36|          5|         25750|\n",
            "+---------+----+----+------+-----------+-----------+--------------+\n",
            "\n"
          ]
        }
      ]
    },
    {
      "cell_type": "code",
      "source": [
        "imputer = Imputer(\n",
        "    inputCols=['Age', 'Exp', 'Salary'], \n",
        "    outputCols=['Age1', 'Exp1', 'Salary1'],\n",
        "    strategy = 'median'\n",
        ")"
      ],
      "metadata": {
        "id": "s2NRq9J0fkiz"
      },
      "execution_count": 59,
      "outputs": []
    },
    {
      "cell_type": "code",
      "source": [
        "model = imputer.fit(df_py)"
      ],
      "metadata": {
        "id": "0dI4UjVMgjmG"
      },
      "execution_count": 60,
      "outputs": []
    },
    {
      "cell_type": "code",
      "source": [
        "# imputer.fit(df_py).transform(df_py)\n",
        "\n",
        "model.transform(df_py)"
      ],
      "metadata": {
        "colab": {
          "base_uri": "https://localhost:8080/"
        },
        "id": "hkmu2aueg0_a",
        "outputId": "f5095b10-414b-40d6-99b0-1a32dd023571"
      },
      "execution_count": 61,
      "outputs": [
        {
          "output_type": "execute_result",
          "data": {
            "text/plain": [
              "DataFrame[Name: string, Age: int, Exp: int, Salary: int, Age1: int, Exp1: int, Salary1: int]"
            ]
          },
          "metadata": {},
          "execution_count": 61
        }
      ]
    },
    {
      "cell_type": "code",
      "source": [
        "model.transform(df_py).show()"
      ],
      "metadata": {
        "colab": {
          "base_uri": "https://localhost:8080/"
        },
        "id": "czD9nds9hZp1",
        "outputId": "9059e9a2-839a-4539-df17-fc5b9443e937"
      },
      "execution_count": 62,
      "outputs": [
        {
          "output_type": "stream",
          "name": "stdout",
          "text": [
            "+---------+----+----+------+----+----+-------+\n",
            "|     Name| Age| Exp|Salary|Age1|Exp1|Salary1|\n",
            "+---------+----+----+------+----+----+-------+\n",
            "|    Krish|  31|  10| 30000|  31|  10|  30000|\n",
            "|Sudhanshu|  30|   8| 25000|  30|   8|  25000|\n",
            "|    Sunny|  29|   4| 20000|  29|   4|  20000|\n",
            "|     Paul|  24|   3| 20000|  24|   3|  20000|\n",
            "|   Harsha|  21|   1| 15000|  21|   1|  15000|\n",
            "|  Shubham|  23|   2| 18000|  23|   2|  18000|\n",
            "|   Mahesh|null|null| 40000|  29|   4|  40000|\n",
            "|     null|  34|  10| 38000|  34|  10|  38000|\n",
            "|     null|  36|null|  null|  36|   4|  20000|\n",
            "+---------+----+----+------+----+----+-------+\n",
            "\n"
          ]
        }
      ]
    },
    {
      "cell_type": "code",
      "source": [],
      "metadata": {
        "id": "N14ckPuPjW4G"
      },
      "execution_count": null,
      "outputs": []
    }
  ]
}